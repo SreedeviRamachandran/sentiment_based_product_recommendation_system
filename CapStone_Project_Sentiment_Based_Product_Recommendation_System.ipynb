{
 "cells": [
  {
   "cell_type": "markdown",
   "id": "482e9f9d",
   "metadata": {},
   "source": [
    "# Sentiment Based Product Recommendation System"
   ]
  },
  {
   "cell_type": "markdown",
   "id": "1e076862",
   "metadata": {},
   "source": [
    "Ebuss has captured a huge market share in many fields, and it sells the products in various categories such as household essentials, books, personal care products, medicines, cosmetic items, beauty products, electrical appliances, kitchen and dining products and health care products.\n",
    "\n",
    "With the advancement in technology, it is imperative for Ebuss to grow quickly in the e-commerce market to become a major leader in the market because it has to compete with the likes of Amazon, Flipkart, etc., which are already market leaders.\n",
    "\n",
    "As a senior ML Engineer, you are asked to build a model that will improve the recommendations given to the users given their past reviews and ratings. \n",
    "\n",
    "In order to do this, you planned to build a sentiment-based product recommendation system, which includes the following tasks:\n",
    "\n",
    "- Data sourcing and sentiment analysis\n",
    "- Building a recommendation system\n",
    "- Improving the recommendations using the sentiment analysis model\n",
    "- Deploying the end-to-end project with a user interface"
   ]
  },
  {
   "cell_type": "markdown",
   "id": "2fac9688",
   "metadata": {},
   "source": [
    "## 1. Data sourcing and sentiment analysis"
   ]
  },
  {
   "cell_type": "markdown",
   "id": "e331195e",
   "metadata": {},
   "source": [
    "### Import Libraries"
   ]
  },
  {
   "cell_type": "code",
   "execution_count": 2,
   "id": "7530deca",
   "metadata": {},
   "outputs": [],
   "source": [
    "#import warnings\n",
    "import warnings\n",
    "warnings.filterwarnings('ignore')"
   ]
  },
  {
   "cell_type": "code",
   "execution_count": 3,
   "id": "e990fe8c",
   "metadata": {},
   "outputs": [],
   "source": [
    "import pandas as pd\n",
    "import numpy as np\n",
    "import matplotlib.pyplot as plt\n",
    "import seaborn as sns\n",
    "import re, spacy, string\n",
    "import en_core_web_sm\n",
    "from nltk.corpus import stopwords\n",
    "nlp = spacy.load(\"en_core_web_sm\")"
   ]
  },
  {
   "cell_type": "code",
   "execution_count": 4,
   "id": "e1b6a5ff",
   "metadata": {},
   "outputs": [
    {
     "name": "stderr",
     "output_type": "stream",
     "text": [
      "[nltk_data] Downloading package stopwords to\n",
      "[nltk_data]     C:\\Users\\Dhanjith\\AppData\\Roaming\\nltk_data...\n",
      "[nltk_data]   Package stopwords is already up-to-date!\n",
      "[nltk_data] Downloading package punkt to\n",
      "[nltk_data]     C:\\Users\\Dhanjith\\AppData\\Roaming\\nltk_data...\n",
      "[nltk_data]   Package punkt is already up-to-date!\n",
      "[nltk_data] Downloading package wordnet to\n",
      "[nltk_data]     C:\\Users\\Dhanjith\\AppData\\Roaming\\nltk_data...\n",
      "[nltk_data]   Package wordnet is already up-to-date!\n",
      "[nltk_data] Downloading package omw-1.4 to\n",
      "[nltk_data]     C:\\Users\\Dhanjith\\AppData\\Roaming\\nltk_data...\n",
      "[nltk_data]   Package omw-1.4 is already up-to-date!\n"
     ]
    },
    {
     "data": {
      "text/plain": [
       "True"
      ]
     },
     "execution_count": 4,
     "metadata": {},
     "output_type": "execute_result"
    }
   ],
   "source": [
    "import nltk\n",
    "nltk.download('stopwords')\n",
    "nltk.download('punkt')\n",
    "nltk.download('wordnet')\n",
    "nltk.download('omw-1.4')"
   ]
  },
  {
   "cell_type": "code",
   "execution_count": 5,
   "id": "8ffb0672",
   "metadata": {},
   "outputs": [
    {
     "name": "stdout",
     "output_type": "stream",
     "text": [
      "Requirement already satisfied: wordcloud in c:\\users\\dhanjith\\anaconda3\\lib\\site-packages (1.9.3)\n",
      "Requirement already satisfied: numpy>=1.6.1 in c:\\users\\dhanjith\\anaconda3\\lib\\site-packages (from wordcloud) (1.21.5)\n",
      "Requirement already satisfied: pillow in c:\\users\\dhanjith\\anaconda3\\lib\\site-packages (from wordcloud) (10.2.0)\n",
      "Requirement already satisfied: matplotlib in c:\\users\\dhanjith\\anaconda3\\lib\\site-packages (from wordcloud) (3.5.1)\n",
      "Requirement already satisfied: cycler>=0.10 in c:\\users\\dhanjith\\anaconda3\\lib\\site-packages (from matplotlib->wordcloud) (0.11.0)\n",
      "Requirement already satisfied: fonttools>=4.22.0 in c:\\users\\dhanjith\\anaconda3\\lib\\site-packages (from matplotlib->wordcloud) (4.25.0)\n",
      "Requirement already satisfied: kiwisolver>=1.0.1 in c:\\users\\dhanjith\\anaconda3\\lib\\site-packages (from matplotlib->wordcloud) (1.3.2)\n",
      "Requirement already satisfied: packaging>=20.0 in c:\\users\\dhanjith\\anaconda3\\lib\\site-packages (from matplotlib->wordcloud) (21.3)\n",
      "Requirement already satisfied: pyparsing>=2.2.1 in c:\\users\\dhanjith\\anaconda3\\lib\\site-packages (from matplotlib->wordcloud) (3.0.4)\n",
      "Requirement already satisfied: python-dateutil>=2.7 in c:\\users\\dhanjith\\anaconda3\\lib\\site-packages (from matplotlib->wordcloud) (2.8.2)\n",
      "Requirement already satisfied: six>=1.5 in c:\\users\\dhanjith\\anaconda3\\lib\\site-packages (from python-dateutil>=2.7->matplotlib->wordcloud) (1.16.0)\n"
     ]
    },
    {
     "name": "stderr",
     "output_type": "stream",
     "text": [
      "\n",
      "[notice] A new release of pip is available: 23.2.1 -> 23.3.2\n",
      "[notice] To update, run: python.exe -m pip install --upgrade pip\n"
     ]
    }
   ],
   "source": [
    "!pip install wordcloud"
   ]
  },
  {
   "cell_type": "code",
   "execution_count": 6,
   "id": "01f5e3dd",
   "metadata": {},
   "outputs": [
    {
     "name": "stdout",
     "output_type": "stream",
     "text": [
      "Requirement already satisfied: Pillow in c:\\users\\dhanjith\\anaconda3\\lib\\site-packages (10.2.0)\n"
     ]
    },
    {
     "name": "stderr",
     "output_type": "stream",
     "text": [
      "\n",
      "[notice] A new release of pip is available: 23.2.1 -> 23.3.2\n",
      "[notice] To update, run: python.exe -m pip install --upgrade pip\n"
     ]
    }
   ],
   "source": [
    "!pip install Pillow"
   ]
  },
  {
   "cell_type": "markdown",
   "id": "ec32ac32",
   "metadata": {},
   "source": [
    "### Data Cleaning"
   ]
  },
  {
   "cell_type": "code",
   "execution_count": 68,
   "id": "8763393b",
   "metadata": {},
   "outputs": [],
   "source": [
    "data = pd.read_csv(\"sample30.csv\")"
   ]
  },
  {
   "cell_type": "code",
   "execution_count": 69,
   "id": "ac50caba",
   "metadata": {},
   "outputs": [],
   "source": [
    "#Common functions\n",
    "\n",
    "# Created a function to avoid writing duplicate code, the above 2 graphs have been clubbed into the below function\n",
    "def eda_graph(column1): \n",
    "    rot_cols=['NAME_INCOME_TYPE','NAME_EDUCATION_TYPE','NAME_FAMILY_STATUS','NAME_HOUSING_TYPE','OCCUPATION_TYPE']\n",
    "    ax= sns.countplot(x=column1,hue='user_sentiment_flag',data=data,palette=[\"r\",\"g\"])  \n",
    "    if column1 in rot_cols:\n",
    "        plt.setp(ax.get_xticklabels(), rotation=90)\n",
    "    else:\n",
    "        plt.xticks(rotation=0)\n",
    "    ax.legend(loc=1)\n",
    "    bar1=(data[[column1,'user_sentiment']].groupby(by=column1).mean().sort_values(by='user_sentiment',ascending=False)*100).plot.bar()\n",
    "    if column1 in rot_cols:\n",
    "        plt.xticks(rotation=90)\n",
    "    else:\n",
    "        plt.xticks(rotation=0)    \n",
    "    plt.ylabel('Percentage of defaulters')\n",
    "    bar1.legend_.remove()\n",
    "    plt.show()"
   ]
  },
  {
   "cell_type": "code",
   "execution_count": 70,
   "id": "cc7233b6",
   "metadata": {},
   "outputs": [
    {
     "data": {
      "text/html": [
       "<div>\n",
       "<style scoped>\n",
       "    .dataframe tbody tr th:only-of-type {\n",
       "        vertical-align: middle;\n",
       "    }\n",
       "\n",
       "    .dataframe tbody tr th {\n",
       "        vertical-align: top;\n",
       "    }\n",
       "\n",
       "    .dataframe thead th {\n",
       "        text-align: right;\n",
       "    }\n",
       "</style>\n",
       "<table border=\"1\" class=\"dataframe\">\n",
       "  <thead>\n",
       "    <tr style=\"text-align: right;\">\n",
       "      <th></th>\n",
       "      <th>id</th>\n",
       "      <th>brand</th>\n",
       "      <th>categories</th>\n",
       "      <th>manufacturer</th>\n",
       "      <th>name</th>\n",
       "      <th>reviews_date</th>\n",
       "      <th>reviews_didPurchase</th>\n",
       "      <th>reviews_doRecommend</th>\n",
       "      <th>reviews_rating</th>\n",
       "      <th>reviews_text</th>\n",
       "      <th>reviews_title</th>\n",
       "      <th>reviews_userCity</th>\n",
       "      <th>reviews_userProvince</th>\n",
       "      <th>reviews_username</th>\n",
       "      <th>user_sentiment</th>\n",
       "    </tr>\n",
       "  </thead>\n",
       "  <tbody>\n",
       "    <tr>\n",
       "      <th>0</th>\n",
       "      <td>AV13O1A8GV-KLJ3akUyj</td>\n",
       "      <td>Universal Music</td>\n",
       "      <td>Movies, Music &amp; Books,Music,R&amp;b,Movies &amp; TV,Mo...</td>\n",
       "      <td>Universal Music Group / Cash Money</td>\n",
       "      <td>Pink Friday: Roman Reloaded Re-Up (w/dvd)</td>\n",
       "      <td>2012-11-30T06:21:45.000Z</td>\n",
       "      <td>NaN</td>\n",
       "      <td>NaN</td>\n",
       "      <td>5</td>\n",
       "      <td>i love this album. it's very good. more to the...</td>\n",
       "      <td>Just Awesome</td>\n",
       "      <td>Los Angeles</td>\n",
       "      <td>NaN</td>\n",
       "      <td>joshua</td>\n",
       "      <td>Positive</td>\n",
       "    </tr>\n",
       "    <tr>\n",
       "      <th>1</th>\n",
       "      <td>AV14LG0R-jtxr-f38QfS</td>\n",
       "      <td>Lundberg</td>\n",
       "      <td>Food,Packaged Foods,Snacks,Crackers,Snacks, Co...</td>\n",
       "      <td>Lundberg</td>\n",
       "      <td>Lundberg Organic Cinnamon Toast Rice Cakes</td>\n",
       "      <td>2017-07-09T00:00:00.000Z</td>\n",
       "      <td>True</td>\n",
       "      <td>NaN</td>\n",
       "      <td>5</td>\n",
       "      <td>Good flavor. This review was collected as part...</td>\n",
       "      <td>Good</td>\n",
       "      <td>NaN</td>\n",
       "      <td>NaN</td>\n",
       "      <td>dorothy w</td>\n",
       "      <td>Positive</td>\n",
       "    </tr>\n",
       "    <tr>\n",
       "      <th>2</th>\n",
       "      <td>AV14LG0R-jtxr-f38QfS</td>\n",
       "      <td>Lundberg</td>\n",
       "      <td>Food,Packaged Foods,Snacks,Crackers,Snacks, Co...</td>\n",
       "      <td>Lundberg</td>\n",
       "      <td>Lundberg Organic Cinnamon Toast Rice Cakes</td>\n",
       "      <td>2017-07-09T00:00:00.000Z</td>\n",
       "      <td>True</td>\n",
       "      <td>NaN</td>\n",
       "      <td>5</td>\n",
       "      <td>Good flavor.</td>\n",
       "      <td>Good</td>\n",
       "      <td>NaN</td>\n",
       "      <td>NaN</td>\n",
       "      <td>dorothy w</td>\n",
       "      <td>Positive</td>\n",
       "    </tr>\n",
       "    <tr>\n",
       "      <th>3</th>\n",
       "      <td>AV16khLE-jtxr-f38VFn</td>\n",
       "      <td>K-Y</td>\n",
       "      <td>Personal Care,Medicine Cabinet,Lubricant/Sperm...</td>\n",
       "      <td>K-Y</td>\n",
       "      <td>K-Y Love Sensuality Pleasure Gel</td>\n",
       "      <td>2016-01-06T00:00:00.000Z</td>\n",
       "      <td>False</td>\n",
       "      <td>False</td>\n",
       "      <td>1</td>\n",
       "      <td>I read through the reviews on here before look...</td>\n",
       "      <td>Disappointed</td>\n",
       "      <td>NaN</td>\n",
       "      <td>NaN</td>\n",
       "      <td>rebecca</td>\n",
       "      <td>Negative</td>\n",
       "    </tr>\n",
       "    <tr>\n",
       "      <th>4</th>\n",
       "      <td>AV16khLE-jtxr-f38VFn</td>\n",
       "      <td>K-Y</td>\n",
       "      <td>Personal Care,Medicine Cabinet,Lubricant/Sperm...</td>\n",
       "      <td>K-Y</td>\n",
       "      <td>K-Y Love Sensuality Pleasure Gel</td>\n",
       "      <td>2016-12-21T00:00:00.000Z</td>\n",
       "      <td>False</td>\n",
       "      <td>False</td>\n",
       "      <td>1</td>\n",
       "      <td>My husband bought this gel for us. The gel cau...</td>\n",
       "      <td>Irritation</td>\n",
       "      <td>NaN</td>\n",
       "      <td>NaN</td>\n",
       "      <td>walker557</td>\n",
       "      <td>Negative</td>\n",
       "    </tr>\n",
       "  </tbody>\n",
       "</table>\n",
       "</div>"
      ],
      "text/plain": [
       "                     id            brand  \\\n",
       "0  AV13O1A8GV-KLJ3akUyj  Universal Music   \n",
       "1  AV14LG0R-jtxr-f38QfS         Lundberg   \n",
       "2  AV14LG0R-jtxr-f38QfS         Lundberg   \n",
       "3  AV16khLE-jtxr-f38VFn              K-Y   \n",
       "4  AV16khLE-jtxr-f38VFn              K-Y   \n",
       "\n",
       "                                          categories  \\\n",
       "0  Movies, Music & Books,Music,R&b,Movies & TV,Mo...   \n",
       "1  Food,Packaged Foods,Snacks,Crackers,Snacks, Co...   \n",
       "2  Food,Packaged Foods,Snacks,Crackers,Snacks, Co...   \n",
       "3  Personal Care,Medicine Cabinet,Lubricant/Sperm...   \n",
       "4  Personal Care,Medicine Cabinet,Lubricant/Sperm...   \n",
       "\n",
       "                         manufacturer  \\\n",
       "0  Universal Music Group / Cash Money   \n",
       "1                            Lundberg   \n",
       "2                            Lundberg   \n",
       "3                                 K-Y   \n",
       "4                                 K-Y   \n",
       "\n",
       "                                         name              reviews_date  \\\n",
       "0   Pink Friday: Roman Reloaded Re-Up (w/dvd)  2012-11-30T06:21:45.000Z   \n",
       "1  Lundberg Organic Cinnamon Toast Rice Cakes  2017-07-09T00:00:00.000Z   \n",
       "2  Lundberg Organic Cinnamon Toast Rice Cakes  2017-07-09T00:00:00.000Z   \n",
       "3            K-Y Love Sensuality Pleasure Gel  2016-01-06T00:00:00.000Z   \n",
       "4            K-Y Love Sensuality Pleasure Gel  2016-12-21T00:00:00.000Z   \n",
       "\n",
       "  reviews_didPurchase reviews_doRecommend  reviews_rating  \\\n",
       "0                 NaN                 NaN               5   \n",
       "1                True                 NaN               5   \n",
       "2                True                 NaN               5   \n",
       "3               False               False               1   \n",
       "4               False               False               1   \n",
       "\n",
       "                                        reviews_text reviews_title  \\\n",
       "0  i love this album. it's very good. more to the...  Just Awesome   \n",
       "1  Good flavor. This review was collected as part...          Good   \n",
       "2                                       Good flavor.          Good   \n",
       "3  I read through the reviews on here before look...  Disappointed   \n",
       "4  My husband bought this gel for us. The gel cau...    Irritation   \n",
       "\n",
       "  reviews_userCity reviews_userProvince reviews_username user_sentiment  \n",
       "0      Los Angeles                  NaN           joshua       Positive  \n",
       "1              NaN                  NaN        dorothy w       Positive  \n",
       "2              NaN                  NaN        dorothy w       Positive  \n",
       "3              NaN                  NaN          rebecca       Negative  \n",
       "4              NaN                  NaN        walker557       Negative  "
      ]
     },
     "execution_count": 70,
     "metadata": {},
     "output_type": "execute_result"
    }
   ],
   "source": [
    "data.head()"
   ]
  },
  {
   "cell_type": "code",
   "execution_count": 71,
   "id": "d40f751f",
   "metadata": {},
   "outputs": [
    {
     "data": {
      "text/plain": [
       "(30000, 15)"
      ]
     },
     "execution_count": 71,
     "metadata": {},
     "output_type": "execute_result"
    }
   ],
   "source": [
    "data.shape"
   ]
  },
  {
   "cell_type": "code",
   "execution_count": 72,
   "id": "7d51faeb",
   "metadata": {},
   "outputs": [
    {
     "data": {
      "text/plain": [
       "Index(['id', 'brand', 'categories', 'manufacturer', 'name', 'reviews_date',\n",
       "       'reviews_didPurchase', 'reviews_doRecommend', 'reviews_rating',\n",
       "       'reviews_text', 'reviews_title', 'reviews_userCity',\n",
       "       'reviews_userProvince', 'reviews_username', 'user_sentiment'],\n",
       "      dtype='object')"
      ]
     },
     "execution_count": 72,
     "metadata": {},
     "output_type": "execute_result"
    }
   ],
   "source": [
    "data.columns"
   ]
  },
  {
   "cell_type": "code",
   "execution_count": 73,
   "id": "0decfdcc",
   "metadata": {},
   "outputs": [
    {
     "name": "stdout",
     "output_type": "stream",
     "text": [
      "The column id has 0 null values\n",
      "The column brand has 0 null values\n",
      "The column categories has 0 null values\n",
      "The column manufacturer has 141 null values\n",
      "The column name has 0 null values\n",
      "The column reviews_date has 46 null values\n",
      "The column reviews_didPurchase has 14068 null values\n",
      "The column reviews_doRecommend has 2570 null values\n",
      "The column reviews_rating has 0 null values\n",
      "The column reviews_text has 0 null values\n",
      "The column reviews_title has 190 null values\n",
      "The column reviews_userCity has 28071 null values\n",
      "The column reviews_userProvince has 29830 null values\n",
      "The column reviews_username has 63 null values\n",
      "The column user_sentiment has 1 null values\n"
     ]
    }
   ],
   "source": [
    "for i in data.columns:\n",
    "    print(f\"The column {i} has {data[i].isnull().sum()} null values\")"
   ]
  },
  {
   "cell_type": "code",
   "execution_count": 74,
   "id": "3bdd24c1",
   "metadata": {},
   "outputs": [
    {
     "name": "stdout",
     "output_type": "stream",
     "text": [
      "reviews_didPurchase ---- 46.89\n",
      "reviews_userCity ---- 93.57\n",
      "reviews_userProvince ---- 99.43\n"
     ]
    }
   ],
   "source": [
    "#View and drop the columns with null values >= 40%\n",
    "to_delete_columns=[]\n",
    "for i in data.columns:\n",
    "    if round((data[i].isnull().sum()/data.shape[0])*100,2)>40:\n",
    "        print(f\"{i} ---- {round((data[i].isnull().sum()/data.shape[0])*100,2)}\")\n",
    "        to_delete_columns.append(i)"
   ]
  },
  {
   "cell_type": "code",
   "execution_count": 75,
   "id": "7a88f77d",
   "metadata": {},
   "outputs": [],
   "source": [
    "data.drop(axis=1,columns = to_delete_columns, inplace=True)"
   ]
  },
  {
   "cell_type": "code",
   "execution_count": 76,
   "id": "faa371c1",
   "metadata": {
    "scrolled": true
   },
   "outputs": [
    {
     "data": {
      "text/plain": [
       "Index(['id', 'brand', 'categories', 'manufacturer', 'name', 'reviews_date',\n",
       "       'reviews_doRecommend', 'reviews_rating', 'reviews_text',\n",
       "       'reviews_title', 'reviews_username', 'user_sentiment'],\n",
       "      dtype='object')"
      ]
     },
     "execution_count": 76,
     "metadata": {},
     "output_type": "execute_result"
    }
   ],
   "source": [
    "data.columns"
   ]
  },
  {
   "cell_type": "code",
   "execution_count": 77,
   "id": "162dfd9b",
   "metadata": {},
   "outputs": [
    {
     "data": {
      "text/plain": [
       "Summit Entertainment    141\n",
       "Name: brand, dtype: int64"
      ]
     },
     "execution_count": 77,
     "metadata": {},
     "output_type": "execute_result"
    }
   ],
   "source": [
    "data[data['manufacturer'].isnull()]['brand'].value_counts()"
   ]
  },
  {
   "cell_type": "code",
   "execution_count": 78,
   "id": "b7f84bbe",
   "metadata": {},
   "outputs": [],
   "source": [
    "# The manufacturer is empty for all 'Summit Entertaintment' items. Let's replace null with 'Other - Summit' to handle the null values\n",
    "data['manufacturer'].fillna(value='Other-Summit', inplace=True)"
   ]
  },
  {
   "cell_type": "code",
   "execution_count": 79,
   "id": "850a0708",
   "metadata": {},
   "outputs": [
    {
     "data": {
      "text/html": [
       "<div>\n",
       "<style scoped>\n",
       "    .dataframe tbody tr th:only-of-type {\n",
       "        vertical-align: middle;\n",
       "    }\n",
       "\n",
       "    .dataframe tbody tr th {\n",
       "        vertical-align: top;\n",
       "    }\n",
       "\n",
       "    .dataframe thead th {\n",
       "        text-align: right;\n",
       "    }\n",
       "</style>\n",
       "<table border=\"1\" class=\"dataframe\">\n",
       "  <thead>\n",
       "    <tr style=\"text-align: right;\">\n",
       "      <th></th>\n",
       "      <th>id</th>\n",
       "      <th>brand</th>\n",
       "      <th>categories</th>\n",
       "      <th>manufacturer</th>\n",
       "      <th>name</th>\n",
       "      <th>reviews_date</th>\n",
       "      <th>reviews_doRecommend</th>\n",
       "      <th>reviews_rating</th>\n",
       "      <th>reviews_text</th>\n",
       "      <th>reviews_title</th>\n",
       "      <th>reviews_username</th>\n",
       "      <th>user_sentiment</th>\n",
       "    </tr>\n",
       "  </thead>\n",
       "  <tbody>\n",
       "    <tr>\n",
       "      <th>28354</th>\n",
       "      <td>AVpfRTh1ilAPnD_xYic2</td>\n",
       "      <td>Disney</td>\n",
       "      <td>Movies, Music &amp; Books,Movies,Kids' &amp; Family,Wa...</td>\n",
       "      <td>Walt Disney</td>\n",
       "      <td>Planes: Fire Rescue (2 Discs) (includes Digita...</td>\n",
       "      <td>2014-11-07T00:00:00.000Z</td>\n",
       "      <td>True</td>\n",
       "      <td>5</td>\n",
       "      <td>my kids absolutely loved this film so much tha...</td>\n",
       "      <td>a super hit with my children. they loved it!!??</td>\n",
       "      <td>7.87E+11</td>\n",
       "      <td>NaN</td>\n",
       "    </tr>\n",
       "  </tbody>\n",
       "</table>\n",
       "</div>"
      ],
      "text/plain": [
       "                         id   brand  \\\n",
       "28354  AVpfRTh1ilAPnD_xYic2  Disney   \n",
       "\n",
       "                                              categories manufacturer  \\\n",
       "28354  Movies, Music & Books,Movies,Kids' & Family,Wa...  Walt Disney   \n",
       "\n",
       "                                                    name  \\\n",
       "28354  Planes: Fire Rescue (2 Discs) (includes Digita...   \n",
       "\n",
       "                   reviews_date reviews_doRecommend  reviews_rating  \\\n",
       "28354  2014-11-07T00:00:00.000Z                True               5   \n",
       "\n",
       "                                            reviews_text  \\\n",
       "28354  my kids absolutely loved this film so much tha...   \n",
       "\n",
       "                                         reviews_title reviews_username  \\\n",
       "28354  a super hit with my children. they loved it!!??         7.87E+11   \n",
       "\n",
       "      user_sentiment  \n",
       "28354            NaN  "
      ]
     },
     "execution_count": 79,
     "metadata": {},
     "output_type": "execute_result"
    }
   ],
   "source": [
    "data[data['user_sentiment'].isnull()]"
   ]
  },
  {
   "cell_type": "code",
   "execution_count": 80,
   "id": "47eabc38",
   "metadata": {
    "scrolled": true
   },
   "outputs": [
    {
     "data": {
      "text/plain": [
       "Positive    26632\n",
       "Negative     3367\n",
       "Name: user_sentiment, dtype: int64"
      ]
     },
     "execution_count": 80,
     "metadata": {},
     "output_type": "execute_result"
    }
   ],
   "source": [
    "data['user_sentiment'].value_counts()"
   ]
  },
  {
   "cell_type": "code",
   "execution_count": 81,
   "id": "5fda82a9",
   "metadata": {},
   "outputs": [],
   "source": [
    "# User sentiment has only 1 null - updating the value as per reviews_text\n",
    "data['user_sentiment'].fillna(value='Positive', inplace=True)"
   ]
  },
  {
   "cell_type": "code",
   "execution_count": 82,
   "id": "48ebf12e",
   "metadata": {},
   "outputs": [
    {
     "data": {
      "text/plain": [
       "(190, 12)"
      ]
     },
     "execution_count": 82,
     "metadata": {},
     "output_type": "execute_result"
    }
   ],
   "source": [
    "data[data['reviews_title'].isnull()].shape"
   ]
  },
  {
   "cell_type": "code",
   "execution_count": 83,
   "id": "d71faee3",
   "metadata": {},
   "outputs": [
    {
     "data": {
      "text/plain": [
       "Positive    168\n",
       "Negative     22\n",
       "Name: user_sentiment, dtype: int64"
      ]
     },
     "execution_count": 83,
     "metadata": {},
     "output_type": "execute_result"
    }
   ],
   "source": [
    "data[data['reviews_title'].isnull()]['user_sentiment'].value_counts()"
   ]
  },
  {
   "cell_type": "code",
   "execution_count": 84,
   "id": "a1921070",
   "metadata": {},
   "outputs": [],
   "source": [
    "# The null values in review title is updated as per the user sentiment column as Other-Positive or Other-Negative\n",
    "data['reviews_title'].fillna('Other-'+data['user_sentiment'],inplace=True)"
   ]
  },
  {
   "cell_type": "code",
   "execution_count": 85,
   "id": "6aa08e6d",
   "metadata": {},
   "outputs": [
    {
     "data": {
      "text/plain": [
       "(190, 12)"
      ]
     },
     "execution_count": 85,
     "metadata": {},
     "output_type": "execute_result"
    }
   ],
   "source": [
    "data[(data['reviews_title']=='Other-Positive') | (data['reviews_title']=='Other-Negative')].shape"
   ]
  },
  {
   "cell_type": "code",
   "execution_count": 86,
   "id": "413e4084",
   "metadata": {},
   "outputs": [],
   "source": [
    "# reviews_username, reviews_date & id are not very intuitive columns and hence can be removed\n",
    "data.drop(axis=1,columns = ['reviews_username','id','reviews_date'], inplace=True)"
   ]
  },
  {
   "cell_type": "code",
   "execution_count": 87,
   "id": "51426a04",
   "metadata": {},
   "outputs": [
    {
     "name": "stdout",
     "output_type": "stream",
     "text": [
      "reviews_doRecommend ---- 8.57\n"
     ]
    }
   ],
   "source": [
    "for i in data.columns:\n",
    "    if round((data[i].isnull().sum()/data.shape[0])*100,2)>0:\n",
    "        print(f\"{i} ---- {round((data[i].isnull().sum()/data.shape[0])*100,2)}\")"
   ]
  },
  {
   "cell_type": "code",
   "execution_count": 88,
   "id": "3fd75f90",
   "metadata": {},
   "outputs": [
    {
     "data": {
      "text/plain": [
       "(2570, 9)"
      ]
     },
     "execution_count": 88,
     "metadata": {},
     "output_type": "execute_result"
    }
   ],
   "source": [
    "data[data['reviews_doRecommend'].isnull()].shape"
   ]
  },
  {
   "cell_type": "code",
   "execution_count": 89,
   "id": "f9ac413f",
   "metadata": {},
   "outputs": [
    {
     "data": {
      "text/plain": [
       "reviews_doRecommend  user_sentiment\n",
       "True                 Positive          85.665330\n",
       "                     Negative           8.683923\n",
       "False                Positive           3.623770\n",
       "                     Negative           2.026978\n",
       "dtype: float64"
      ]
     },
     "execution_count": 89,
     "metadata": {},
     "output_type": "execute_result"
    }
   ],
   "source": [
    "data[['reviews_doRecommend','user_sentiment']].value_counts(normalize=True)*100"
   ]
  },
  {
   "cell_type": "code",
   "execution_count": 90,
   "id": "f9d8dde7",
   "metadata": {},
   "outputs": [
    {
     "data": {
      "text/plain": [
       "Positive    2141\n",
       "Negative     429\n",
       "Name: user_sentiment, dtype: int64"
      ]
     },
     "execution_count": 90,
     "metadata": {},
     "output_type": "execute_result"
    }
   ],
   "source": [
    "data[data['reviews_doRecommend'].isnull()]['user_sentiment'].value_counts()"
   ]
  },
  {
   "cell_type": "code",
   "execution_count": 91,
   "id": "b55e2572",
   "metadata": {},
   "outputs": [],
   "source": [
    "# As per the findings above, 85% of the Positive sentiment people are bound to recommend, rest of the negative sentiment are not bound to recommend\n",
    "# Hadling the null values in reviews_doRecommend using this logic\n",
    "data['reviews_doRecommend'] = data.apply(\n",
    "            lambda row: 'True' if row['user_sentiment'] == 'Positive' else row['reviews_doRecommend'],\n",
    "            axis=1\n",
    "        )\n",
    "data['reviews_doRecommend'] = data.apply(\n",
    "            lambda row: 'False' if row['user_sentiment'] == 'Negative' else row['reviews_doRecommend'],\n",
    "            axis=1\n",
    "        )"
   ]
  },
  {
   "cell_type": "code",
   "execution_count": 92,
   "id": "7a857307",
   "metadata": {},
   "outputs": [
    {
     "data": {
      "text/plain": [
       "Index(['brand', 'categories', 'manufacturer', 'name', 'reviews_doRecommend',\n",
       "       'reviews_rating', 'reviews_text', 'reviews_title', 'user_sentiment'],\n",
       "      dtype='object')"
      ]
     },
     "execution_count": 92,
     "metadata": {},
     "output_type": "execute_result"
    }
   ],
   "source": [
    "data.columns"
   ]
  },
  {
   "cell_type": "markdown",
   "id": "ec45e269",
   "metadata": {},
   "source": [
    "### Exploratory Data Analysis"
   ]
  },
  {
   "cell_type": "code",
   "execution_count": 93,
   "id": "e4619691",
   "metadata": {},
   "outputs": [],
   "source": [
    "# Setting the user_sentiment to numerical to try and make some graphs out of it\n",
    "data['user_sentiment_flag']=np.where(data.user_sentiment=='Positive',1,0)"
   ]
  },
  {
   "cell_type": "code",
   "execution_count": 94,
   "id": "873650d1",
   "metadata": {},
   "outputs": [
    {
     "data": {
      "image/png": "[encoded data removed]",
      "text/plain": [
       "<Figure size 432x288 with 1 Axes>"
      ]
     },
     "metadata": {
      "needs_background": "light"
     },
     "output_type": "display_data"
    }
   ],
   "source": [
    "### Analyzing the user_sentiment Variable\n",
    "(data.user_sentiment.value_counts(normalize=True)*100).plot.bar()\n",
    "plt.title('User sentiment class imbalance analysis')\n",
    "plt.show()"
   ]
  },
  {
   "cell_type": "markdown",
   "id": "8751f5a4",
   "metadata": {},
   "source": [
    "Insight:\n",
    "    \n",
    "    - It is an unbalanced dataset\n",
    "    - Will require handling of class imbalance"
   ]
  },
  {
   "cell_type": "code",
   "execution_count": 95,
   "id": "ad43df43",
   "metadata": {},
   "outputs": [
    {
     "data": {
      "text/plain": [
       "Clorox                   10585\n",
       "Warner Home Video         3325\n",
       "Disney                    1200\n",
       "L'oreal Paris             1186\n",
       "FOX                        887\n",
       "                         ...  \n",
       "Pacific Natural Foods        1\n",
       "Noosa                        1\n",
       "Southern Enterprises         1\n",
       "SLOAN VALVE COMPANY          1\n",
       "Universal Music              1\n",
       "Name: brand, Length: 214, dtype: int64"
      ]
     },
     "execution_count": 95,
     "metadata": {},
     "output_type": "execute_result"
    }
   ],
   "source": [
    "data['brand'].value_counts(ascending=False)"
   ]
  },
  {
   "cell_type": "code",
   "execution_count": 96,
   "id": "6b9b95a2",
   "metadata": {},
   "outputs": [
    {
     "data": {
      "text/plain": [
       "Clorox                        10585\n",
       "Warner Home Video              3325\n",
       "Disney                         1200\n",
       "L'oreal Paris                  1186\n",
       "FOX                             887\n",
       "Burt's Bees                     881\n",
       "Sony Pictures                   845\n",
       "Summit Entertainment            813\n",
       "Nexxus                          693\n",
       "Universal Home Video            668\n",
       "Olay                            637\n",
       "Warner Bros.                    458\n",
       "Lundberg                        414\n",
       "Clear Scalp & Hair Therapy      372\n",
       "Hoover                          362\n",
       "Windex                          348\n",
       "Avery                           314\n",
       "Aveeno                          313\n",
       "Pendaflex                       310\n",
       "Tostitos                        286\n",
       "Name: brand, dtype: int64"
      ]
     },
     "execution_count": 96,
     "metadata": {},
     "output_type": "execute_result"
    }
   ],
   "source": [
    "data['brand'].value_counts(ascending=False).nlargest(n=20)"
   ]
  },
  {
   "cell_type": "code",
   "execution_count": 97,
   "id": "61ff226a",
   "metadata": {},
   "outputs": [
    {
     "data": {
      "text/plain": [
       "Index(['Clorox', 'Warner Home Video', 'Disney', 'L'oreal Paris', 'FOX',\n",
       "       'Burt's Bees', 'Sony Pictures', 'Summit Entertainment', 'Nexxus',\n",
       "       'Universal Home Video', 'Olay', 'Warner Bros.', 'Lundberg',\n",
       "       'Clear Scalp & Hair Therapy', 'Hoover', 'Windex', 'Avery', 'Aveeno',\n",
       "       'Pendaflex', 'Tostitos'],\n",
       "      dtype='object')"
      ]
     },
     "execution_count": 97,
     "metadata": {},
     "output_type": "execute_result"
    }
   ],
   "source": [
    "data['brand'].value_counts().iloc[:20].index"
   ]
  },
  {
   "cell_type": "code",
   "execution_count": 98,
   "id": "8feacf38",
   "metadata": {},
   "outputs": [
    {
     "data": {
      "image/png": "[encoded data removed]",
      "text/plain": [
       "<Figure size 432x288 with 1 Axes>"
      ]
     },
     "metadata": {
      "needs_background": "light"
     },
     "output_type": "display_data"
    }
   ],
   "source": [
    "(data['brand'].value_counts(ascending=False).nlargest(n=20)).plot.bar()\n",
    "plt.title('Top 20 Brands')\n",
    "plt.show()"
   ]
  },
  {
   "cell_type": "code",
   "execution_count": 99,
   "id": "4f36d6fa",
   "metadata": {},
   "outputs": [
    {
     "data": {
      "image/png": "[encoded data removed]",
      "text/plain": [
       "<Figure size 1080x720 with 1 Axes>"
      ]
     },
     "metadata": {
      "needs_background": "light"
     },
     "output_type": "display_data"
    }
   ],
   "source": [
    "plt.figure(figsize=(15,10))\n",
    "ax = sns.countplot(x='brand',hue='user_sentiment',data=data,order=data['brand'].value_counts().iloc[:20].index,palette=[\"g\",\"r\"]) \n",
    "plt.xticks(rotation='vertical')\n",
    "plt.show()"
   ]
  },
  {
   "cell_type": "code",
   "execution_count": 100,
   "id": "8a5d26ed",
   "metadata": {},
   "outputs": [
    {
     "data": {
      "text/plain": [
       "Clorox                        9608\n",
       "Warner Home Video             3034\n",
       "L'oreal Paris                 1147\n",
       "Disney                        1116\n",
       "Burt's Bees                    776\n",
       "FOX                            759\n",
       "Summit Entertainment           755\n",
       "Sony Pictures                  686\n",
       "Universal Home Video           641\n",
       "Olay                           568\n",
       "Warner Bros.                   420\n",
       "Nexxus                         405\n",
       "Lundberg                       379\n",
       "Hoover                         331\n",
       "Clear Scalp & Hair Therapy     323\n",
       "Avery                          299\n",
       "Windex                         278\n",
       "Storkcraft                     250\n",
       "Pendaflex                      245\n",
       "Tostitos                       236\n",
       "Name: brand, dtype: int64"
      ]
     },
     "execution_count": 100,
     "metadata": {},
     "output_type": "execute_result"
    }
   ],
   "source": [
    "data[data['user_sentiment']=='Positive']['brand'].value_counts().nlargest(n=20)"
   ]
  },
  {
   "cell_type": "code",
   "execution_count": 101,
   "id": "1bbb9237",
   "metadata": {},
   "outputs": [
    {
     "data": {
      "image/png": "[encoded data removed]",
      "text/plain": [
       "<Figure size 432x288 with 1 Axes>"
      ]
     },
     "metadata": {
      "needs_background": "light"
     },
     "output_type": "display_data"
    }
   ],
   "source": [
    "(data[data['user_sentiment']=='Positive']['brand'].value_counts().nlargest(n=20)).plot.bar()\n",
    "plt.title('Top 20 brands with Positive Sentiment')\n",
    "plt.show()"
   ]
  },
  {
   "cell_type": "code",
   "execution_count": 102,
   "id": "6298962b",
   "metadata": {},
   "outputs": [
    {
     "data": {
      "text/plain": [
       "Clorox                        977\n",
       "Warner Home Video             291\n",
       "Nexxus                        288\n",
       "Sony Pictures                 159\n",
       "FOX                           128\n",
       "Burt's Bees                   105\n",
       "Aveeno                         92\n",
       "Disney                         84\n",
       "Windex                         70\n",
       "Olay                           69\n",
       "Pendaflex                      65\n",
       "Summit Entertainment           58\n",
       "Tostitos                       50\n",
       "Clear Scalp & Hair Therapy     49\n",
       "Just For Men                   48\n",
       "Chester's                      42\n",
       "L'oreal Paris                  39\n",
       "Vicks                          39\n",
       "Warner Bros.                   38\n",
       "Hormel                         38\n",
       "Name: brand, dtype: int64"
      ]
     },
     "execution_count": 102,
     "metadata": {},
     "output_type": "execute_result"
    }
   ],
   "source": [
    "data[data['user_sentiment']=='Negative']['brand'].value_counts().nlargest(n=20)"
   ]
  },
  {
   "cell_type": "code",
   "execution_count": 103,
   "id": "f86f22be",
   "metadata": {},
   "outputs": [
    {
     "data": {
      "image/png": "[encoded data removed]",
      "text/plain": [
       "<Figure size 432x288 with 1 Axes>"
      ]
     },
     "metadata": {
      "needs_background": "light"
     },
     "output_type": "display_data"
    }
   ],
   "source": [
    "(data[data['user_sentiment']=='Negative']['brand'].value_counts().nlargest(n=20)).plot.bar()\n",
    "plt.title('Top 20 brands with Negative Sentiment')\n",
    "plt.show()"
   ]
  },
  {
   "cell_type": "code",
   "execution_count": 104,
   "id": "b5da3ca7",
   "metadata": {},
   "outputs": [
    {
     "data": {
      "text/plain": [
       "Clorox                        977\n",
       "Warner Home Video             291\n",
       "Nexxus                        288\n",
       "Sony Pictures                 159\n",
       "FOX                           128\n",
       "Burt's Bees                   105\n",
       "Aveeno                         92\n",
       "Disney                         84\n",
       "Windex                         70\n",
       "Olay                           69\n",
       "Pendaflex                      65\n",
       "Summit Entertainment           58\n",
       "Tostitos                       50\n",
       "Clear Scalp & Hair Therapy     49\n",
       "Just For Men                   48\n",
       "Chester's                      42\n",
       "L'oreal Paris                  39\n",
       "Vicks                          39\n",
       "Warner Bros.                   38\n",
       "Hormel                         38\n",
       "Name: brand, dtype: int64"
      ]
     },
     "execution_count": 104,
     "metadata": {},
     "output_type": "execute_result"
    }
   ],
   "source": [
    "data[data['user_sentiment']=='Negative']['brand'].value_counts().nlargest(n=20)"
   ]
  },
  {
   "cell_type": "markdown",
   "id": "ab56eeec",
   "metadata": {},
   "source": [
    "Insight:\n",
    "    \n",
    "    - The top 10 brands with max Positive reviews: 'Clorox', 'Warner Home Video', 'L'oreal Paris', 'Disney', 'Burt's Bees',\n",
    "       'FOX', 'Summit Entertainment', 'Sony Pictures', 'Universal Home Video', 'Olay'\n",
    "    - The top 10 brands with max Negative reviews: 'Clorox', 'Warner Home Video', 'Nexxus', 'Sony Pictures', 'FOX',\n",
    "       'Burt's Bees', 'Aveeno', 'Disney', 'Windex', 'Olay'"
   ]
  },
  {
   "cell_type": "code",
   "execution_count": 105,
   "id": "902dbd51",
   "metadata": {},
   "outputs": [
    {
     "data": {
      "image/png": "[encoded data removed]",
      "text/plain": [
       "<Figure size 432x288 with 1 Axes>"
      ]
     },
     "metadata": {
      "needs_background": "light"
     },
     "output_type": "display_data"
    }
   ],
   "source": [
    "sns.boxplot(data['reviews_rating'])\n",
    "plt.show()"
   ]
  },
  {
   "cell_type": "code",
   "execution_count": 106,
   "id": "28aab09b",
   "metadata": {},
   "outputs": [
    {
     "data": {
      "text/plain": [
       "5    69.436667\n",
       "4    20.066667\n",
       "1     4.613333\n",
       "3     4.483333\n",
       "2     1.400000\n",
       "Name: reviews_rating, dtype: float64"
      ]
     },
     "execution_count": 106,
     "metadata": {},
     "output_type": "execute_result"
    }
   ],
   "source": [
    "data['reviews_rating'].value_counts(normalize=True)*100"
   ]
  },
  {
   "cell_type": "markdown",
   "id": "91db4600",
   "metadata": {},
   "source": [
    "Insight:\n",
    "    \n",
    "    - As we have already seen from the class imbalance of user sentiment, the ratings are also imbalanced.    \n",
    "    - You can see 89% of the ratings are above 3 rating.\n",
    "    - There is less than 9% of ratings that are equal or less than 3"
   ]
  },
  {
   "cell_type": "code",
   "execution_count": 107,
   "id": "cfcb06c9",
   "metadata": {},
   "outputs": [
    {
     "data": {
      "text/plain": [
       "Clorox                    8546\n",
       "Test                      3325\n",
       "AmazonUs/CLOO7            2039\n",
       "L'oreal Paris             1232\n",
       "Walt Disney               1143\n",
       "Burt's Bees                873\n",
       "SONY CORP                  845\n",
       "Twentieth Century Fox      757\n",
       "P&G                        730\n",
       "Nexxus Beauty Products     693\n",
       "Summit Entertainment       672\n",
       "Universal                  668\n",
       "Lundberg Family Farms      412\n",
       "Clear                      372\n",
       "Hoover                     362\n",
       "Windex                     348\n",
       "Aveeno Baby                313\n",
       "Avery Dennison             313\n",
       "Esselte Corporation        310\n",
       "Tostitos                   265\n",
       "Name: manufacturer, dtype: int64"
      ]
     },
     "execution_count": 107,
     "metadata": {},
     "output_type": "execute_result"
    }
   ],
   "source": [
    "data['manufacturer'].value_counts(ascending=False).nlargest(n=20)"
   ]
  },
  {
   "cell_type": "code",
   "execution_count": 108,
   "id": "b893328d",
   "metadata": {},
   "outputs": [
    {
     "data": {
      "text/plain": [
       "Clorox                    7730\n",
       "Test                      3034\n",
       "AmazonUs/CLOO7            1878\n",
       "L'oreal Paris             1188\n",
       "Walt Disney               1063\n",
       "Burt's Bees                768\n",
       "SONY CORP                  686\n",
       "Twentieth Century Fox      641\n",
       "Universal                  641\n",
       "Summit Entertainment       638\n",
       "P&G                        623\n",
       "Nexxus Beauty Products     405\n",
       "Lundberg Family Farms      377\n",
       "Hoover                     331\n",
       "Clear                      323\n",
       "Avery Dennison             298\n",
       "Windex                     278\n",
       "1200                       250\n",
       "Esselte Corporation        245\n",
       "TIME WARNER                224\n",
       "Name: manufacturer, dtype: int64"
      ]
     },
     "execution_count": 108,
     "metadata": {},
     "output_type": "execute_result"
    }
   ],
   "source": [
    "data[data['user_sentiment']=='Positive']['manufacturer'].value_counts().nlargest(n=20)"
   ]
  },
  {
   "cell_type": "code",
   "execution_count": 109,
   "id": "9ef65145",
   "metadata": {},
   "outputs": [
    {
     "data": {
      "text/plain": [
       "Clorox                    816\n",
       "Test                      291\n",
       "Nexxus Beauty Products    288\n",
       "AmazonUs/CLOO7            161\n",
       "SONY CORP                 159\n",
       "Twentieth Century Fox     116\n",
       "P&G                       107\n",
       "Burt's Bees               105\n",
       "Aveeno Baby                92\n",
       "Walt Disney                80\n",
       "Windex                     70\n",
       "Esselte Corporation        65\n",
       "Tostitos                   49\n",
       "Clear                      49\n",
       "Combe Incorporated         48\n",
       "Frito-Lay                  48\n",
       "L'oreal Paris              44\n",
       "Hormel                     38\n",
       "Lundberg Family Farms      35\n",
       "Summit Entertainment       34\n",
       "Name: manufacturer, dtype: int64"
      ]
     },
     "execution_count": 109,
     "metadata": {},
     "output_type": "execute_result"
    }
   ],
   "source": [
    "data[data['user_sentiment']=='Negative']['manufacturer'].value_counts().nlargest(n=20)"
   ]
  },
  {
   "cell_type": "code",
   "execution_count": 110,
   "id": "42adc830",
   "metadata": {},
   "outputs": [
    {
     "data": {
      "image/png": "[encoded data removed]",
      "text/plain": [
       "<Figure size 432x288 with 1 Axes>"
      ]
     },
     "metadata": {
      "needs_background": "light"
     },
     "output_type": "display_data"
    }
   ],
   "source": [
    "(data[data['user_sentiment']=='Positive']['manufacturer'].value_counts().nlargest(n=20)).plot.bar()\n",
    "plt.title('Top 20 manufacturers with Positive Sentiment')\n",
    "plt.show()"
   ]
  },
  {
   "cell_type": "code",
   "execution_count": 111,
   "id": "3f7bc911",
   "metadata": {},
   "outputs": [
    {
     "data": {
      "image/png": "[encoded data removed]",
      "text/plain": [
       "<Figure size 432x288 with 1 Axes>"
      ]
     },
     "metadata": {
      "needs_background": "light"
     },
     "output_type": "display_data"
    }
   ],
   "source": [
    "(data[data['user_sentiment']=='Negative']['manufacturer'].value_counts().nlargest(n=20)).plot.bar()\n",
    "plt.title('Top 20 manufacturers with Negative Sentiment')\n",
    "plt.show()"
   ]
  },
  {
   "cell_type": "code",
   "execution_count": 112,
   "id": "4ffcaef5",
   "metadata": {},
   "outputs": [
    {
     "data": {
      "image/png": "[encoded data removed]",
      "text/plain": [
       "<Figure size 1080x720 with 1 Axes>"
      ]
     },
     "metadata": {
      "needs_background": "light"
     },
     "output_type": "display_data"
    }
   ],
   "source": [
    "plt.figure(figsize=(15,10))\n",
    "ax = sns.countplot(x='manufacturer',hue='user_sentiment',data=data,order=data['manufacturer'].value_counts().iloc[:20].index,palette=[\"g\",\"r\"]) \n",
    "plt.xticks(rotation='vertical')\n",
    "plt.show()"
   ]
  },
  {
   "cell_type": "markdown",
   "id": "c8283f64",
   "metadata": {},
   "source": [
    "Insight:\n",
    "    \n",
    "    - The top 10 manufacturers with max Positive reviews: 'Clorox', 'Test', 'AmazonUs/CLOO7', 'L'oreal Paris', 'Walt Disney'\n",
    "        ,'Burt's Bees', 'SONY CORP', 'Twentieth Century Fox', 'Universal', 'Summit Entertainment'\n",
    "    - The top 10 manufacturers with max Negative reviews:'Clorox', 'Test', 'Nexxus Beauty Products', 'AmazonUs/CLOO7',\n",
    "       'SONY CORP', 'Twentieth Century Fox', 'P&G', 'Burt's Bees','Aveeno Baby', 'Walt Disney'"
   ]
  },
  {
   "cell_type": "code",
   "execution_count": 113,
   "id": "eab20218",
   "metadata": {},
   "outputs": [
    {
     "data": {
      "text/plain": [
       "Index(['brand', 'categories', 'manufacturer', 'name', 'reviews_doRecommend',\n",
       "       'reviews_rating', 'reviews_text', 'reviews_title', 'user_sentiment',\n",
       "       'user_sentiment_flag'],\n",
       "      dtype='object')"
      ]
     },
     "execution_count": 113,
     "metadata": {},
     "output_type": "execute_result"
    }
   ],
   "source": [
    "data.columns"
   ]
  },
  {
   "cell_type": "code",
   "execution_count": 114,
   "id": "216dc85a",
   "metadata": {},
   "outputs": [
    {
     "data": {
      "text/plain": [
       "Clorox Disinfecting Wipes Value Pack Scented 150 Ct Total                                        8545\n",
       "Godzilla 3d Includes Digital Copy Ultraviolet 3d/2d Blu-Ray/dvd                                  3325\n",
       "Clorox Disinfecting Bathroom Cleaner                                                             2039\n",
       "L'or233al Paris Elvive Extraordinary Clay Rebalancing Conditioner - 12.6 Fl Oz                   1186\n",
       "Planes: Fire Rescue (2 Discs) (includes Digital Copy) (blu-Ray/dvd)                              1143\n",
       "Burt's Bees Lip Shimmer, Raisin                                                                   873\n",
       "The Resident Evil Collection 5 Discs (blu-Ray)                                                    845\n",
       "Mike Dave Need Wedding Dates (dvd + Digital)                                                      757\n",
       "Nexxus Exxtra Gel Style Creation Sculptor                                                         693\n",
       "Red (special Edition) (dvdvideo)                                                                  672\n",
       "My Big Fat Greek Wedding 2 (blu-Ray + Dvd + Digital)                                              668\n",
       "Olay Regenerist Deep Hydration Regenerating Cream                                                 634\n",
       "Lundberg Wehani Rice, 25lb                                                                        412\n",
       "Clear Scalp & Hair Therapy Total Care Nourishing Shampoo                                          372\n",
       "Hoover174 Platinum Collection153 Lightweight Bagged Upright Vacuum With Canister - Uh30010com     362\n",
       "Windex Original Glass Cleaner Refill 67.6oz (2 Liter)                                             348\n",
       "Avery174 Ready Index Contemporary Table Of Contents Divider, 1-8, Multi, Letter                   313\n",
       "Aveeno Baby Continuous Protection Lotion Sunscreen with Broad Spectrum SPF 55, 4oz                313\n",
       "Pendaflex174 Divide It Up File Folder, Multi Section, Letter, Assorted, 12/pack                   310\n",
       "Tostitos Bite Size Tortilla Chips                                                                 264\n",
       "Name: name, dtype: int64"
      ]
     },
     "execution_count": 114,
     "metadata": {},
     "output_type": "execute_result"
    }
   ],
   "source": [
    "data['name'].value_counts(ascending=False).nlargest(n=20)"
   ]
  },
  {
   "cell_type": "code",
   "execution_count": 115,
   "id": "d91e1082",
   "metadata": {},
   "outputs": [
    {
     "data": {
      "text/plain": [
       "Clorox Disinfecting Wipes Value Pack Scented 150 Ct Total                                        7729\n",
       "Godzilla 3d Includes Digital Copy Ultraviolet 3d/2d Blu-Ray/dvd                                  3034\n",
       "Clorox Disinfecting Bathroom Cleaner                                                             1878\n",
       "L'or233al Paris Elvive Extraordinary Clay Rebalancing Conditioner - 12.6 Fl Oz                   1147\n",
       "Planes: Fire Rescue (2 Discs) (includes Digital Copy) (blu-Ray/dvd)                              1063\n",
       "Burt's Bees Lip Shimmer, Raisin                                                                   768\n",
       "The Resident Evil Collection 5 Discs (blu-Ray)                                                    686\n",
       "Mike Dave Need Wedding Dates (dvd + Digital)                                                      641\n",
       "My Big Fat Greek Wedding 2 (blu-Ray + Dvd + Digital)                                              641\n",
       "Red (special Edition) (dvdvideo)                                                                  638\n",
       "Olay Regenerist Deep Hydration Regenerating Cream                                                 566\n",
       "Nexxus Exxtra Gel Style Creation Sculptor                                                         405\n",
       "Lundberg Wehani Rice, 25lb                                                                        377\n",
       "Hoover174 Platinum Collection153 Lightweight Bagged Upright Vacuum With Canister - Uh30010com     331\n",
       "Clear Scalp & Hair Therapy Total Care Nourishing Shampoo                                          323\n",
       "Avery174 Ready Index Contemporary Table Of Contents Divider, 1-8, Multi, Letter                   298\n",
       "Windex Original Glass Cleaner Refill 67.6oz (2 Liter)                                             278\n",
       "Storkcraft Tuscany Glider and Ottoman, Beige Cushions, Espresso Finish                            250\n",
       "Pendaflex174 Divide It Up File Folder, Multi Section, Letter, Assorted, 12/pack                   245\n",
       "Aveeno Baby Continuous Protection Lotion Sunscreen with Broad Spectrum SPF 55, 4oz                221\n",
       "Name: name, dtype: int64"
      ]
     },
     "execution_count": 115,
     "metadata": {},
     "output_type": "execute_result"
    }
   ],
   "source": [
    "data[data['user_sentiment']=='Positive']['name'].value_counts().nlargest(n=20)"
   ]
  },
  {
   "cell_type": "markdown",
   "id": "04866360",
   "metadata": {},
   "source": [
    "Insight:\n",
    "    \n",
    "    The Top 10 products with max Positive reviews are :\n",
    "    \n",
    "    'Clorox Disinfecting Wipes Value Pack Scented 150 Ct Total',\n",
    "       'Godzilla 3d Includes Digital Copy Ultraviolet 3d/2d Blu-Ray/dvd',\n",
    "       'Clorox Disinfecting Bathroom Cleaner',\n",
    "       'L'or233al Paris Elvive Extraordinary Clay Rebalancing Conditioner - 12.6 Fl Oz',\n",
    "       'Planes: Fire Rescue (2 Discs) (includes Digital Copy) (blu-Ray/dvd)',\n",
    "       'Burt's Bees Lip Shimmer, Raisin',\n",
    "       'The Resident Evil Collection 5 Discs (blu-Ray)',\n",
    "       'Mike Dave Need Wedding Dates (dvd + Digital)',\n",
    "       'My Big Fat Greek Wedding 2 (blu-Ray + Dvd + Digital)',\n",
    "       'Red (special Edition) (dvdvideo)'     \n",
    "        "
   ]
  },
  {
   "cell_type": "markdown",
   "id": "17ffe9a6",
   "metadata": {},
   "source": [
    "### Text preprocessing"
   ]
  },
  {
   "cell_type": "code",
   "execution_count": 116,
   "id": "b23d92e2",
   "metadata": {},
   "outputs": [
    {
     "name": "stdout",
     "output_type": "stream",
     "text": [
      "<class 'pandas.core.frame.DataFrame'>\n",
      "RangeIndex: 30000 entries, 0 to 29999\n",
      "Data columns (total 10 columns):\n",
      " #   Column               Non-Null Count  Dtype \n",
      "---  ------               --------------  ----- \n",
      " 0   brand                30000 non-null  object\n",
      " 1   categories           30000 non-null  object\n",
      " 2   manufacturer         30000 non-null  object\n",
      " 3   name                 30000 non-null  object\n",
      " 4   reviews_doRecommend  30000 non-null  object\n",
      " 5   reviews_rating       30000 non-null  int64 \n",
      " 6   reviews_text         30000 non-null  object\n",
      " 7   reviews_title        30000 non-null  object\n",
      " 8   user_sentiment       30000 non-null  object\n",
      " 9   user_sentiment_flag  30000 non-null  int32 \n",
      "dtypes: int32(1), int64(1), object(8)\n",
      "memory usage: 2.2+ MB\n"
     ]
    }
   ],
   "source": [
    "data.info()"
   ]
  },
  {
   "cell_type": "code",
   "execution_count": 117,
   "id": "98ba25cf",
   "metadata": {},
   "outputs": [
    {
     "data": {
      "text/plain": [
       "0        i love this album. it's very good. more to the...\n",
       "1        Good flavor. This review was collected as part...\n",
       "2                                             Good flavor.\n",
       "3        I read through the reviews on here before look...\n",
       "4        My husband bought this gel for us. The gel cau...\n",
       "                               ...                        \n",
       "29995    I got this conditioner with Influenster to try...\n",
       "29996    I love it , I received this for review purpose...\n",
       "29997    First of all I love the smell of this product....\n",
       "29998    I received this through Influenster and will n...\n",
       "29999    I received this product complimentary from inf...\n",
       "Name: reviews_text, Length: 30000, dtype: object"
      ]
     },
     "execution_count": 117,
     "metadata": {},
     "output_type": "execute_result"
    }
   ],
   "source": [
    "data['reviews_text']"
   ]
  },
  {
   "cell_type": "code",
   "execution_count": 118,
   "id": "7be0feb9",
   "metadata": {},
   "outputs": [],
   "source": [
    "# performing basic text cleaning like lowercasing the characters, removing text in square brackets\n",
    "# removing punctuations, removing masked characters\n",
    "import re\n",
    "from nltk.stem import WordNetLemmatizer\n",
    "def basic_cleaning(text):\n",
    "    text = text.lower()\n",
    "    text = re.sub(r'\\[.*?\\]','',text)\n",
    "    text = re.sub(r'[^\\w\\s]', '',text)\n",
    "    text = re.sub(r'[\\d]','',text)\n",
    "    text = re.sub(r'[*x]?','',text)\n",
    "    text = re.sub('[0-9]+', '', text)    \n",
    "    return text\n",
    "\n",
    "def remove_stopwords(words):\n",
    "    \"\"\"Remove stop words from list of tokenized words\"\"\"\n",
    "    new_words = []\n",
    "    for word in words:\n",
    "        if word not in stopwords.words('english'):\n",
    "            new_words.append(word)\n",
    "    return new_words\n",
    "\n",
    "def lemmatize_verbs(words):    \n",
    "    lemmatizer = WordNetLemmatizer()\n",
    "    lemmas = []\n",
    "    for word in words:\n",
    "        lemma = lemmatizer.lemmatize(word, pos='v')\n",
    "        lemmas.append(lemma)\n",
    "    return lemmas\n",
    "\n",
    "def preprocess_and_lemmatize(input_text):\n",
    "    input_text = basic_cleaning(input_text)\n",
    "    words = nltk.word_tokenize(input_text)\n",
    "    words = remove_stopwords(words)\n",
    "    lemmas = lemmatize_verbs(words)\n",
    "    return ' '.join(lemmas)"
   ]
  },
  {
   "cell_type": "code",
   "execution_count": 119,
   "id": "d1dcf8f4",
   "metadata": {},
   "outputs": [],
   "source": [
    "data['reviews_text']=data['reviews_text'].astype(str)\n",
    "data['reviews_text_lemmatized']=data['reviews_text'].apply(preprocess_and_lemmatize)"
   ]
  },
  {
   "cell_type": "code",
   "execution_count": 120,
   "id": "ad831480",
   "metadata": {
    "scrolled": false
   },
   "outputs": [
    {
     "data": {
      "text/html": [
       "<div>\n",
       "<style scoped>\n",
       "    .dataframe tbody tr th:only-of-type {\n",
       "        vertical-align: middle;\n",
       "    }\n",
       "\n",
       "    .dataframe tbody tr th {\n",
       "        vertical-align: top;\n",
       "    }\n",
       "\n",
       "    .dataframe thead th {\n",
       "        text-align: right;\n",
       "    }\n",
       "</style>\n",
       "<table border=\"1\" class=\"dataframe\">\n",
       "  <thead>\n",
       "    <tr style=\"text-align: right;\">\n",
       "      <th></th>\n",
       "      <th>reviews_text</th>\n",
       "      <th>reviews_text_lemmatized</th>\n",
       "    </tr>\n",
       "  </thead>\n",
       "  <tbody>\n",
       "    <tr>\n",
       "      <th>0</th>\n",
       "      <td>i love this album. it's very good. more to the...</td>\n",
       "      <td>love album good hip hop side current pop sound...</td>\n",
       "    </tr>\n",
       "    <tr>\n",
       "      <th>1</th>\n",
       "      <td>Good flavor. This review was collected as part...</td>\n",
       "      <td>good flavor review collect part promotion</td>\n",
       "    </tr>\n",
       "    <tr>\n",
       "      <th>2</th>\n",
       "      <td>Good flavor.</td>\n",
       "      <td>good flavor</td>\n",
       "    </tr>\n",
       "    <tr>\n",
       "      <th>3</th>\n",
       "      <td>I read through the reviews on here before look...</td>\n",
       "      <td>read review look buy one couple lubricants ult...</td>\n",
       "    </tr>\n",
       "    <tr>\n",
       "      <th>4</th>\n",
       "      <td>My husband bought this gel for us. The gel cau...</td>\n",
       "      <td>husband buy gel us gel cause irritation felt l...</td>\n",
       "    </tr>\n",
       "    <tr>\n",
       "      <th>...</th>\n",
       "      <td>...</td>\n",
       "      <td>...</td>\n",
       "    </tr>\n",
       "    <tr>\n",
       "      <th>29995</th>\n",
       "      <td>I got this conditioner with Influenster to try...</td>\n",
       "      <td>get conditioner influenster try im love far oi...</td>\n",
       "    </tr>\n",
       "    <tr>\n",
       "      <th>29996</th>\n",
       "      <td>I love it , I received this for review purpose...</td>\n",
       "      <td>love receive review purpose influenster leave ...</td>\n",
       "    </tr>\n",
       "    <tr>\n",
       "      <th>29997</th>\n",
       "      <td>First of all I love the smell of this product....</td>\n",
       "      <td>first love smell product wash hair smooth easy...</td>\n",
       "    </tr>\n",
       "    <tr>\n",
       "      <th>29998</th>\n",
       "      <td>I received this through Influenster and will n...</td>\n",
       "      <td>receive influenster never go back anything els...</td>\n",
       "    </tr>\n",
       "    <tr>\n",
       "      <th>29999</th>\n",
       "      <td>I received this product complimentary from inf...</td>\n",
       "      <td>receive product complimentary influenster real...</td>\n",
       "    </tr>\n",
       "  </tbody>\n",
       "</table>\n",
       "<p>30000 rows × 2 columns</p>\n",
       "</div>"
      ],
      "text/plain": [
       "                                            reviews_text  \\\n",
       "0      i love this album. it's very good. more to the...   \n",
       "1      Good flavor. This review was collected as part...   \n",
       "2                                           Good flavor.   \n",
       "3      I read through the reviews on here before look...   \n",
       "4      My husband bought this gel for us. The gel cau...   \n",
       "...                                                  ...   \n",
       "29995  I got this conditioner with Influenster to try...   \n",
       "29996  I love it , I received this for review purpose...   \n",
       "29997  First of all I love the smell of this product....   \n",
       "29998  I received this through Influenster and will n...   \n",
       "29999  I received this product complimentary from inf...   \n",
       "\n",
       "                                 reviews_text_lemmatized  \n",
       "0      love album good hip hop side current pop sound...  \n",
       "1              good flavor review collect part promotion  \n",
       "2                                            good flavor  \n",
       "3      read review look buy one couple lubricants ult...  \n",
       "4      husband buy gel us gel cause irritation felt l...  \n",
       "...                                                  ...  \n",
       "29995  get conditioner influenster try im love far oi...  \n",
       "29996  love receive review purpose influenster leave ...  \n",
       "29997  first love smell product wash hair smooth easy...  \n",
       "29998  receive influenster never go back anything els...  \n",
       "29999  receive product complimentary influenster real...  \n",
       "\n",
       "[30000 rows x 2 columns]"
      ]
     },
     "execution_count": 120,
     "metadata": {},
     "output_type": "execute_result"
    }
   ],
   "source": [
    "data[['reviews_text','reviews_text_lemmatized']]"
   ]
  },
  {
   "cell_type": "code",
   "execution_count": 121,
   "id": "4b2fdd87",
   "metadata": {
    "scrolled": true
   },
   "outputs": [
    {
     "data": {
      "text/html": [
       "<div>\n",
       "<style scoped>\n",
       "    .dataframe tbody tr th:only-of-type {\n",
       "        vertical-align: middle;\n",
       "    }\n",
       "\n",
       "    .dataframe tbody tr th {\n",
       "        vertical-align: top;\n",
       "    }\n",
       "\n",
       "    .dataframe thead th {\n",
       "        text-align: right;\n",
       "    }\n",
       "</style>\n",
       "<table border=\"1\" class=\"dataframe\">\n",
       "  <thead>\n",
       "    <tr style=\"text-align: right;\">\n",
       "      <th></th>\n",
       "      <th>reviews_text_lemmatized</th>\n",
       "      <th>user_sentiment_flag</th>\n",
       "    </tr>\n",
       "  </thead>\n",
       "  <tbody>\n",
       "    <tr>\n",
       "      <th>0</th>\n",
       "      <td>love album good hip hop side current pop sound...</td>\n",
       "      <td>1</td>\n",
       "    </tr>\n",
       "  </tbody>\n",
       "</table>\n",
       "</div>"
      ],
      "text/plain": [
       "                             reviews_text_lemmatized  user_sentiment_flag\n",
       "0  love album good hip hop side current pop sound...                    1"
      ]
     },
     "execution_count": 121,
     "metadata": {},
     "output_type": "execute_result"
    }
   ],
   "source": [
    "data_sa = data[['reviews_text_lemmatized','user_sentiment_flag']]\n",
    "data_sa.head(1)"
   ]
  },
  {
   "cell_type": "markdown",
   "id": "ccff601f",
   "metadata": {},
   "source": [
    "#### Find the top 40 words by frequency among all the reviews after processing the text"
   ]
  },
  {
   "cell_type": "code",
   "execution_count": 122,
   "id": "c098675e",
   "metadata": {},
   "outputs": [
    {
     "data": {
      "text/plain": [
       "(-0.5, 399.5, 199.5, -0.5)"
      ]
     },
     "execution_count": 122,
     "metadata": {},
     "output_type": "execute_result"
    },
    {
     "data": {
      "image/png": "[encoded data removed]",
      "text/plain": [
       "<Figure size 864x864 with 1 Axes>"
      ]
     },
     "metadata": {
      "needs_background": "light"
     },
     "output_type": "display_data"
    }
   ],
   "source": [
    "#Using a word cloud find the top 40 words by frequency among all the articles after processing the text\n",
    "from wordcloud import WordCloud,STOPWORDS\n",
    "stopwords = set(STOPWORDS)\n",
    "wordcloud = WordCloud(max_font_size=60, max_words=40, \n",
    "                      background_color=\"white\", random_state=100, \n",
    "                      stopwords=stopwords).generate(str(data_sa['reviews_text_lemmatized']))\n",
    "plt.figure(figsize=[12,12])\n",
    "plt.imshow(wordcloud, interpolation=\"bilinear\")\n",
    "plt.axis(\"off\")"
   ]
  },
  {
   "cell_type": "code",
   "execution_count": 123,
   "id": "a1e7aa16",
   "metadata": {},
   "outputs": [],
   "source": [
    "#Write your code here to find the top 30 unigram frequency among the Reviews\n",
    "from sklearn.feature_extraction.text import CountVectorizer, TfidfVectorizer\n",
    "from pprint import pprint\n",
    "\n",
    "def get_top_ngrams(text, n=None, ngram=(1,1)):\n",
    "    vec = CountVectorizer(stop_words='english', ngram_range=ngram).fit(text)\n",
    "    bagofwords = vec.transform(text)\n",
    "    sum_words = bagofwords.sum(axis=0)\n",
    "    words_frequency = [(word, sum_words[0, index]) for word, index in vec.vocabulary_.items()]\n",
    "    words_frequency = sorted(words_frequency, key = lambda x: x[1], reverse=True)\n",
    "    return words_frequency[:n]"
   ]
  },
  {
   "cell_type": "code",
   "execution_count": 124,
   "id": "b9357ddc",
   "metadata": {},
   "outputs": [
    {
     "data": {
      "text/html": [
       "<div>\n",
       "<style scoped>\n",
       "    .dataframe tbody tr th:only-of-type {\n",
       "        vertical-align: middle;\n",
       "    }\n",
       "\n",
       "    .dataframe tbody tr th {\n",
       "        vertical-align: top;\n",
       "    }\n",
       "\n",
       "    .dataframe thead th {\n",
       "        text-align: right;\n",
       "    }\n",
       "</style>\n",
       "<table border=\"1\" class=\"dataframe\">\n",
       "  <thead>\n",
       "    <tr style=\"text-align: right;\">\n",
       "      <th></th>\n",
       "      <th>unigram</th>\n",
       "      <th>count</th>\n",
       "    </tr>\n",
       "  </thead>\n",
       "  <tbody>\n",
       "    <tr>\n",
       "      <th>0</th>\n",
       "      <td>use</td>\n",
       "      <td>13088</td>\n",
       "    </tr>\n",
       "    <tr>\n",
       "      <th>1</th>\n",
       "      <td>love</td>\n",
       "      <td>9898</td>\n",
       "    </tr>\n",
       "    <tr>\n",
       "      <th>2</th>\n",
       "      <td>review</td>\n",
       "      <td>9377</td>\n",
       "    </tr>\n",
       "    <tr>\n",
       "      <th>3</th>\n",
       "      <td>great</td>\n",
       "      <td>8865</td>\n",
       "    </tr>\n",
       "    <tr>\n",
       "      <th>4</th>\n",
       "      <td>collect</td>\n",
       "      <td>8769</td>\n",
       "    </tr>\n",
       "    <tr>\n",
       "      <th>5</th>\n",
       "      <td>promotion</td>\n",
       "      <td>8747</td>\n",
       "    </tr>\n",
       "    <tr>\n",
       "      <th>6</th>\n",
       "      <td>clean</td>\n",
       "      <td>7711</td>\n",
       "    </tr>\n",
       "    <tr>\n",
       "      <th>7</th>\n",
       "      <td>product</td>\n",
       "      <td>7675</td>\n",
       "    </tr>\n",
       "    <tr>\n",
       "      <th>8</th>\n",
       "      <td>wipe</td>\n",
       "      <td>6609</td>\n",
       "    </tr>\n",
       "    <tr>\n",
       "      <th>9</th>\n",
       "      <td>movie</td>\n",
       "      <td>6235</td>\n",
       "    </tr>\n",
       "    <tr>\n",
       "      <th>10</th>\n",
       "      <td>like</td>\n",
       "      <td>5012</td>\n",
       "    </tr>\n",
       "    <tr>\n",
       "      <th>11</th>\n",
       "      <td>hair</td>\n",
       "      <td>4605</td>\n",
       "    </tr>\n",
       "    <tr>\n",
       "      <th>12</th>\n",
       "      <td>good</td>\n",
       "      <td>4544</td>\n",
       "    </tr>\n",
       "    <tr>\n",
       "      <th>13</th>\n",
       "      <td>cloro</td>\n",
       "      <td>4390</td>\n",
       "    </tr>\n",
       "    <tr>\n",
       "      <th>14</th>\n",
       "      <td>smell</td>\n",
       "      <td>4054</td>\n",
       "    </tr>\n",
       "    <tr>\n",
       "      <th>15</th>\n",
       "      <td>make</td>\n",
       "      <td>3874</td>\n",
       "    </tr>\n",
       "    <tr>\n",
       "      <th>16</th>\n",
       "      <td>easy</td>\n",
       "      <td>3172</td>\n",
       "    </tr>\n",
       "    <tr>\n",
       "      <th>17</th>\n",
       "      <td>work</td>\n",
       "      <td>2900</td>\n",
       "    </tr>\n",
       "    <tr>\n",
       "      <th>18</th>\n",
       "      <td>time</td>\n",
       "      <td>2794</td>\n",
       "    </tr>\n",
       "    <tr>\n",
       "      <th>19</th>\n",
       "      <td>really</td>\n",
       "      <td>2784</td>\n",
       "    </tr>\n",
       "    <tr>\n",
       "      <th>20</th>\n",
       "      <td>buy</td>\n",
       "      <td>2543</td>\n",
       "    </tr>\n",
       "    <tr>\n",
       "      <th>21</th>\n",
       "      <td>look</td>\n",
       "      <td>2443</td>\n",
       "    </tr>\n",
       "    <tr>\n",
       "      <th>22</th>\n",
       "      <td>disinfect</td>\n",
       "      <td>2395</td>\n",
       "    </tr>\n",
       "    <tr>\n",
       "      <th>23</th>\n",
       "      <td>feel</td>\n",
       "      <td>2378</td>\n",
       "    </tr>\n",
       "    <tr>\n",
       "      <th>24</th>\n",
       "      <td>godzilla</td>\n",
       "      <td>2089</td>\n",
       "    </tr>\n",
       "    <tr>\n",
       "      <th>25</th>\n",
       "      <td>best</td>\n",
       "      <td>1926</td>\n",
       "    </tr>\n",
       "    <tr>\n",
       "      <th>26</th>\n",
       "      <td>leave</td>\n",
       "      <td>1857</td>\n",
       "    </tr>\n",
       "    <tr>\n",
       "      <th>27</th>\n",
       "      <td>try</td>\n",
       "      <td>1842</td>\n",
       "    </tr>\n",
       "    <tr>\n",
       "      <th>28</th>\n",
       "      <td>products</td>\n",
       "      <td>1765</td>\n",
       "    </tr>\n",
       "    <tr>\n",
       "      <th>29</th>\n",
       "      <td>color</td>\n",
       "      <td>1761</td>\n",
       "    </tr>\n",
       "  </tbody>\n",
       "</table>\n",
       "</div>"
      ],
      "text/plain": [
       "      unigram  count\n",
       "0         use  13088\n",
       "1        love   9898\n",
       "2      review   9377\n",
       "3       great   8865\n",
       "4     collect   8769\n",
       "5   promotion   8747\n",
       "6       clean   7711\n",
       "7     product   7675\n",
       "8        wipe   6609\n",
       "9       movie   6235\n",
       "10       like   5012\n",
       "11       hair   4605\n",
       "12       good   4544\n",
       "13      cloro   4390\n",
       "14      smell   4054\n",
       "15       make   3874\n",
       "16       easy   3172\n",
       "17       work   2900\n",
       "18       time   2794\n",
       "19     really   2784\n",
       "20        buy   2543\n",
       "21       look   2443\n",
       "22  disinfect   2395\n",
       "23       feel   2378\n",
       "24   godzilla   2089\n",
       "25       best   1926\n",
       "26      leave   1857\n",
       "27        try   1842\n",
       "28   products   1765\n",
       "29      color   1761"
      ]
     },
     "execution_count": 124,
     "metadata": {},
     "output_type": "execute_result"
    }
   ],
   "source": [
    "#Print the top 30 words in the unigram frequency\n",
    "top_30words = get_top_ngrams(data_sa['reviews_text_lemmatized'].values.astype('U'), n=30, ngram=(1,1))\n",
    "data_unigram = pd.DataFrame(top_30words, columns=['unigram', 'count'])\n",
    "data_unigram"
   ]
  },
  {
   "cell_type": "code",
   "execution_count": 125,
   "id": "9502526c",
   "metadata": {},
   "outputs": [
    {
     "data": {
      "image/png": "[encoded data removed]",
      "text/plain": [
       "<Figure size 1440x432 with 1 Axes>"
      ]
     },
     "metadata": {
      "needs_background": "light"
     },
     "output_type": "display_data"
    }
   ],
   "source": [
    "# Plotting top 30 Unigrams\n",
    "plt.figure(figsize=[20,6])\n",
    "sns.barplot(x=data_unigram['unigram'], y=data_unigram['count'])\n",
    "plt.xticks(rotation=45)\n",
    "plt.xlabel(\"Unigram\")\n",
    "plt.ylabel(\"Count\")\n",
    "plt.title(\"Count of top 30 Unigrams\")\n",
    "plt.show()"
   ]
  },
  {
   "cell_type": "code",
   "execution_count": 126,
   "id": "de7e6e4b",
   "metadata": {},
   "outputs": [
    {
     "data": {
      "text/html": [
       "<div>\n",
       "<style scoped>\n",
       "    .dataframe tbody tr th:only-of-type {\n",
       "        vertical-align: middle;\n",
       "    }\n",
       "\n",
       "    .dataframe tbody tr th {\n",
       "        vertical-align: top;\n",
       "    }\n",
       "\n",
       "    .dataframe thead th {\n",
       "        text-align: right;\n",
       "    }\n",
       "</style>\n",
       "<table border=\"1\" class=\"dataframe\">\n",
       "  <thead>\n",
       "    <tr style=\"text-align: right;\">\n",
       "      <th></th>\n",
       "      <th>unigram</th>\n",
       "      <th>count</th>\n",
       "    </tr>\n",
       "  </thead>\n",
       "  <tbody>\n",
       "    <tr>\n",
       "      <th>0</th>\n",
       "      <td>use</td>\n",
       "      <td>13088</td>\n",
       "    </tr>\n",
       "    <tr>\n",
       "      <th>1</th>\n",
       "      <td>love</td>\n",
       "      <td>9898</td>\n",
       "    </tr>\n",
       "    <tr>\n",
       "      <th>2</th>\n",
       "      <td>review</td>\n",
       "      <td>9377</td>\n",
       "    </tr>\n",
       "    <tr>\n",
       "      <th>3</th>\n",
       "      <td>great</td>\n",
       "      <td>8865</td>\n",
       "    </tr>\n",
       "    <tr>\n",
       "      <th>4</th>\n",
       "      <td>collect</td>\n",
       "      <td>8769</td>\n",
       "    </tr>\n",
       "    <tr>\n",
       "      <th>5</th>\n",
       "      <td>promotion</td>\n",
       "      <td>8747</td>\n",
       "    </tr>\n",
       "    <tr>\n",
       "      <th>6</th>\n",
       "      <td>clean</td>\n",
       "      <td>7711</td>\n",
       "    </tr>\n",
       "    <tr>\n",
       "      <th>7</th>\n",
       "      <td>product</td>\n",
       "      <td>7675</td>\n",
       "    </tr>\n",
       "    <tr>\n",
       "      <th>8</th>\n",
       "      <td>wipe</td>\n",
       "      <td>6609</td>\n",
       "    </tr>\n",
       "    <tr>\n",
       "      <th>9</th>\n",
       "      <td>movie</td>\n",
       "      <td>6235</td>\n",
       "    </tr>\n",
       "  </tbody>\n",
       "</table>\n",
       "</div>"
      ],
      "text/plain": [
       "     unigram  count\n",
       "0        use  13088\n",
       "1       love   9898\n",
       "2     review   9377\n",
       "3      great   8865\n",
       "4    collect   8769\n",
       "5  promotion   8747\n",
       "6      clean   7711\n",
       "7    product   7675\n",
       "8       wipe   6609\n",
       "9      movie   6235"
      ]
     },
     "execution_count": 126,
     "metadata": {},
     "output_type": "execute_result"
    }
   ],
   "source": [
    "#Print the top 10 words in the unigram frequency\n",
    "data_unigram.head(10)"
   ]
  },
  {
   "cell_type": "code",
   "execution_count": 127,
   "id": "f5e8b588",
   "metadata": {},
   "outputs": [
    {
     "data": {
      "text/html": [
       "<div>\n",
       "<style scoped>\n",
       "    .dataframe tbody tr th:only-of-type {\n",
       "        vertical-align: middle;\n",
       "    }\n",
       "\n",
       "    .dataframe tbody tr th {\n",
       "        vertical-align: top;\n",
       "    }\n",
       "\n",
       "    .dataframe thead th {\n",
       "        text-align: right;\n",
       "    }\n",
       "</style>\n",
       "<table border=\"1\" class=\"dataframe\">\n",
       "  <thead>\n",
       "    <tr style=\"text-align: right;\">\n",
       "      <th></th>\n",
       "      <th>bigram</th>\n",
       "      <th>count</th>\n",
       "    </tr>\n",
       "  </thead>\n",
       "  <tbody>\n",
       "    <tr>\n",
       "      <th>0</th>\n",
       "      <td>review collect</td>\n",
       "      <td>8743</td>\n",
       "    </tr>\n",
       "    <tr>\n",
       "      <th>1</th>\n",
       "      <td>collect promotion</td>\n",
       "      <td>8743</td>\n",
       "    </tr>\n",
       "    <tr>\n",
       "      <th>2</th>\n",
       "      <td>cloro wipe</td>\n",
       "      <td>1998</td>\n",
       "    </tr>\n",
       "    <tr>\n",
       "      <th>3</th>\n",
       "      <td>easy use</td>\n",
       "      <td>1290</td>\n",
       "    </tr>\n",
       "    <tr>\n",
       "      <th>4</th>\n",
       "      <td>use cloro</td>\n",
       "      <td>1063</td>\n",
       "    </tr>\n",
       "    <tr>\n",
       "      <th>5</th>\n",
       "      <td>love cloro</td>\n",
       "      <td>923</td>\n",
       "    </tr>\n",
       "    <tr>\n",
       "      <th>6</th>\n",
       "      <td>use product</td>\n",
       "      <td>866</td>\n",
       "    </tr>\n",
       "    <tr>\n",
       "      <th>7</th>\n",
       "      <td>great product</td>\n",
       "      <td>772</td>\n",
       "    </tr>\n",
       "    <tr>\n",
       "      <th>8</th>\n",
       "      <td>love product</td>\n",
       "      <td>769</td>\n",
       "    </tr>\n",
       "    <tr>\n",
       "      <th>9</th>\n",
       "      <td>disinfect wipe</td>\n",
       "      <td>713</td>\n",
       "    </tr>\n",
       "    <tr>\n",
       "      <th>10</th>\n",
       "      <td>smell great</td>\n",
       "      <td>690</td>\n",
       "    </tr>\n",
       "    <tr>\n",
       "      <th>11</th>\n",
       "      <td>love use</td>\n",
       "      <td>631</td>\n",
       "    </tr>\n",
       "    <tr>\n",
       "      <th>12</th>\n",
       "      <td>great movie</td>\n",
       "      <td>631</td>\n",
       "    </tr>\n",
       "    <tr>\n",
       "      <th>13</th>\n",
       "      <td>use wipe</td>\n",
       "      <td>604</td>\n",
       "    </tr>\n",
       "    <tr>\n",
       "      <th>14</th>\n",
       "      <td>work great</td>\n",
       "      <td>531</td>\n",
       "    </tr>\n",
       "    <tr>\n",
       "      <th>15</th>\n",
       "      <td>cloro disinfect</td>\n",
       "      <td>527</td>\n",
       "    </tr>\n",
       "    <tr>\n",
       "      <th>16</th>\n",
       "      <td>love wipe</td>\n",
       "      <td>500</td>\n",
       "    </tr>\n",
       "    <tr>\n",
       "      <th>17</th>\n",
       "      <td>clean review</td>\n",
       "      <td>499</td>\n",
       "    </tr>\n",
       "    <tr>\n",
       "      <th>18</th>\n",
       "      <td>love movie</td>\n",
       "      <td>475</td>\n",
       "    </tr>\n",
       "    <tr>\n",
       "      <th>19</th>\n",
       "      <td>product use</td>\n",
       "      <td>474</td>\n",
       "    </tr>\n",
       "    <tr>\n",
       "      <th>20</th>\n",
       "      <td>use clean</td>\n",
       "      <td>472</td>\n",
       "    </tr>\n",
       "    <tr>\n",
       "      <th>21</th>\n",
       "      <td>lip shimmer</td>\n",
       "      <td>462</td>\n",
       "    </tr>\n",
       "    <tr>\n",
       "      <th>22</th>\n",
       "      <td>clean disinfect</td>\n",
       "      <td>451</td>\n",
       "    </tr>\n",
       "    <tr>\n",
       "      <th>23</th>\n",
       "      <td>leave hair</td>\n",
       "      <td>445</td>\n",
       "    </tr>\n",
       "    <tr>\n",
       "      <th>24</th>\n",
       "      <td>ive use</td>\n",
       "      <td>440</td>\n",
       "    </tr>\n",
       "    <tr>\n",
       "      <th>25</th>\n",
       "      <td>good movie</td>\n",
       "      <td>440</td>\n",
       "    </tr>\n",
       "    <tr>\n",
       "      <th>26</th>\n",
       "      <td>wipe clean</td>\n",
       "      <td>437</td>\n",
       "    </tr>\n",
       "    <tr>\n",
       "      <th>27</th>\n",
       "      <td>make hair</td>\n",
       "      <td>435</td>\n",
       "    </tr>\n",
       "    <tr>\n",
       "      <th>28</th>\n",
       "      <td>receive product</td>\n",
       "      <td>427</td>\n",
       "    </tr>\n",
       "    <tr>\n",
       "      <th>29</th>\n",
       "      <td>hair feel</td>\n",
       "      <td>419</td>\n",
       "    </tr>\n",
       "  </tbody>\n",
       "</table>\n",
       "</div>"
      ],
      "text/plain": [
       "               bigram  count\n",
       "0      review collect   8743\n",
       "1   collect promotion   8743\n",
       "2          cloro wipe   1998\n",
       "3            easy use   1290\n",
       "4           use cloro   1063\n",
       "5          love cloro    923\n",
       "6         use product    866\n",
       "7       great product    772\n",
       "8        love product    769\n",
       "9      disinfect wipe    713\n",
       "10        smell great    690\n",
       "11           love use    631\n",
       "12        great movie    631\n",
       "13           use wipe    604\n",
       "14         work great    531\n",
       "15    cloro disinfect    527\n",
       "16          love wipe    500\n",
       "17       clean review    499\n",
       "18         love movie    475\n",
       "19        product use    474\n",
       "20          use clean    472\n",
       "21        lip shimmer    462\n",
       "22    clean disinfect    451\n",
       "23         leave hair    445\n",
       "24            ive use    440\n",
       "25         good movie    440\n",
       "26         wipe clean    437\n",
       "27          make hair    435\n",
       "28    receive product    427\n",
       "29          hair feel    419"
      ]
     },
     "execution_count": 127,
     "metadata": {},
     "output_type": "execute_result"
    }
   ],
   "source": [
    "#Write your code here to find the top 30 bigram frequency among the reviews\n",
    "top_30words = get_top_ngrams(data_sa['reviews_text_lemmatized'].values.astype('U'), n=30, ngram=(2,2))\n",
    "data_bigram = pd.DataFrame(top_30words, columns=['bigram', 'count'])\n",
    "data_bigram"
   ]
  },
  {
   "cell_type": "code",
   "execution_count": 128,
   "id": "0fd77dd8",
   "metadata": {},
   "outputs": [
    {
     "data": {
      "image/png": "[encoded data removed]",
      "text/plain": [
       "<Figure size 1440x432 with 1 Axes>"
      ]
     },
     "metadata": {
      "needs_background": "light"
     },
     "output_type": "display_data"
    }
   ],
   "source": [
    "# Plotting top 30 Bigrams\n",
    "plt.figure(figsize=[20,6])\n",
    "sns.barplot(x=data_bigram['bigram'], y=data_bigram['count'])\n",
    "plt.xticks(rotation=45)\n",
    "plt.xlabel(\"Bigram\")\n",
    "plt.ylabel(\"Count\")\n",
    "plt.title(\"Count of top 30 Bigrams\")\n",
    "plt.show()"
   ]
  },
  {
   "cell_type": "code",
   "execution_count": 129,
   "id": "1b420e16",
   "metadata": {},
   "outputs": [
    {
     "data": {
      "text/html": [
       "<div>\n",
       "<style scoped>\n",
       "    .dataframe tbody tr th:only-of-type {\n",
       "        vertical-align: middle;\n",
       "    }\n",
       "\n",
       "    .dataframe tbody tr th {\n",
       "        vertical-align: top;\n",
       "    }\n",
       "\n",
       "    .dataframe thead th {\n",
       "        text-align: right;\n",
       "    }\n",
       "</style>\n",
       "<table border=\"1\" class=\"dataframe\">\n",
       "  <thead>\n",
       "    <tr style=\"text-align: right;\">\n",
       "      <th></th>\n",
       "      <th>bigram</th>\n",
       "      <th>count</th>\n",
       "    </tr>\n",
       "  </thead>\n",
       "  <tbody>\n",
       "    <tr>\n",
       "      <th>0</th>\n",
       "      <td>review collect</td>\n",
       "      <td>8743</td>\n",
       "    </tr>\n",
       "    <tr>\n",
       "      <th>1</th>\n",
       "      <td>collect promotion</td>\n",
       "      <td>8743</td>\n",
       "    </tr>\n",
       "    <tr>\n",
       "      <th>2</th>\n",
       "      <td>cloro wipe</td>\n",
       "      <td>1998</td>\n",
       "    </tr>\n",
       "    <tr>\n",
       "      <th>3</th>\n",
       "      <td>easy use</td>\n",
       "      <td>1290</td>\n",
       "    </tr>\n",
       "    <tr>\n",
       "      <th>4</th>\n",
       "      <td>use cloro</td>\n",
       "      <td>1063</td>\n",
       "    </tr>\n",
       "    <tr>\n",
       "      <th>5</th>\n",
       "      <td>love cloro</td>\n",
       "      <td>923</td>\n",
       "    </tr>\n",
       "    <tr>\n",
       "      <th>6</th>\n",
       "      <td>use product</td>\n",
       "      <td>866</td>\n",
       "    </tr>\n",
       "    <tr>\n",
       "      <th>7</th>\n",
       "      <td>great product</td>\n",
       "      <td>772</td>\n",
       "    </tr>\n",
       "    <tr>\n",
       "      <th>8</th>\n",
       "      <td>love product</td>\n",
       "      <td>769</td>\n",
       "    </tr>\n",
       "    <tr>\n",
       "      <th>9</th>\n",
       "      <td>disinfect wipe</td>\n",
       "      <td>713</td>\n",
       "    </tr>\n",
       "  </tbody>\n",
       "</table>\n",
       "</div>"
      ],
      "text/plain": [
       "              bigram  count\n",
       "0     review collect   8743\n",
       "1  collect promotion   8743\n",
       "2         cloro wipe   1998\n",
       "3           easy use   1290\n",
       "4          use cloro   1063\n",
       "5         love cloro    923\n",
       "6        use product    866\n",
       "7      great product    772\n",
       "8       love product    769\n",
       "9     disinfect wipe    713"
      ]
     },
     "execution_count": 129,
     "metadata": {},
     "output_type": "execute_result"
    }
   ],
   "source": [
    "#Print the top 10 words in the bigram frequency\n",
    "data_bigram.head(10)"
   ]
  },
  {
   "cell_type": "markdown",
   "id": "8f1a0cbe",
   "metadata": {},
   "source": [
    "### Sentiment Analysis"
   ]
  },
  {
   "cell_type": "code",
   "execution_count": 130,
   "id": "ebbd6219",
   "metadata": {},
   "outputs": [],
   "source": [
    "from sklearn.metrics import classification_report\n",
    "from sklearn.metrics import accuracy_score\n",
    "from sklearn.feature_selection import SelectKBest\n",
    "from sklearn.feature_extraction.text import CountVectorizer, TfidfTransformer, TfidfVectorizer\n",
    "from sklearn.metrics import mean_squared_error, roc_auc_score\n",
    "from sklearn.model_selection import train_test_split\n",
    "from sklearn.metrics import confusion_matrix\n",
    "from sklearn import metrics\n",
    "from sklearn.metrics import roc_curve, auc"
   ]
  },
  {
   "cell_type": "code",
   "execution_count": 131,
   "id": "68085adb",
   "metadata": {},
   "outputs": [
    {
     "data": {
      "text/html": [
       "<div>\n",
       "<style scoped>\n",
       "    .dataframe tbody tr th:only-of-type {\n",
       "        vertical-align: middle;\n",
       "    }\n",
       "\n",
       "    .dataframe tbody tr th {\n",
       "        vertical-align: top;\n",
       "    }\n",
       "\n",
       "    .dataframe thead th {\n",
       "        text-align: right;\n",
       "    }\n",
       "</style>\n",
       "<table border=\"1\" class=\"dataframe\">\n",
       "  <thead>\n",
       "    <tr style=\"text-align: right;\">\n",
       "      <th></th>\n",
       "      <th>reviews_text_lemmatized</th>\n",
       "      <th>user_sentiment_flag</th>\n",
       "    </tr>\n",
       "  </thead>\n",
       "  <tbody>\n",
       "    <tr>\n",
       "      <th>0</th>\n",
       "      <td>love album good hip hop side current pop sound...</td>\n",
       "      <td>1</td>\n",
       "    </tr>\n",
       "  </tbody>\n",
       "</table>\n",
       "</div>"
      ],
      "text/plain": [
       "                             reviews_text_lemmatized  user_sentiment_flag\n",
       "0  love album good hip hop side current pop sound...                    1"
      ]
     },
     "execution_count": 131,
     "metadata": {},
     "output_type": "execute_result"
    }
   ],
   "source": [
    "data_sa.head(1)"
   ]
  },
  {
   "cell_type": "code",
   "execution_count": 132,
   "id": "1bd17828",
   "metadata": {},
   "outputs": [],
   "source": [
    "import pickle\n",
    "from pathlib import Path\n",
    "tfidf_vectorizer = TfidfVectorizer(ngram_range=(1,2))\n",
    "tfidf_vectorizer.fit(data_sa['reviews_text_lemmatized'])\n",
    "X = tfidf_vectorizer.transform(data_sa['reviews_text_lemmatized'])\n",
    "y = data_sa['user_sentiment_flag']\n",
    "\n",
    "# Saving the vocabulary used in tfidf vectorizer as features\n",
    "pickle.dump(tfidf_vectorizer.vocabulary_, open(\"features.pkl\",\"wb\"))\n",
    "\n",
    "# Split train test data\n",
    "X_train, X_test, y_train, y_test = train_test_split(X, y, train_size=0.75)"
   ]
  },
  {
   "cell_type": "code",
   "execution_count": 145,
   "id": "0887dd8c",
   "metadata": {
    "scrolled": true
   },
   "outputs": [
    {
     "name": "stdout",
     "output_type": "stream",
     "text": [
      "Before:  Counter({1: 20029, 0: 2471})\n"
     ]
    }
   ],
   "source": [
    "counter = Counter(y_train)\n",
    "print(\"Before: \",counter1)"
   ]
  },
  {
   "cell_type": "code",
   "execution_count": 146,
   "id": "96b7815c",
   "metadata": {},
   "outputs": [],
   "source": [
    "# Handling Class imbalance using SMOTE technique\n",
    "from collections import Counter\n",
    "from imblearn.over_sampling import SMOTE\n",
    "smt = SMOTE(random_state=45, k_neighbors=5)\n",
    "X_train_smote, y_train_smote = smt.fit_resample(X_train, y_train)"
   ]
  },
  {
   "cell_type": "code",
   "execution_count": 147,
   "id": "80713021",
   "metadata": {},
   "outputs": [
    {
     "name": "stdout",
     "output_type": "stream",
     "text": [
      "After:  Counter({1: 20029, 0: 20029})\n"
     ]
    }
   ],
   "source": [
    "counter = Counter(y_train_smote)\n",
    "print(\"After: \",counter)"
   ]
  },
  {
   "cell_type": "markdown",
   "id": "1b829bd2",
   "metadata": {},
   "source": [
    "### Model Building"
   ]
  },
  {
   "cell_type": "code",
   "execution_count": 148,
   "id": "85b8aa7e",
   "metadata": {},
   "outputs": [],
   "source": [
    "from sklearn.metrics import plot_confusion_matrix\n",
    "from sklearn.metrics import confusion_matrix, f1_score, recall_score, accuracy_score, precision_score, classification_report, confusion_matrix\n",
    "metrics = []\n",
    "def report_accuracy(final_model,model_name):\n",
    "    print ('Accuracy: ', accuracy_score(y_test, final_model.predict(X_test)))\n",
    "    print ('F1 score: ', f1_score(y_test, final_model.predict(X_test)))\n",
    "    print ('Recall: ', recall_score(y_test, final_model.predict(X_test)))\n",
    "    print ('Precision: ', precision_score(y_test, final_model.predict(X_test)))\n",
    "    print ('ROC AUC: ', roc_auc_score(y_test, final_model.predict(X_test)))    \n",
    "    print ('\\n clasification report:\\n', classification_report(y_test, final_model.predict(X_test)))\n",
    "    print ('\\n confussion matrix:\\n',confusion_matrix(y_test, final_model.predict(X_test)))\n",
    "    metrics.append(dict({'Model_name':model_name,\n",
    "                       'Accuracy':accuracy_score(y_test, final_model.predict(X_test)),\n",
    "                       'Roc_auc_score':roc_auc_score(y_test, final_model.predict(X_test)),\n",
    "                       'Precision':precision_score(y_test, final_model.predict(X_test)),\n",
    "                        'Recall':recall_score(y_test, final_model.predict(X_test)),\n",
    "                       'F1_score':f1_score(y_test, final_model.predict(X_test))\n",
    "                        }))\n",
    "\n",
    "def display_score(classifier):\n",
    "    cm = confusion_matrix(y_test, classifier.predict(X_test))\n",
    "    plot_confusion_matrix(classifier, X_test, y_test,include_values=True,values_format='g',cmap=plt.cm.Blues) \n",
    "    print(classifier)"
   ]
  },
  {
   "cell_type": "markdown",
   "id": "59321e80",
   "metadata": {},
   "source": [
    "#### Logistic Regression"
   ]
  },
  {
   "cell_type": "code",
   "execution_count": 149,
   "id": "b0973013",
   "metadata": {},
   "outputs": [
    {
     "data": {
      "text/plain": [
       "LogisticRegression()"
      ]
     },
     "execution_count": 149,
     "metadata": {},
     "output_type": "execute_result"
    }
   ],
   "source": [
    "from sklearn.linear_model import LogisticRegression\n",
    "model_lr = LogisticRegression()\n",
    "model_lr.fit(X_train_smote,y_train_smote)"
   ]
  },
  {
   "cell_type": "code",
   "execution_count": 150,
   "id": "850aa0f2",
   "metadata": {},
   "outputs": [
    {
     "name": "stdout",
     "output_type": "stream",
     "text": [
      "Accuracy:  0.9173333333333333\n",
      "F1 score:  0.95209395765724\n",
      "Recall:  0.9329194427619625\n",
      "Precision:  0.9720732092142632\n",
      "ROC AUC:  0.8676873999524098\n",
      "\n",
      " clasification report:\n",
      "               precision    recall  f1-score   support\n",
      "\n",
      "           0       0.62      0.80      0.70       896\n",
      "           1       0.97      0.93      0.95      6604\n",
      "\n",
      "    accuracy                           0.92      7500\n",
      "   macro avg       0.80      0.87      0.83      7500\n",
      "weighted avg       0.93      0.92      0.92      7500\n",
      "\n",
      "\n",
      " confussion matrix:\n",
      " [[ 719  177]\n",
      " [ 443 6161]]\n"
     ]
    }
   ],
   "source": [
    "report_accuracy(model_lr,\"Logistic Regression\")"
   ]
  },
  {
   "cell_type": "code",
   "execution_count": 152,
   "id": "4ea6ad72",
   "metadata": {},
   "outputs": [
    {
     "name": "stdout",
     "output_type": "stream",
     "text": [
      "LogisticRegression()\n"
     ]
    },
    {
     "data": {
      "image/png": "[encoded data removed]",
      "text/plain": [
       "<Figure size 432x288 with 2 Axes>"
      ]
     },
     "metadata": {
      "needs_background": "light"
     },
     "output_type": "display_data"
    }
   ],
   "source": [
    "display_score(model_lr)"
   ]
  },
  {
   "cell_type": "markdown",
   "id": "cb9c8f89",
   "metadata": {},
   "source": [
    "#### Random Forest"
   ]
  },
  {
   "cell_type": "code",
   "execution_count": 153,
   "id": "059c8334",
   "metadata": {},
   "outputs": [
    {
     "data": {
      "text/plain": [
       "RandomForestClassifier()"
      ]
     },
     "execution_count": 153,
     "metadata": {},
     "output_type": "execute_result"
    }
   ],
   "source": [
    "from sklearn.ensemble import RandomForestClassifier\n",
    "import time\n",
    "from sklearn.model_selection import GridSearchCV\n",
    "model_rf = RandomForestClassifier()\n",
    "model_rf.fit(X_train_smote,y_train_smote)"
   ]
  },
  {
   "cell_type": "code",
   "execution_count": 154,
   "id": "0bbd5f56",
   "metadata": {},
   "outputs": [
    {
     "name": "stdout",
     "output_type": "stream",
     "text": [
      "Accuracy:  0.9144\n",
      "F1 score:  0.9525498891352548\n",
      "Recall:  0.9757722592368262\n",
      "Precision:  0.9304071614207334\n",
      "ROC AUC:  0.7189129153326987\n",
      "\n",
      " clasification report:\n",
      "               precision    recall  f1-score   support\n",
      "\n",
      "           0       0.72      0.46      0.56       896\n",
      "           1       0.93      0.98      0.95      6604\n",
      "\n",
      "    accuracy                           0.91      7500\n",
      "   macro avg       0.83      0.72      0.76      7500\n",
      "weighted avg       0.91      0.91      0.91      7500\n",
      "\n",
      "\n",
      " confussion matrix:\n",
      " [[ 414  482]\n",
      " [ 160 6444]]\n"
     ]
    }
   ],
   "source": [
    "report_accuracy(model_rf,\"Random Forest - Before HPT\")"
   ]
  },
  {
   "cell_type": "code",
   "execution_count": 155,
   "id": "0bf0eecd",
   "metadata": {},
   "outputs": [
    {
     "name": "stdout",
     "output_type": "stream",
     "text": [
      "RandomForestClassifier()\n"
     ]
    },
    {
     "data": {
      "image/png": "[encoded data removed]",
      "text/plain": [
       "<Figure size 432x288 with 2 Axes>"
      ]
     },
     "metadata": {
      "needs_background": "light"
     },
     "output_type": "display_data"
    }
   ],
   "source": [
    "display_score(model_rf)"
   ]
  },
  {
   "cell_type": "code",
   "execution_count": 156,
   "id": "168322ed",
   "metadata": {
    "scrolled": true
   },
   "outputs": [
    {
     "name": "stdout",
     "output_type": "stream",
     "text": [
      "Fitting 3 folds for each of 27 candidates, totalling 81 fits\n"
     ]
    },
    {
     "data": {
      "text/plain": [
       "GridSearchCV(cv=3, estimator=RandomForestClassifier(), n_jobs=-1,\n",
       "             param_grid={'max_depth': [20, 40, 60],\n",
       "                         'min_samples_leaf': [10, 20, 30],\n",
       "                         'n_estimators': [50, 80, 100]},\n",
       "             return_train_score=True, scoring='roc_auc', verbose=1)"
      ]
     },
     "execution_count": 156,
     "metadata": {},
     "output_type": "execute_result"
    }
   ],
   "source": [
    "model_rf_1 = RandomForestClassifier()\n",
    "\n",
    "hyper_params = {'max_depth': [20, 40, 60],                \n",
    "                'min_samples_leaf': [10, 20, 30],\n",
    "                'n_estimators': [50, 80, 100]\n",
    "               }\n",
    "\n",
    "model_rf_tuned = GridSearchCV(estimator=model_rf_1,\n",
    "             param_grid=hyper_params,\n",
    "             scoring='roc_auc',\n",
    "             verbose=1,\n",
    "             cv=3,\n",
    "             n_jobs=-1,\n",
    "             return_train_score=True)\n",
    "\n",
    "model_rf_tuned.fit(X_train_smote,y_train_smote)"
   ]
  },
  {
   "cell_type": "code",
   "execution_count": 157,
   "id": "d4be996f",
   "metadata": {},
   "outputs": [
    {
     "data": {
      "text/plain": [
       "0.9507353779554909"
      ]
     },
     "execution_count": 157,
     "metadata": {},
     "output_type": "execute_result"
    }
   ],
   "source": [
    "model_rf_tuned.best_score_"
   ]
  },
  {
   "cell_type": "code",
   "execution_count": 158,
   "id": "c03b4f66",
   "metadata": {},
   "outputs": [
    {
     "data": {
      "text/plain": [
       "RandomForestClassifier(max_depth=60, min_samples_leaf=10)"
      ]
     },
     "execution_count": 158,
     "metadata": {},
     "output_type": "execute_result"
    }
   ],
   "source": [
    "model_rf_tuned.best_estimator_"
   ]
  },
  {
   "cell_type": "code",
   "execution_count": 159,
   "id": "094d40fd",
   "metadata": {},
   "outputs": [],
   "source": [
    "rf_best = model_rf_tuned.best_estimator_"
   ]
  },
  {
   "cell_type": "code",
   "execution_count": 160,
   "id": "59a41c66",
   "metadata": {},
   "outputs": [
    {
     "name": "stdout",
     "output_type": "stream",
     "text": [
      "Accuracy:  0.8741333333333333\n",
      "F1 score:  0.926719453501009\n",
      "Recall:  0.9038461538461539\n",
      "Precision:  0.9507805033450143\n",
      "ROC AUC:  0.7794900412087912\n",
      "\n",
      " clasification report:\n",
      "               precision    recall  f1-score   support\n",
      "\n",
      "           0       0.48      0.66      0.55       896\n",
      "           1       0.95      0.90      0.93      6604\n",
      "\n",
      "    accuracy                           0.87      7500\n",
      "   macro avg       0.72      0.78      0.74      7500\n",
      "weighted avg       0.89      0.87      0.88      7500\n",
      "\n",
      "\n",
      " confussion matrix:\n",
      " [[ 587  309]\n",
      " [ 635 5969]]\n"
     ]
    }
   ],
   "source": [
    "report_accuracy(rf_best,\"Random Forest - After HPT\")"
   ]
  },
  {
   "cell_type": "code",
   "execution_count": 161,
   "id": "06c416d8",
   "metadata": {
    "scrolled": true
   },
   "outputs": [
    {
     "name": "stdout",
     "output_type": "stream",
     "text": [
      "RandomForestClassifier(max_depth=60, min_samples_leaf=10)\n"
     ]
    },
    {
     "data": {
      "image/png": "[encoded data removed]",
      "text/plain": [
       "<Figure size 432x288 with 2 Axes>"
      ]
     },
     "metadata": {
      "needs_background": "light"
     },
     "output_type": "display_data"
    }
   ],
   "source": [
    "display_score(rf_best)"
   ]
  },
  {
   "cell_type": "markdown",
   "id": "2f8c22b2",
   "metadata": {},
   "source": [
    "#### XGBoost"
   ]
  },
  {
   "cell_type": "code",
   "execution_count": 162,
   "id": "e81bdf90",
   "metadata": {},
   "outputs": [],
   "source": [
    "from sklearn.ensemble import GradientBoostingClassifier\n",
    "from sklearn.model_selection import GridSearchCV, RandomizedSearchCV, cross_val_score, learning_curve\n",
    "import xgboost as xgb"
   ]
  },
  {
   "cell_type": "code",
   "execution_count": 163,
   "id": "d129a20d",
   "metadata": {},
   "outputs": [],
   "source": [
    "model_xgb = xgb.XGBClassifier(n_jobs = -1,objective = 'binary:logistic')"
   ]
  },
  {
   "cell_type": "code",
   "execution_count": 164,
   "id": "280dd970",
   "metadata": {},
   "outputs": [],
   "source": [
    "params = {\n",
    "        'n_estimators' : [100, 200], # no of trees\n",
    "        'learning_rate' : [0.01, 0.02, 0.05, 0.1, 0.25],  # eta\n",
    "        'min_child_weight': [1, 5, 7, 10],\n",
    "        'gamma': [0.1, 0.5, 1, 1.5, 5],\n",
    "        'subsample': [0.6, 0.8, 1.0],\n",
    "        'colsample_bytree': [0.6, 0.8, 1.0],\n",
    "        'max_depth': [10,20,30]\n",
    "        }\n",
    "\n",
    "folds = 3\n",
    "\n",
    "param_comb = 30\n",
    "\n",
    "random_search = RandomizedSearchCV(model_xgb, param_distributions=params, \n",
    "                                   n_iter=param_comb, scoring='roc_auc', \n",
    "                                   n_jobs=-1, cv=3, verbose=3, random_state=42)"
   ]
  },
  {
   "cell_type": "code",
   "execution_count": 165,
   "id": "e9c93c41",
   "metadata": {},
   "outputs": [
    {
     "name": "stdout",
     "output_type": "stream",
     "text": [
      "Fitting 3 folds for each of 30 candidates, totalling 90 fits\n"
     ]
    },
    {
     "data": {
      "text/plain": [
       "RandomizedSearchCV(cv=3,\n",
       "                   estimator=XGBClassifier(base_score=None, booster=None,\n",
       "                                           callbacks=None,\n",
       "                                           colsample_bylevel=None,\n",
       "                                           colsample_bynode=None,\n",
       "                                           colsample_bytree=None,\n",
       "                                           early_stopping_rounds=None,\n",
       "                                           enable_categorical=False,\n",
       "                                           eval_metric=None, feature_types=None,\n",
       "                                           gamma=None, gpu_id=None,\n",
       "                                           grow_policy=None,\n",
       "                                           importance_type=None,\n",
       "                                           interaction_constraints=None,\n",
       "                                           learning_rate...\n",
       "                                           num_parallel_tree=None,\n",
       "                                           predictor=None, random_state=None, ...),\n",
       "                   n_iter=30, n_jobs=-1,\n",
       "                   param_distributions={'colsample_bytree': [0.6, 0.8, 1.0],\n",
       "                                        'gamma': [0.1, 0.5, 1, 1.5, 5],\n",
       "                                        'learning_rate': [0.01, 0.02, 0.05, 0.1,\n",
       "                                                          0.25],\n",
       "                                        'max_depth': [10, 20, 30],\n",
       "                                        'min_child_weight': [1, 5, 7, 10],\n",
       "                                        'n_estimators': [100, 200],\n",
       "                                        'subsample': [0.6, 0.8, 1.0]},\n",
       "                   random_state=42, scoring='roc_auc', verbose=3)"
      ]
     },
     "execution_count": 165,
     "metadata": {},
     "output_type": "execute_result"
    }
   ],
   "source": [
    "random_search.fit(X_train_smote,y_train_smote)"
   ]
  },
  {
   "cell_type": "code",
   "execution_count": 166,
   "id": "115f3112",
   "metadata": {},
   "outputs": [
    {
     "name": "stdout",
     "output_type": "stream",
     "text": [
      "XGBClassifier(base_score=None, booster=None, callbacks=None,\n",
      "              colsample_bylevel=None, colsample_bynode=None,\n",
      "              colsample_bytree=0.8, early_stopping_rounds=None,\n",
      "              enable_categorical=False, eval_metric=None, feature_types=None,\n",
      "              gamma=1.5, gpu_id=None, grow_policy=None, importance_type=None,\n",
      "              interaction_constraints=None, learning_rate=0.25, max_bin=None,\n",
      "              max_cat_threshold=None, max_cat_to_onehot=None,\n",
      "              max_delta_step=None, max_depth=10, max_leaves=None,\n",
      "              min_child_weight=1, missing=nan, monotone_constraints=None,\n",
      "              n_estimators=200, n_jobs=-1, num_parallel_tree=None,\n",
      "              predictor=None, random_state=None, ...)\n"
     ]
    }
   ],
   "source": [
    "print(random_search.best_estimator_)"
   ]
  },
  {
   "cell_type": "code",
   "execution_count": 167,
   "id": "4d0d5119",
   "metadata": {},
   "outputs": [
    {
     "name": "stdout",
     "output_type": "stream",
     "text": [
      "0.9920702497789785\n"
     ]
    }
   ],
   "source": [
    "print(random_search.best_score_ )"
   ]
  },
  {
   "cell_type": "code",
   "execution_count": 168,
   "id": "1ae53525",
   "metadata": {},
   "outputs": [],
   "source": [
    "xgb_best = random_search.best_estimator_"
   ]
  },
  {
   "cell_type": "code",
   "execution_count": 169,
   "id": "74d6bc11",
   "metadata": {},
   "outputs": [
    {
     "name": "stdout",
     "output_type": "stream",
     "text": [
      "Accuracy:  0.9321333333333334\n",
      "F1 score:  0.9611004967520062\n",
      "Recall:  0.9521502119927316\n",
      "Precision:  0.9702206449621972\n",
      "ROC AUC:  0.8683742131392229\n",
      "\n",
      " clasification report:\n",
      "               precision    recall  f1-score   support\n",
      "\n",
      "           0       0.69      0.78      0.73       896\n",
      "           1       0.97      0.95      0.96      6604\n",
      "\n",
      "    accuracy                           0.93      7500\n",
      "   macro avg       0.83      0.87      0.85      7500\n",
      "weighted avg       0.94      0.93      0.93      7500\n",
      "\n",
      "\n",
      " confussion matrix:\n",
      " [[ 703  193]\n",
      " [ 316 6288]]\n"
     ]
    }
   ],
   "source": [
    "report_accuracy(xgb_best, \"XGBoost - After HPT\")"
   ]
  },
  {
   "cell_type": "code",
   "execution_count": 170,
   "id": "a9b9d925",
   "metadata": {},
   "outputs": [
    {
     "name": "stdout",
     "output_type": "stream",
     "text": [
      "XGBClassifier(base_score=None, booster=None, callbacks=None,\n",
      "              colsample_bylevel=None, colsample_bynode=None,\n",
      "              colsample_bytree=0.8, early_stopping_rounds=None,\n",
      "              enable_categorical=False, eval_metric=None, feature_types=None,\n",
      "              gamma=1.5, gpu_id=None, grow_policy=None, importance_type=None,\n",
      "              interaction_constraints=None, learning_rate=0.25, max_bin=None,\n",
      "              max_cat_threshold=None, max_cat_to_onehot=None,\n",
      "              max_delta_step=None, max_depth=10, max_leaves=None,\n",
      "              min_child_weight=1, missing=nan, monotone_constraints=None,\n",
      "              n_estimators=200, n_jobs=-1, num_parallel_tree=None,\n",
      "              predictor=None, random_state=None, ...)\n"
     ]
    },
    {
     "data": {
      "image/png": "[encoded data removed]",
      "text/plain": [
       "<Figure size 432x288 with 2 Axes>"
      ]
     },
     "metadata": {
      "needs_background": "light"
     },
     "output_type": "display_data"
    }
   ],
   "source": [
    "display_score(xgb_best)"
   ]
  },
  {
   "cell_type": "code",
   "execution_count": 171,
   "id": "4b994ec3",
   "metadata": {},
   "outputs": [],
   "source": [
    "# saving the model\n",
    "# Logistic Reg\n",
    "pickle.dump(model_lr, open('model_lr.pkl', 'wb'))\n",
    "# Random forest - before hpt\n",
    "pickle.dump(model_rf, open('model_rf.pkl', 'wb'))\n",
    "# Random forest - after hpt\n",
    "pickle.dump(rf_best, open('rf_best.pkl', 'wb'))\n",
    "# Xgboost\n",
    "pickle.dump(xgb_best, open('xgb_best.pkl', 'wb'))\n",
    "# tfidf_vectorizer\n",
    "pickle.dump(tfidf_vectorizer, open(\"tfidf_vectorizer.pkl\", \"wb\"))"
   ]
  },
  {
   "cell_type": "code",
   "execution_count": 173,
   "id": "140c9b43",
   "metadata": {},
   "outputs": [
    {
     "data": {
      "text/plain": [
       "[{'Model_name': 'Logistic Regression',\n",
       "  'Accuracy': 0.9173333333333333,\n",
       "  'Roc_auc_score': 0.8676873999524098,\n",
       "  'Precision': 0.9720732092142632,\n",
       "  'Recall': 0.9329194427619625,\n",
       "  'F1_score': 0.95209395765724},\n",
       " {'Model_name': 'Random Forest - Before HPT',\n",
       "  'Accuracy': 0.9144,\n",
       "  'Roc_auc_score': 0.7189129153326987,\n",
       "  'Precision': 0.9304071614207334,\n",
       "  'Recall': 0.9757722592368262,\n",
       "  'F1_score': 0.9525498891352548},\n",
       " {'Model_name': 'Random Forest - After HPT',\n",
       "  'Accuracy': 0.8741333333333333,\n",
       "  'Roc_auc_score': 0.7794900412087912,\n",
       "  'Precision': 0.9507805033450143,\n",
       "  'Recall': 0.9038461538461539,\n",
       "  'F1_score': 0.926719453501009},\n",
       " {'Model_name': 'XGBoost - After HPT',\n",
       "  'Accuracy': 0.9321333333333334,\n",
       "  'Roc_auc_score': 0.8683742131392229,\n",
       "  'Precision': 0.9702206449621972,\n",
       "  'Recall': 0.9521502119927316,\n",
       "  'F1_score': 0.9611004967520062}]"
      ]
     },
     "execution_count": 173,
     "metadata": {},
     "output_type": "execute_result"
    }
   ],
   "source": [
    "metrics"
   ]
  },
  {
   "cell_type": "code",
   "execution_count": 212,
   "id": "3ff902b2",
   "metadata": {},
   "outputs": [
    {
     "data": {
      "text/html": [
       "<div>\n",
       "<style scoped>\n",
       "    .dataframe tbody tr th:only-of-type {\n",
       "        vertical-align: middle;\n",
       "    }\n",
       "\n",
       "    .dataframe tbody tr th {\n",
       "        vertical-align: top;\n",
       "    }\n",
       "\n",
       "    .dataframe thead th {\n",
       "        text-align: right;\n",
       "    }\n",
       "</style>\n",
       "<table border=\"1\" class=\"dataframe\">\n",
       "  <thead>\n",
       "    <tr style=\"text-align: right;\">\n",
       "      <th></th>\n",
       "      <th>Model_name</th>\n",
       "      <th>Accuracy</th>\n",
       "      <th>Roc_auc_score</th>\n",
       "      <th>Precision</th>\n",
       "      <th>Recall</th>\n",
       "      <th>F1_score</th>\n",
       "    </tr>\n",
       "  </thead>\n",
       "  <tbody>\n",
       "    <tr>\n",
       "      <th>0</th>\n",
       "      <td>Logistic Regression</td>\n",
       "      <td>0.917333</td>\n",
       "      <td>0.867687</td>\n",
       "      <td>0.972073</td>\n",
       "      <td>0.932919</td>\n",
       "      <td>0.952094</td>\n",
       "    </tr>\n",
       "    <tr>\n",
       "      <th>1</th>\n",
       "      <td>Random Forest - Before HPT</td>\n",
       "      <td>0.914400</td>\n",
       "      <td>0.718913</td>\n",
       "      <td>0.930407</td>\n",
       "      <td>0.975772</td>\n",
       "      <td>0.952550</td>\n",
       "    </tr>\n",
       "    <tr>\n",
       "      <th>2</th>\n",
       "      <td>Random Forest - After HPT</td>\n",
       "      <td>0.874133</td>\n",
       "      <td>0.779490</td>\n",
       "      <td>0.950781</td>\n",
       "      <td>0.903846</td>\n",
       "      <td>0.926719</td>\n",
       "    </tr>\n",
       "    <tr>\n",
       "      <th>3</th>\n",
       "      <td>XGBoost - After HPT</td>\n",
       "      <td>0.932133</td>\n",
       "      <td>0.868374</td>\n",
       "      <td>0.970221</td>\n",
       "      <td>0.952150</td>\n",
       "      <td>0.961100</td>\n",
       "    </tr>\n",
       "  </tbody>\n",
       "</table>\n",
       "</div>"
      ],
      "text/plain": [
       "                   Model_name  Accuracy  Roc_auc_score  Precision    Recall  \\\n",
       "0         Logistic Regression  0.917333       0.867687   0.972073  0.932919   \n",
       "1  Random Forest - Before HPT  0.914400       0.718913   0.930407  0.975772   \n",
       "2   Random Forest - After HPT  0.874133       0.779490   0.950781  0.903846   \n",
       "3         XGBoost - After HPT  0.932133       0.868374   0.970221  0.952150   \n",
       "\n",
       "   F1_score  \n",
       "0  0.952094  \n",
       "1  0.952550  \n",
       "2  0.926719  \n",
       "3  0.961100  "
      ]
     },
     "execution_count": 212,
     "metadata": {},
     "output_type": "execute_result"
    }
   ],
   "source": [
    "# Metrics evealuation \n",
    "metrics_df = pd.DataFrame(metrics)\n",
    "metrics_df"
   ]
  },
  {
   "cell_type": "code",
   "execution_count": 213,
   "id": "e945e01f",
   "metadata": {},
   "outputs": [],
   "source": [
    "pickle.dump(metrics_df, open('metrics_df.pkl', 'wb'))"
   ]
  },
  {
   "cell_type": "markdown",
   "id": "09dd6ced",
   "metadata": {},
   "source": [
    "Insight:\n",
    "    \n",
    "    - As per the table, Logistic regression and XGBoost seem to provide similar results.\n",
    "    - To go with the Logistic regression model to keep things simpler."
   ]
  },
  {
   "cell_type": "code",
   "execution_count": 207,
   "id": "14469ef1",
   "metadata": {},
   "outputs": [],
   "source": [
    "# To test the model and see if it works\n",
    "def predict_complaint(sentence, model=model_lr):\n",
    "    word_vect_custom = tfidf_vectorizer.transform(pd.Series(sentence))\n",
    "    word_vect_custom_df = pd.DataFrame(word_vect_custom.toarray(),columns=tfidf_vectorizer.get_feature_names())\n",
    "    custom_pred = model.predict(word_vect_custom_df)      \n",
    "    print(\"Positive\" if custom_pred[0]==1 else \"Negative\")   "
   ]
  },
  {
   "cell_type": "code",
   "execution_count": 208,
   "id": "07e4ce3d",
   "metadata": {},
   "outputs": [],
   "source": [
    "sentence=\"This Dettol Handwash Refill is a highly effective and convenient product. It fits perfectly in dispensers, lathers well, and leaves a refreshing, clean feeling. With a pleasant fragrance, it offers peace of mind and excellent value for money due to its long-lasting nature. A must-have for cleanliness and hygiene.\""
   ]
  },
  {
   "cell_type": "code",
   "execution_count": 209,
   "id": "4d94507a",
   "metadata": {},
   "outputs": [
    {
     "name": "stdout",
     "output_type": "stream",
     "text": [
      "Positive\n"
     ]
    }
   ],
   "source": [
    "predict_complaint(sentence)"
   ]
  },
  {
   "cell_type": "code",
   "execution_count": 210,
   "id": "c181747a",
   "metadata": {},
   "outputs": [],
   "source": [
    "sentence1=\"Extremely bad smell - flowery, cheap and too strong. It ended up giving a headache to my husband and severe allergy to me\""
   ]
  },
  {
   "cell_type": "code",
   "execution_count": 211,
   "id": "50083ddc",
   "metadata": {},
   "outputs": [
    {
     "name": "stdout",
     "output_type": "stream",
     "text": [
      "Negative\n"
     ]
    }
   ],
   "source": [
    "predict_complaint(sentence1)"
   ]
  },
  {
   "cell_type": "markdown",
   "id": "8cc6ef09",
   "metadata": {},
   "source": [
    "## 2. Building a recommendation system"
   ]
  },
  {
   "cell_type": "markdown",
   "id": "c44a7ace",
   "metadata": {},
   "source": [
    "- User based recommendation\n",
    "- User based prediction & evaluation\n",
    "- Item based recommendation\n",
    "- Item based prediction & evaluation\n"
   ]
  },
  {
   "cell_type": "code",
   "execution_count": 22,
   "id": "61d49247",
   "metadata": {},
   "outputs": [],
   "source": [
    "ratings = pd.read_csv(\"sample30.csv\")"
   ]
  },
  {
   "cell_type": "code",
   "execution_count": 23,
   "id": "d6d2db9e",
   "metadata": {},
   "outputs": [
    {
     "data": {
      "text/html": [
       "<div>\n",
       "<style scoped>\n",
       "    .dataframe tbody tr th:only-of-type {\n",
       "        vertical-align: middle;\n",
       "    }\n",
       "\n",
       "    .dataframe tbody tr th {\n",
       "        vertical-align: top;\n",
       "    }\n",
       "\n",
       "    .dataframe thead th {\n",
       "        text-align: right;\n",
       "    }\n",
       "</style>\n",
       "<table border=\"1\" class=\"dataframe\">\n",
       "  <thead>\n",
       "    <tr style=\"text-align: right;\">\n",
       "      <th></th>\n",
       "      <th>id</th>\n",
       "      <th>brand</th>\n",
       "      <th>categories</th>\n",
       "      <th>manufacturer</th>\n",
       "      <th>name</th>\n",
       "      <th>reviews_date</th>\n",
       "      <th>reviews_didPurchase</th>\n",
       "      <th>reviews_doRecommend</th>\n",
       "      <th>reviews_rating</th>\n",
       "      <th>reviews_text</th>\n",
       "      <th>reviews_title</th>\n",
       "      <th>reviews_userCity</th>\n",
       "      <th>reviews_userProvince</th>\n",
       "      <th>reviews_username</th>\n",
       "      <th>user_sentiment</th>\n",
       "    </tr>\n",
       "  </thead>\n",
       "  <tbody>\n",
       "    <tr>\n",
       "      <th>0</th>\n",
       "      <td>AV13O1A8GV-KLJ3akUyj</td>\n",
       "      <td>Universal Music</td>\n",
       "      <td>Movies, Music &amp; Books,Music,R&amp;b,Movies &amp; TV,Mo...</td>\n",
       "      <td>Universal Music Group / Cash Money</td>\n",
       "      <td>Pink Friday: Roman Reloaded Re-Up (w/dvd)</td>\n",
       "      <td>2012-11-30T06:21:45.000Z</td>\n",
       "      <td>NaN</td>\n",
       "      <td>NaN</td>\n",
       "      <td>5</td>\n",
       "      <td>i love this album. it's very good. more to the...</td>\n",
       "      <td>Just Awesome</td>\n",
       "      <td>Los Angeles</td>\n",
       "      <td>NaN</td>\n",
       "      <td>joshua</td>\n",
       "      <td>Positive</td>\n",
       "    </tr>\n",
       "  </tbody>\n",
       "</table>\n",
       "</div>"
      ],
      "text/plain": [
       "                     id            brand  \\\n",
       "0  AV13O1A8GV-KLJ3akUyj  Universal Music   \n",
       "\n",
       "                                          categories  \\\n",
       "0  Movies, Music & Books,Music,R&b,Movies & TV,Mo...   \n",
       "\n",
       "                         manufacturer  \\\n",
       "0  Universal Music Group / Cash Money   \n",
       "\n",
       "                                        name              reviews_date  \\\n",
       "0  Pink Friday: Roman Reloaded Re-Up (w/dvd)  2012-11-30T06:21:45.000Z   \n",
       "\n",
       "  reviews_didPurchase reviews_doRecommend  reviews_rating  \\\n",
       "0                 NaN                 NaN               5   \n",
       "\n",
       "                                        reviews_text reviews_title  \\\n",
       "0  i love this album. it's very good. more to the...  Just Awesome   \n",
       "\n",
       "  reviews_userCity reviews_userProvince reviews_username user_sentiment  \n",
       "0      Los Angeles                  NaN           joshua       Positive  "
      ]
     },
     "execution_count": 23,
     "metadata": {},
     "output_type": "execute_result"
    }
   ],
   "source": [
    "ratings.head(1)"
   ]
  },
  {
   "cell_type": "code",
   "execution_count": 24,
   "id": "a40de84b",
   "metadata": {
    "scrolled": true
   },
   "outputs": [
    {
     "data": {
      "text/plain": [
       "(30000, 15)"
      ]
     },
     "execution_count": 24,
     "metadata": {},
     "output_type": "execute_result"
    }
   ],
   "source": [
    "ratings.shape"
   ]
  },
  {
   "cell_type": "code",
   "execution_count": 25,
   "id": "f94435a6",
   "metadata": {},
   "outputs": [
    {
     "data": {
      "text/plain": [
       "24915"
      ]
     },
     "execution_count": 25,
     "metadata": {},
     "output_type": "execute_result"
    }
   ],
   "source": [
    "len(ratings['reviews_username'].unique())"
   ]
  },
  {
   "cell_type": "code",
   "execution_count": 26,
   "id": "43c22341",
   "metadata": {},
   "outputs": [
    {
     "data": {
      "text/plain": [
       "(63, 15)"
      ]
     },
     "execution_count": 26,
     "metadata": {},
     "output_type": "execute_result"
    }
   ],
   "source": [
    "ratings[ratings['reviews_username'].isnull()].shape"
   ]
  },
  {
   "cell_type": "code",
   "execution_count": 27,
   "id": "2d9dd4bd",
   "metadata": {},
   "outputs": [
    {
     "data": {
      "text/html": [
       "<div>\n",
       "<style scoped>\n",
       "    .dataframe tbody tr th:only-of-type {\n",
       "        vertical-align: middle;\n",
       "    }\n",
       "\n",
       "    .dataframe tbody tr th {\n",
       "        vertical-align: top;\n",
       "    }\n",
       "\n",
       "    .dataframe thead th {\n",
       "        text-align: right;\n",
       "    }\n",
       "</style>\n",
       "<table border=\"1\" class=\"dataframe\">\n",
       "  <thead>\n",
       "    <tr style=\"text-align: right;\">\n",
       "      <th></th>\n",
       "      <th>id</th>\n",
       "      <th>brand</th>\n",
       "      <th>categories</th>\n",
       "      <th>manufacturer</th>\n",
       "      <th>name</th>\n",
       "      <th>reviews_date</th>\n",
       "      <th>reviews_didPurchase</th>\n",
       "      <th>reviews_doRecommend</th>\n",
       "      <th>reviews_rating</th>\n",
       "      <th>reviews_text</th>\n",
       "      <th>reviews_title</th>\n",
       "      <th>reviews_userCity</th>\n",
       "      <th>reviews_userProvince</th>\n",
       "      <th>reviews_username</th>\n",
       "      <th>user_sentiment</th>\n",
       "    </tr>\n",
       "  </thead>\n",
       "  <tbody>\n",
       "    <tr>\n",
       "      <th>1453</th>\n",
       "      <td>AVpe_N91LJeJML43z4jD</td>\n",
       "      <td>Way Basics</td>\n",
       "      <td>Home,Kids' Home,Girls' Room,Girls' Room Furnit...</td>\n",
       "      <td>Way Basics</td>\n",
       "      <td>Way Basics 3-Shelf Eco Narrow Bookcase Storage...</td>\n",
       "      <td>2011-07-08T00:00:00Z</td>\n",
       "      <td>NaN</td>\n",
       "      <td>NaN</td>\n",
       "      <td>4</td>\n",
       "      <td>We like this shelf, and found it relatively ea...</td>\n",
       "      <td>Way Basics 3-Shelf Storage Unit in Espresso Wo...</td>\n",
       "      <td>NaN</td>\n",
       "      <td>NaN</td>\n",
       "      <td>NaN</td>\n",
       "      <td>Positive</td>\n",
       "    </tr>\n",
       "  </tbody>\n",
       "</table>\n",
       "</div>"
      ],
      "text/plain": [
       "                        id       brand  \\\n",
       "1453  AVpe_N91LJeJML43z4jD  Way Basics   \n",
       "\n",
       "                                             categories manufacturer  \\\n",
       "1453  Home,Kids' Home,Girls' Room,Girls' Room Furnit...   Way Basics   \n",
       "\n",
       "                                                   name          reviews_date  \\\n",
       "1453  Way Basics 3-Shelf Eco Narrow Bookcase Storage...  2011-07-08T00:00:00Z   \n",
       "\n",
       "     reviews_didPurchase reviews_doRecommend  reviews_rating  \\\n",
       "1453                 NaN                 NaN               4   \n",
       "\n",
       "                                           reviews_text  \\\n",
       "1453  We like this shelf, and found it relatively ea...   \n",
       "\n",
       "                                          reviews_title reviews_userCity  \\\n",
       "1453  Way Basics 3-Shelf Storage Unit in Espresso Wo...              NaN   \n",
       "\n",
       "     reviews_userProvince reviews_username user_sentiment  \n",
       "1453                  NaN              NaN       Positive  "
      ]
     },
     "execution_count": 27,
     "metadata": {},
     "output_type": "execute_result"
    }
   ],
   "source": [
    "ratings[ratings['reviews_username'].isnull()].head(1)"
   ]
  },
  {
   "cell_type": "code",
   "execution_count": 28,
   "id": "f9c5274e",
   "metadata": {},
   "outputs": [],
   "source": [
    "# Removing null value entries in username from the dataset\n",
    "ratings = ratings[~ratings.reviews_username.isna()]"
   ]
  },
  {
   "cell_type": "code",
   "execution_count": 32,
   "id": "9e5f1ce6",
   "metadata": {},
   "outputs": [
    {
     "data": {
      "text/plain": [
       "(0, 15)"
      ]
     },
     "execution_count": 32,
     "metadata": {},
     "output_type": "execute_result"
    }
   ],
   "source": [
    "ratings[ratings['reviews_rating'].isnull()].shape"
   ]
  },
  {
   "cell_type": "code",
   "execution_count": 29,
   "id": "f625451e",
   "metadata": {},
   "outputs": [
    {
     "data": {
      "text/plain": [
       "(29937, 15)"
      ]
     },
     "execution_count": 29,
     "metadata": {},
     "output_type": "execute_result"
    }
   ],
   "source": [
    "ratings.shape"
   ]
  },
  {
   "cell_type": "markdown",
   "id": "da88144b",
   "metadata": {},
   "source": [
    "#### Dividing the dataset into train and test"
   ]
  },
  {
   "cell_type": "code",
   "execution_count": 30,
   "id": "854010f4",
   "metadata": {},
   "outputs": [],
   "source": [
    "from sklearn.model_selection import train_test_split\n",
    "train, test = train_test_split(ratings, test_size=0.30, random_state=31)"
   ]
  },
  {
   "cell_type": "code",
   "execution_count": 31,
   "id": "ed07db71",
   "metadata": {},
   "outputs": [
    {
     "name": "stdout",
     "output_type": "stream",
     "text": [
      "(20955, 15)\n",
      "(8982, 15)\n"
     ]
    }
   ],
   "source": [
    "print(train.shape)\n",
    "print(test.shape)"
   ]
  },
  {
   "cell_type": "markdown",
   "id": "0bc1648c",
   "metadata": {},
   "source": [
    "#### User based recommendation"
   ]
  },
  {
   "cell_type": "code",
   "execution_count": 34,
   "id": "bb85d334",
   "metadata": {},
   "outputs": [
    {
     "data": {
      "text/html": [
       "<div>\n",
       "<style scoped>\n",
       "    .dataframe tbody tr th:only-of-type {\n",
       "        vertical-align: middle;\n",
       "    }\n",
       "\n",
       "    .dataframe tbody tr th {\n",
       "        vertical-align: top;\n",
       "    }\n",
       "\n",
       "    .dataframe thead th {\n",
       "        text-align: right;\n",
       "    }\n",
       "</style>\n",
       "<table border=\"1\" class=\"dataframe\">\n",
       "  <thead>\n",
       "    <tr style=\"text-align: right;\">\n",
       "      <th>id</th>\n",
       "      <th>AV13O1A8GV-KLJ3akUyj</th>\n",
       "      <th>AV14LG0R-jtxr-f38QfS</th>\n",
       "      <th>AV16khLE-jtxr-f38VFn</th>\n",
       "      <th>AV1YGDqsGV-KLJ3adc-O</th>\n",
       "      <th>AV1YIch7GV-KLJ3addeG</th>\n",
       "      <th>AV1YlENIglJLPUi8IHsX</th>\n",
       "      <th>AV1YmBrdGV-KLJ3adewb</th>\n",
       "      <th>AV1YmDL9vKc47QAVgr7_</th>\n",
       "      <th>AV1Ymf_rglJLPUi8II2v</th>\n",
       "      <th>AV1Yn94nvKc47QAVgtst</th>\n",
       "      <th>...</th>\n",
       "      <th>AVpfr5cb1cnluZ0-pZFp</th>\n",
       "      <th>AVpfrFDZLJeJML43Bmv0</th>\n",
       "      <th>AVpfrTyiLJeJML43BrSI</th>\n",
       "      <th>AVpfrfHF1cnluZ0-pRai</th>\n",
       "      <th>AVpfrgjFLJeJML43BvCc</th>\n",
       "      <th>AVpfshNsLJeJML43CB8q</th>\n",
       "      <th>AVpfthSailAPnD_xg3ON</th>\n",
       "      <th>AVpftikC1cnluZ0-p31V</th>\n",
       "      <th>AVpfv4TlilAPnD_xhjNS</th>\n",
       "      <th>AVpfvieo1cnluZ0-qdnu</th>\n",
       "    </tr>\n",
       "    <tr>\n",
       "      <th>reviews_username</th>\n",
       "      <th></th>\n",
       "      <th></th>\n",
       "      <th></th>\n",
       "      <th></th>\n",
       "      <th></th>\n",
       "      <th></th>\n",
       "      <th></th>\n",
       "      <th></th>\n",
       "      <th></th>\n",
       "      <th></th>\n",
       "      <th></th>\n",
       "      <th></th>\n",
       "      <th></th>\n",
       "      <th></th>\n",
       "      <th></th>\n",
       "      <th></th>\n",
       "      <th></th>\n",
       "      <th></th>\n",
       "      <th></th>\n",
       "      <th></th>\n",
       "      <th></th>\n",
       "    </tr>\n",
       "  </thead>\n",
       "  <tbody>\n",
       "    <tr>\n",
       "      <th>00sab00</th>\n",
       "      <td>0.0</td>\n",
       "      <td>0.0</td>\n",
       "      <td>0.0</td>\n",
       "      <td>0.0</td>\n",
       "      <td>0.0</td>\n",
       "      <td>0.0</td>\n",
       "      <td>0.0</td>\n",
       "      <td>0.0</td>\n",
       "      <td>0.0</td>\n",
       "      <td>0.0</td>\n",
       "      <td>...</td>\n",
       "      <td>0.0</td>\n",
       "      <td>0.0</td>\n",
       "      <td>0.0</td>\n",
       "      <td>0.0</td>\n",
       "      <td>0.0</td>\n",
       "      <td>0.0</td>\n",
       "      <td>0.0</td>\n",
       "      <td>0.0</td>\n",
       "      <td>0.0</td>\n",
       "      <td>0.0</td>\n",
       "    </tr>\n",
       "    <tr>\n",
       "      <th>01impala</th>\n",
       "      <td>0.0</td>\n",
       "      <td>0.0</td>\n",
       "      <td>0.0</td>\n",
       "      <td>0.0</td>\n",
       "      <td>0.0</td>\n",
       "      <td>0.0</td>\n",
       "      <td>0.0</td>\n",
       "      <td>0.0</td>\n",
       "      <td>0.0</td>\n",
       "      <td>0.0</td>\n",
       "      <td>...</td>\n",
       "      <td>0.0</td>\n",
       "      <td>0.0</td>\n",
       "      <td>0.0</td>\n",
       "      <td>0.0</td>\n",
       "      <td>0.0</td>\n",
       "      <td>0.0</td>\n",
       "      <td>0.0</td>\n",
       "      <td>0.0</td>\n",
       "      <td>0.0</td>\n",
       "      <td>0.0</td>\n",
       "    </tr>\n",
       "    <tr>\n",
       "      <th>02dakota</th>\n",
       "      <td>0.0</td>\n",
       "      <td>0.0</td>\n",
       "      <td>0.0</td>\n",
       "      <td>0.0</td>\n",
       "      <td>0.0</td>\n",
       "      <td>0.0</td>\n",
       "      <td>0.0</td>\n",
       "      <td>0.0</td>\n",
       "      <td>0.0</td>\n",
       "      <td>0.0</td>\n",
       "      <td>...</td>\n",
       "      <td>0.0</td>\n",
       "      <td>0.0</td>\n",
       "      <td>0.0</td>\n",
       "      <td>0.0</td>\n",
       "      <td>0.0</td>\n",
       "      <td>0.0</td>\n",
       "      <td>0.0</td>\n",
       "      <td>0.0</td>\n",
       "      <td>0.0</td>\n",
       "      <td>0.0</td>\n",
       "    </tr>\n",
       "  </tbody>\n",
       "</table>\n",
       "<p>3 rows × 255 columns</p>\n",
       "</div>"
      ],
      "text/plain": [
       "id                AV13O1A8GV-KLJ3akUyj  AV14LG0R-jtxr-f38QfS  \\\n",
       "reviews_username                                               \n",
       "00sab00                            0.0                   0.0   \n",
       "01impala                           0.0                   0.0   \n",
       "02dakota                           0.0                   0.0   \n",
       "\n",
       "id                AV16khLE-jtxr-f38VFn  AV1YGDqsGV-KLJ3adc-O  \\\n",
       "reviews_username                                               \n",
       "00sab00                            0.0                   0.0   \n",
       "01impala                           0.0                   0.0   \n",
       "02dakota                           0.0                   0.0   \n",
       "\n",
       "id                AV1YIch7GV-KLJ3addeG  AV1YlENIglJLPUi8IHsX  \\\n",
       "reviews_username                                               \n",
       "00sab00                            0.0                   0.0   \n",
       "01impala                           0.0                   0.0   \n",
       "02dakota                           0.0                   0.0   \n",
       "\n",
       "id                AV1YmBrdGV-KLJ3adewb  AV1YmDL9vKc47QAVgr7_  \\\n",
       "reviews_username                                               \n",
       "00sab00                            0.0                   0.0   \n",
       "01impala                           0.0                   0.0   \n",
       "02dakota                           0.0                   0.0   \n",
       "\n",
       "id                AV1Ymf_rglJLPUi8II2v  AV1Yn94nvKc47QAVgtst  ...  \\\n",
       "reviews_username                                              ...   \n",
       "00sab00                            0.0                   0.0  ...   \n",
       "01impala                           0.0                   0.0  ...   \n",
       "02dakota                           0.0                   0.0  ...   \n",
       "\n",
       "id                AVpfr5cb1cnluZ0-pZFp  AVpfrFDZLJeJML43Bmv0  \\\n",
       "reviews_username                                               \n",
       "00sab00                            0.0                   0.0   \n",
       "01impala                           0.0                   0.0   \n",
       "02dakota                           0.0                   0.0   \n",
       "\n",
       "id                AVpfrTyiLJeJML43BrSI  AVpfrfHF1cnluZ0-pRai  \\\n",
       "reviews_username                                               \n",
       "00sab00                            0.0                   0.0   \n",
       "01impala                           0.0                   0.0   \n",
       "02dakota                           0.0                   0.0   \n",
       "\n",
       "id                AVpfrgjFLJeJML43BvCc  AVpfshNsLJeJML43CB8q  \\\n",
       "reviews_username                                               \n",
       "00sab00                            0.0                   0.0   \n",
       "01impala                           0.0                   0.0   \n",
       "02dakota                           0.0                   0.0   \n",
       "\n",
       "id                AVpfthSailAPnD_xg3ON  AVpftikC1cnluZ0-p31V  \\\n",
       "reviews_username                                               \n",
       "00sab00                            0.0                   0.0   \n",
       "01impala                           0.0                   0.0   \n",
       "02dakota                           0.0                   0.0   \n",
       "\n",
       "id                AVpfv4TlilAPnD_xhjNS  AVpfvieo1cnluZ0-qdnu  \n",
       "reviews_username                                              \n",
       "00sab00                            0.0                   0.0  \n",
       "01impala                           0.0                   0.0  \n",
       "02dakota                           0.0                   0.0  \n",
       "\n",
       "[3 rows x 255 columns]"
      ]
     },
     "execution_count": 34,
     "metadata": {},
     "output_type": "execute_result"
    }
   ],
   "source": [
    "# Pivot the train ratings' into matrix format with columns as product ids and rows as username\n",
    "df_pivot = train.pivot_table(\n",
    "    index='reviews_username',\n",
    "    columns='id',\n",
    "    values='reviews_rating'\n",
    ").fillna(0)\n",
    "\n",
    "df_pivot.head(3)"
   ]
  },
  {
   "cell_type": "code",
   "execution_count": 35,
   "id": "dc188411",
   "metadata": {},
   "outputs": [],
   "source": [
    "dummy_train = train.copy()"
   ]
  },
  {
   "cell_type": "code",
   "execution_count": 36,
   "id": "3c051877",
   "metadata": {},
   "outputs": [],
   "source": [
    "# Product not rated is marked as 1 for predicting\n",
    "dummy_train['reviews_rating'] = dummy_train['reviews_rating'].apply(lambda x: 0 if x>=1 else 1)"
   ]
  },
  {
   "cell_type": "code",
   "execution_count": 39,
   "id": "c2eacde1",
   "metadata": {},
   "outputs": [],
   "source": [
    "# Convert the dummy train into matrix format\n",
    "dummy_train = dummy_train.pivot_table(\n",
    "    index='reviews_username',\n",
    "    columns='id',\n",
    "    values='reviews_rating'\n",
    ").fillna(1)"
   ]
  },
  {
   "cell_type": "code",
   "execution_count": 40,
   "id": "0a22180e",
   "metadata": {},
   "outputs": [
    {
     "data": {
      "text/html": [
       "<div>\n",
       "<style scoped>\n",
       "    .dataframe tbody tr th:only-of-type {\n",
       "        vertical-align: middle;\n",
       "    }\n",
       "\n",
       "    .dataframe tbody tr th {\n",
       "        vertical-align: top;\n",
       "    }\n",
       "\n",
       "    .dataframe thead th {\n",
       "        text-align: right;\n",
       "    }\n",
       "</style>\n",
       "<table border=\"1\" class=\"dataframe\">\n",
       "  <thead>\n",
       "    <tr style=\"text-align: right;\">\n",
       "      <th>id</th>\n",
       "      <th>AV13O1A8GV-KLJ3akUyj</th>\n",
       "      <th>AV14LG0R-jtxr-f38QfS</th>\n",
       "      <th>AV16khLE-jtxr-f38VFn</th>\n",
       "      <th>AV1YGDqsGV-KLJ3adc-O</th>\n",
       "      <th>AV1YIch7GV-KLJ3addeG</th>\n",
       "      <th>AV1YlENIglJLPUi8IHsX</th>\n",
       "      <th>AV1YmBrdGV-KLJ3adewb</th>\n",
       "      <th>AV1YmDL9vKc47QAVgr7_</th>\n",
       "      <th>AV1Ymf_rglJLPUi8II2v</th>\n",
       "      <th>AV1Yn94nvKc47QAVgtst</th>\n",
       "      <th>...</th>\n",
       "      <th>AVpfr5cb1cnluZ0-pZFp</th>\n",
       "      <th>AVpfrFDZLJeJML43Bmv0</th>\n",
       "      <th>AVpfrTyiLJeJML43BrSI</th>\n",
       "      <th>AVpfrfHF1cnluZ0-pRai</th>\n",
       "      <th>AVpfrgjFLJeJML43BvCc</th>\n",
       "      <th>AVpfshNsLJeJML43CB8q</th>\n",
       "      <th>AVpfthSailAPnD_xg3ON</th>\n",
       "      <th>AVpftikC1cnluZ0-p31V</th>\n",
       "      <th>AVpfv4TlilAPnD_xhjNS</th>\n",
       "      <th>AVpfvieo1cnluZ0-qdnu</th>\n",
       "    </tr>\n",
       "    <tr>\n",
       "      <th>reviews_username</th>\n",
       "      <th></th>\n",
       "      <th></th>\n",
       "      <th></th>\n",
       "      <th></th>\n",
       "      <th></th>\n",
       "      <th></th>\n",
       "      <th></th>\n",
       "      <th></th>\n",
       "      <th></th>\n",
       "      <th></th>\n",
       "      <th></th>\n",
       "      <th></th>\n",
       "      <th></th>\n",
       "      <th></th>\n",
       "      <th></th>\n",
       "      <th></th>\n",
       "      <th></th>\n",
       "      <th></th>\n",
       "      <th></th>\n",
       "      <th></th>\n",
       "      <th></th>\n",
       "    </tr>\n",
       "  </thead>\n",
       "  <tbody>\n",
       "    <tr>\n",
       "      <th>00sab00</th>\n",
       "      <td>1.0</td>\n",
       "      <td>1.0</td>\n",
       "      <td>1.0</td>\n",
       "      <td>1.0</td>\n",
       "      <td>1.0</td>\n",
       "      <td>1.0</td>\n",
       "      <td>1.0</td>\n",
       "      <td>1.0</td>\n",
       "      <td>1.0</td>\n",
       "      <td>1.0</td>\n",
       "      <td>...</td>\n",
       "      <td>1.0</td>\n",
       "      <td>1.0</td>\n",
       "      <td>1.0</td>\n",
       "      <td>1.0</td>\n",
       "      <td>1.0</td>\n",
       "      <td>1.0</td>\n",
       "      <td>1.0</td>\n",
       "      <td>1.0</td>\n",
       "      <td>1.0</td>\n",
       "      <td>1.0</td>\n",
       "    </tr>\n",
       "    <tr>\n",
       "      <th>01impala</th>\n",
       "      <td>1.0</td>\n",
       "      <td>1.0</td>\n",
       "      <td>1.0</td>\n",
       "      <td>1.0</td>\n",
       "      <td>1.0</td>\n",
       "      <td>1.0</td>\n",
       "      <td>1.0</td>\n",
       "      <td>1.0</td>\n",
       "      <td>1.0</td>\n",
       "      <td>1.0</td>\n",
       "      <td>...</td>\n",
       "      <td>1.0</td>\n",
       "      <td>1.0</td>\n",
       "      <td>1.0</td>\n",
       "      <td>1.0</td>\n",
       "      <td>1.0</td>\n",
       "      <td>1.0</td>\n",
       "      <td>1.0</td>\n",
       "      <td>1.0</td>\n",
       "      <td>1.0</td>\n",
       "      <td>1.0</td>\n",
       "    </tr>\n",
       "    <tr>\n",
       "      <th>02dakota</th>\n",
       "      <td>1.0</td>\n",
       "      <td>1.0</td>\n",
       "      <td>1.0</td>\n",
       "      <td>1.0</td>\n",
       "      <td>1.0</td>\n",
       "      <td>1.0</td>\n",
       "      <td>1.0</td>\n",
       "      <td>1.0</td>\n",
       "      <td>1.0</td>\n",
       "      <td>1.0</td>\n",
       "      <td>...</td>\n",
       "      <td>1.0</td>\n",
       "      <td>1.0</td>\n",
       "      <td>1.0</td>\n",
       "      <td>1.0</td>\n",
       "      <td>1.0</td>\n",
       "      <td>1.0</td>\n",
       "      <td>1.0</td>\n",
       "      <td>1.0</td>\n",
       "      <td>1.0</td>\n",
       "      <td>1.0</td>\n",
       "    </tr>\n",
       "    <tr>\n",
       "      <th>02deuce</th>\n",
       "      <td>1.0</td>\n",
       "      <td>1.0</td>\n",
       "      <td>1.0</td>\n",
       "      <td>1.0</td>\n",
       "      <td>1.0</td>\n",
       "      <td>1.0</td>\n",
       "      <td>1.0</td>\n",
       "      <td>1.0</td>\n",
       "      <td>1.0</td>\n",
       "      <td>1.0</td>\n",
       "      <td>...</td>\n",
       "      <td>1.0</td>\n",
       "      <td>1.0</td>\n",
       "      <td>1.0</td>\n",
       "      <td>1.0</td>\n",
       "      <td>1.0</td>\n",
       "      <td>1.0</td>\n",
       "      <td>1.0</td>\n",
       "      <td>1.0</td>\n",
       "      <td>1.0</td>\n",
       "      <td>1.0</td>\n",
       "    </tr>\n",
       "    <tr>\n",
       "      <th>06stidriver</th>\n",
       "      <td>1.0</td>\n",
       "      <td>1.0</td>\n",
       "      <td>1.0</td>\n",
       "      <td>1.0</td>\n",
       "      <td>1.0</td>\n",
       "      <td>1.0</td>\n",
       "      <td>1.0</td>\n",
       "      <td>1.0</td>\n",
       "      <td>1.0</td>\n",
       "      <td>1.0</td>\n",
       "      <td>...</td>\n",
       "      <td>1.0</td>\n",
       "      <td>1.0</td>\n",
       "      <td>1.0</td>\n",
       "      <td>1.0</td>\n",
       "      <td>1.0</td>\n",
       "      <td>1.0</td>\n",
       "      <td>1.0</td>\n",
       "      <td>1.0</td>\n",
       "      <td>1.0</td>\n",
       "      <td>1.0</td>\n",
       "    </tr>\n",
       "  </tbody>\n",
       "</table>\n",
       "<p>5 rows × 255 columns</p>\n",
       "</div>"
      ],
      "text/plain": [
       "id                AV13O1A8GV-KLJ3akUyj  AV14LG0R-jtxr-f38QfS  \\\n",
       "reviews_username                                               \n",
       "00sab00                            1.0                   1.0   \n",
       "01impala                           1.0                   1.0   \n",
       "02dakota                           1.0                   1.0   \n",
       "02deuce                            1.0                   1.0   \n",
       "06stidriver                        1.0                   1.0   \n",
       "\n",
       "id                AV16khLE-jtxr-f38VFn  AV1YGDqsGV-KLJ3adc-O  \\\n",
       "reviews_username                                               \n",
       "00sab00                            1.0                   1.0   \n",
       "01impala                           1.0                   1.0   \n",
       "02dakota                           1.0                   1.0   \n",
       "02deuce                            1.0                   1.0   \n",
       "06stidriver                        1.0                   1.0   \n",
       "\n",
       "id                AV1YIch7GV-KLJ3addeG  AV1YlENIglJLPUi8IHsX  \\\n",
       "reviews_username                                               \n",
       "00sab00                            1.0                   1.0   \n",
       "01impala                           1.0                   1.0   \n",
       "02dakota                           1.0                   1.0   \n",
       "02deuce                            1.0                   1.0   \n",
       "06stidriver                        1.0                   1.0   \n",
       "\n",
       "id                AV1YmBrdGV-KLJ3adewb  AV1YmDL9vKc47QAVgr7_  \\\n",
       "reviews_username                                               \n",
       "00sab00                            1.0                   1.0   \n",
       "01impala                           1.0                   1.0   \n",
       "02dakota                           1.0                   1.0   \n",
       "02deuce                            1.0                   1.0   \n",
       "06stidriver                        1.0                   1.0   \n",
       "\n",
       "id                AV1Ymf_rglJLPUi8II2v  AV1Yn94nvKc47QAVgtst  ...  \\\n",
       "reviews_username                                              ...   \n",
       "00sab00                            1.0                   1.0  ...   \n",
       "01impala                           1.0                   1.0  ...   \n",
       "02dakota                           1.0                   1.0  ...   \n",
       "02deuce                            1.0                   1.0  ...   \n",
       "06stidriver                        1.0                   1.0  ...   \n",
       "\n",
       "id                AVpfr5cb1cnluZ0-pZFp  AVpfrFDZLJeJML43Bmv0  \\\n",
       "reviews_username                                               \n",
       "00sab00                            1.0                   1.0   \n",
       "01impala                           1.0                   1.0   \n",
       "02dakota                           1.0                   1.0   \n",
       "02deuce                            1.0                   1.0   \n",
       "06stidriver                        1.0                   1.0   \n",
       "\n",
       "id                AVpfrTyiLJeJML43BrSI  AVpfrfHF1cnluZ0-pRai  \\\n",
       "reviews_username                                               \n",
       "00sab00                            1.0                   1.0   \n",
       "01impala                           1.0                   1.0   \n",
       "02dakota                           1.0                   1.0   \n",
       "02deuce                            1.0                   1.0   \n",
       "06stidriver                        1.0                   1.0   \n",
       "\n",
       "id                AVpfrgjFLJeJML43BvCc  AVpfshNsLJeJML43CB8q  \\\n",
       "reviews_username                                               \n",
       "00sab00                            1.0                   1.0   \n",
       "01impala                           1.0                   1.0   \n",
       "02dakota                           1.0                   1.0   \n",
       "02deuce                            1.0                   1.0   \n",
       "06stidriver                        1.0                   1.0   \n",
       "\n",
       "id                AVpfthSailAPnD_xg3ON  AVpftikC1cnluZ0-p31V  \\\n",
       "reviews_username                                               \n",
       "00sab00                            1.0                   1.0   \n",
       "01impala                           1.0                   1.0   \n",
       "02dakota                           1.0                   1.0   \n",
       "02deuce                            1.0                   1.0   \n",
       "06stidriver                        1.0                   1.0   \n",
       "\n",
       "id                AVpfv4TlilAPnD_xhjNS  AVpfvieo1cnluZ0-qdnu  \n",
       "reviews_username                                              \n",
       "00sab00                            1.0                   1.0  \n",
       "01impala                           1.0                   1.0  \n",
       "02dakota                           1.0                   1.0  \n",
       "02deuce                            1.0                   1.0  \n",
       "06stidriver                        1.0                   1.0  \n",
       "\n",
       "[5 rows x 255 columns]"
      ]
     },
     "execution_count": 40,
     "metadata": {},
     "output_type": "execute_result"
    }
   ],
   "source": [
    "dummy_train.head()"
   ]
  },
  {
   "cell_type": "markdown",
   "id": "55c5fed8",
   "metadata": {},
   "source": [
    "#### User based prediction & evaluation"
   ]
  },
  {
   "cell_type": "code",
   "execution_count": 61,
   "id": "1cb513ac",
   "metadata": {},
   "outputs": [],
   "source": [
    "# Using adjusted cosine similarity\n",
    "# creating pivot without removing nan values to calculate mean\n",
    "df_pivot = train.pivot_table(\n",
    "    index='reviews_username',\n",
    "    columns='id',\n",
    "    values='reviews_rating'\n",
    ")"
   ]
  },
  {
   "cell_type": "code",
   "execution_count": 62,
   "id": "3feb5c2b",
   "metadata": {},
   "outputs": [],
   "source": [
    "from sklearn.metrics.pairwise import pairwise_distances\n",
    "def adjusted_cosine_similarity(df_mean):\n",
    "    mean = np.nanmean(df_mean, axis=1)\n",
    "    df_subtracted = (df_mean.T-mean).T\n",
    "    user_correlation = 1 - pairwise_distances(df_subtracted.fillna(0), metric='cosine')\n",
    "    user_correlation[np.isnan(user_correlation)] = 0\n",
    "    print(user_correlation)"
   ]
  },
  {
   "cell_type": "code",
   "execution_count": 63,
   "id": "2dd55808",
   "metadata": {},
   "outputs": [
    {
     "name": "stdout",
     "output_type": "stream",
     "text": [
      "[[1. 0. 0. ... 0. 0. 0.]\n",
      " [0. 0. 0. ... 0. 0. 0.]\n",
      " [0. 0. 0. ... 0. 0. 0.]\n",
      " ...\n",
      " [0. 0. 0. ... 0. 0. 0.]\n",
      " [0. 0. 0. ... 0. 0. 0.]\n",
      " [0. 0. 0. ... 0. 0. 0.]]\n"
     ]
    }
   ],
   "source": [
    "adjusted_cosine_similarity(df_pivot)"
   ]
  },
  {
   "cell_type": "code",
   "execution_count": 64,
   "id": "920d0442",
   "metadata": {},
   "outputs": [
    {
     "data": {
      "text/plain": [
       "array([[1., 0., 0., ..., 0., 0., 0.],\n",
       "       [0., 0., 0., ..., 0., 0., 0.],\n",
       "       [0., 0., 0., ..., 0., 0., 0.],\n",
       "       ...,\n",
       "       [0., 0., 0., ..., 0., 0., 0.],\n",
       "       [0., 0., 0., ..., 0., 0., 0.],\n",
       "       [0., 0., 0., ..., 0., 0., 0.]])"
      ]
     },
     "execution_count": 64,
     "metadata": {},
     "output_type": "execute_result"
    }
   ],
   "source": [
    "user_correlation[user_correlation<0]=0\n",
    "user_correlation"
   ]
  },
  {
   "cell_type": "code",
   "execution_count": 65,
   "id": "657771dd",
   "metadata": {},
   "outputs": [
    {
     "data": {
      "text/plain": [
       "array([[0.        , 0.        , 0.        , ..., 1.55829543, 3.20256308,\n",
       "        0.        ],\n",
       "       [0.        , 0.        , 0.        , ..., 0.        , 0.        ,\n",
       "        0.        ],\n",
       "       [0.        , 0.        , 0.        , ..., 0.        , 0.        ,\n",
       "        0.        ],\n",
       "       ...,\n",
       "       [0.        , 0.        , 0.        , ..., 0.        , 0.        ,\n",
       "        0.        ],\n",
       "       [0.        , 0.        , 0.        , ..., 0.        , 0.        ,\n",
       "        0.        ],\n",
       "       [0.        , 0.        , 0.        , ..., 0.        , 0.        ,\n",
       "        0.        ]])"
      ]
     },
     "execution_count": 65,
     "metadata": {},
     "output_type": "execute_result"
    }
   ],
   "source": [
    "user_predicted_ratings = np.dot(user_correlation, df_pivot.fillna(0))\n",
    "user_predicted_ratings"
   ]
  },
  {
   "cell_type": "code",
   "execution_count": 66,
   "id": "72e7d8f5",
   "metadata": {},
   "outputs": [
    {
     "data": {
      "text/plain": [
       "(18212, 255)"
      ]
     },
     "execution_count": 66,
     "metadata": {},
     "output_type": "execute_result"
    }
   ],
   "source": [
    "user_predicted_ratings.shape"
   ]
  },
  {
   "cell_type": "code",
   "execution_count": 68,
   "id": "d0d66ada",
   "metadata": {},
   "outputs": [
    {
     "data": {
      "text/html": [
       "<div>\n",
       "<style scoped>\n",
       "    .dataframe tbody tr th:only-of-type {\n",
       "        vertical-align: middle;\n",
       "    }\n",
       "\n",
       "    .dataframe tbody tr th {\n",
       "        vertical-align: top;\n",
       "    }\n",
       "\n",
       "    .dataframe thead th {\n",
       "        text-align: right;\n",
       "    }\n",
       "</style>\n",
       "<table border=\"1\" class=\"dataframe\">\n",
       "  <thead>\n",
       "    <tr style=\"text-align: right;\">\n",
       "      <th>id</th>\n",
       "      <th>AV13O1A8GV-KLJ3akUyj</th>\n",
       "      <th>AV14LG0R-jtxr-f38QfS</th>\n",
       "      <th>AV16khLE-jtxr-f38VFn</th>\n",
       "      <th>AV1YGDqsGV-KLJ3adc-O</th>\n",
       "      <th>AV1YIch7GV-KLJ3addeG</th>\n",
       "      <th>AV1YlENIglJLPUi8IHsX</th>\n",
       "      <th>AV1YmBrdGV-KLJ3adewb</th>\n",
       "      <th>AV1YmDL9vKc47QAVgr7_</th>\n",
       "      <th>AV1Ymf_rglJLPUi8II2v</th>\n",
       "      <th>AV1Yn94nvKc47QAVgtst</th>\n",
       "      <th>...</th>\n",
       "      <th>AVpfr5cb1cnluZ0-pZFp</th>\n",
       "      <th>AVpfrFDZLJeJML43Bmv0</th>\n",
       "      <th>AVpfrTyiLJeJML43BrSI</th>\n",
       "      <th>AVpfrfHF1cnluZ0-pRai</th>\n",
       "      <th>AVpfrgjFLJeJML43BvCc</th>\n",
       "      <th>AVpfshNsLJeJML43CB8q</th>\n",
       "      <th>AVpfthSailAPnD_xg3ON</th>\n",
       "      <th>AVpftikC1cnluZ0-p31V</th>\n",
       "      <th>AVpfv4TlilAPnD_xhjNS</th>\n",
       "      <th>AVpfvieo1cnluZ0-qdnu</th>\n",
       "    </tr>\n",
       "    <tr>\n",
       "      <th>reviews_username</th>\n",
       "      <th></th>\n",
       "      <th></th>\n",
       "      <th></th>\n",
       "      <th></th>\n",
       "      <th></th>\n",
       "      <th></th>\n",
       "      <th></th>\n",
       "      <th></th>\n",
       "      <th></th>\n",
       "      <th></th>\n",
       "      <th></th>\n",
       "      <th></th>\n",
       "      <th></th>\n",
       "      <th></th>\n",
       "      <th></th>\n",
       "      <th></th>\n",
       "      <th></th>\n",
       "      <th></th>\n",
       "      <th></th>\n",
       "      <th></th>\n",
       "      <th></th>\n",
       "    </tr>\n",
       "  </thead>\n",
       "  <tbody>\n",
       "    <tr>\n",
       "      <th>00sab00</th>\n",
       "      <td>0.0</td>\n",
       "      <td>0.0</td>\n",
       "      <td>0.0</td>\n",
       "      <td>6.059436</td>\n",
       "      <td>0.0</td>\n",
       "      <td>0.0</td>\n",
       "      <td>0.0</td>\n",
       "      <td>0.915079</td>\n",
       "      <td>0.0</td>\n",
       "      <td>0.0</td>\n",
       "      <td>...</td>\n",
       "      <td>0.545545</td>\n",
       "      <td>0.0</td>\n",
       "      <td>0.0</td>\n",
       "      <td>0.0</td>\n",
       "      <td>0.0</td>\n",
       "      <td>0.0</td>\n",
       "      <td>0.0</td>\n",
       "      <td>1.558295</td>\n",
       "      <td>3.202563</td>\n",
       "      <td>0.0</td>\n",
       "    </tr>\n",
       "    <tr>\n",
       "      <th>01impala</th>\n",
       "      <td>0.0</td>\n",
       "      <td>0.0</td>\n",
       "      <td>0.0</td>\n",
       "      <td>0.000000</td>\n",
       "      <td>0.0</td>\n",
       "      <td>0.0</td>\n",
       "      <td>0.0</td>\n",
       "      <td>0.000000</td>\n",
       "      <td>0.0</td>\n",
       "      <td>0.0</td>\n",
       "      <td>...</td>\n",
       "      <td>0.000000</td>\n",
       "      <td>0.0</td>\n",
       "      <td>0.0</td>\n",
       "      <td>0.0</td>\n",
       "      <td>0.0</td>\n",
       "      <td>0.0</td>\n",
       "      <td>0.0</td>\n",
       "      <td>0.000000</td>\n",
       "      <td>0.000000</td>\n",
       "      <td>0.0</td>\n",
       "    </tr>\n",
       "    <tr>\n",
       "      <th>02dakota</th>\n",
       "      <td>0.0</td>\n",
       "      <td>0.0</td>\n",
       "      <td>0.0</td>\n",
       "      <td>0.000000</td>\n",
       "      <td>0.0</td>\n",
       "      <td>0.0</td>\n",
       "      <td>0.0</td>\n",
       "      <td>0.000000</td>\n",
       "      <td>0.0</td>\n",
       "      <td>0.0</td>\n",
       "      <td>...</td>\n",
       "      <td>0.000000</td>\n",
       "      <td>0.0</td>\n",
       "      <td>0.0</td>\n",
       "      <td>0.0</td>\n",
       "      <td>0.0</td>\n",
       "      <td>0.0</td>\n",
       "      <td>0.0</td>\n",
       "      <td>0.000000</td>\n",
       "      <td>0.000000</td>\n",
       "      <td>0.0</td>\n",
       "    </tr>\n",
       "    <tr>\n",
       "      <th>02deuce</th>\n",
       "      <td>0.0</td>\n",
       "      <td>0.0</td>\n",
       "      <td>0.0</td>\n",
       "      <td>0.000000</td>\n",
       "      <td>0.0</td>\n",
       "      <td>0.0</td>\n",
       "      <td>0.0</td>\n",
       "      <td>0.000000</td>\n",
       "      <td>0.0</td>\n",
       "      <td>0.0</td>\n",
       "      <td>...</td>\n",
       "      <td>0.000000</td>\n",
       "      <td>0.0</td>\n",
       "      <td>0.0</td>\n",
       "      <td>0.0</td>\n",
       "      <td>0.0</td>\n",
       "      <td>0.0</td>\n",
       "      <td>0.0</td>\n",
       "      <td>0.000000</td>\n",
       "      <td>0.000000</td>\n",
       "      <td>0.0</td>\n",
       "    </tr>\n",
       "    <tr>\n",
       "      <th>06stidriver</th>\n",
       "      <td>0.0</td>\n",
       "      <td>0.0</td>\n",
       "      <td>0.0</td>\n",
       "      <td>0.000000</td>\n",
       "      <td>0.0</td>\n",
       "      <td>0.0</td>\n",
       "      <td>0.0</td>\n",
       "      <td>0.000000</td>\n",
       "      <td>0.0</td>\n",
       "      <td>0.0</td>\n",
       "      <td>...</td>\n",
       "      <td>0.000000</td>\n",
       "      <td>0.0</td>\n",
       "      <td>0.0</td>\n",
       "      <td>0.0</td>\n",
       "      <td>0.0</td>\n",
       "      <td>0.0</td>\n",
       "      <td>0.0</td>\n",
       "      <td>0.000000</td>\n",
       "      <td>0.000000</td>\n",
       "      <td>0.0</td>\n",
       "    </tr>\n",
       "  </tbody>\n",
       "</table>\n",
       "<p>5 rows × 255 columns</p>\n",
       "</div>"
      ],
      "text/plain": [
       "id                AV13O1A8GV-KLJ3akUyj  AV14LG0R-jtxr-f38QfS  \\\n",
       "reviews_username                                               \n",
       "00sab00                            0.0                   0.0   \n",
       "01impala                           0.0                   0.0   \n",
       "02dakota                           0.0                   0.0   \n",
       "02deuce                            0.0                   0.0   \n",
       "06stidriver                        0.0                   0.0   \n",
       "\n",
       "id                AV16khLE-jtxr-f38VFn  AV1YGDqsGV-KLJ3adc-O  \\\n",
       "reviews_username                                               \n",
       "00sab00                            0.0              6.059436   \n",
       "01impala                           0.0              0.000000   \n",
       "02dakota                           0.0              0.000000   \n",
       "02deuce                            0.0              0.000000   \n",
       "06stidriver                        0.0              0.000000   \n",
       "\n",
       "id                AV1YIch7GV-KLJ3addeG  AV1YlENIglJLPUi8IHsX  \\\n",
       "reviews_username                                               \n",
       "00sab00                            0.0                   0.0   \n",
       "01impala                           0.0                   0.0   \n",
       "02dakota                           0.0                   0.0   \n",
       "02deuce                            0.0                   0.0   \n",
       "06stidriver                        0.0                   0.0   \n",
       "\n",
       "id                AV1YmBrdGV-KLJ3adewb  AV1YmDL9vKc47QAVgr7_  \\\n",
       "reviews_username                                               \n",
       "00sab00                            0.0              0.915079   \n",
       "01impala                           0.0              0.000000   \n",
       "02dakota                           0.0              0.000000   \n",
       "02deuce                            0.0              0.000000   \n",
       "06stidriver                        0.0              0.000000   \n",
       "\n",
       "id                AV1Ymf_rglJLPUi8II2v  AV1Yn94nvKc47QAVgtst  ...  \\\n",
       "reviews_username                                              ...   \n",
       "00sab00                            0.0                   0.0  ...   \n",
       "01impala                           0.0                   0.0  ...   \n",
       "02dakota                           0.0                   0.0  ...   \n",
       "02deuce                            0.0                   0.0  ...   \n",
       "06stidriver                        0.0                   0.0  ...   \n",
       "\n",
       "id                AVpfr5cb1cnluZ0-pZFp  AVpfrFDZLJeJML43Bmv0  \\\n",
       "reviews_username                                               \n",
       "00sab00                       0.545545                   0.0   \n",
       "01impala                      0.000000                   0.0   \n",
       "02dakota                      0.000000                   0.0   \n",
       "02deuce                       0.000000                   0.0   \n",
       "06stidriver                   0.000000                   0.0   \n",
       "\n",
       "id                AVpfrTyiLJeJML43BrSI  AVpfrfHF1cnluZ0-pRai  \\\n",
       "reviews_username                                               \n",
       "00sab00                            0.0                   0.0   \n",
       "01impala                           0.0                   0.0   \n",
       "02dakota                           0.0                   0.0   \n",
       "02deuce                            0.0                   0.0   \n",
       "06stidriver                        0.0                   0.0   \n",
       "\n",
       "id                AVpfrgjFLJeJML43BvCc  AVpfshNsLJeJML43CB8q  \\\n",
       "reviews_username                                               \n",
       "00sab00                            0.0                   0.0   \n",
       "01impala                           0.0                   0.0   \n",
       "02dakota                           0.0                   0.0   \n",
       "02deuce                            0.0                   0.0   \n",
       "06stidriver                        0.0                   0.0   \n",
       "\n",
       "id                AVpfthSailAPnD_xg3ON  AVpftikC1cnluZ0-p31V  \\\n",
       "reviews_username                                               \n",
       "00sab00                            0.0              1.558295   \n",
       "01impala                           0.0              0.000000   \n",
       "02dakota                           0.0              0.000000   \n",
       "02deuce                            0.0              0.000000   \n",
       "06stidriver                        0.0              0.000000   \n",
       "\n",
       "id                AVpfv4TlilAPnD_xhjNS  AVpfvieo1cnluZ0-qdnu  \n",
       "reviews_username                                              \n",
       "00sab00                       3.202563                   0.0  \n",
       "01impala                      0.000000                   0.0  \n",
       "02dakota                      0.000000                   0.0  \n",
       "02deuce                       0.000000                   0.0  \n",
       "06stidriver                   0.000000                   0.0  \n",
       "\n",
       "[5 rows x 255 columns]"
      ]
     },
     "execution_count": 68,
     "metadata": {},
     "output_type": "execute_result"
    }
   ],
   "source": [
    "user_final_rating = np.multiply(user_predicted_ratings,dummy_train)\n",
    "user_final_rating.head()"
   ]
  },
  {
   "cell_type": "code",
   "execution_count": 86,
   "id": "3397262d",
   "metadata": {},
   "outputs": [],
   "source": [
    "product_mapping=ratings[['id','brand','categories','manufacturer','name']]\n",
    "product_mapping.drop_duplicates(subset = 'id',inplace=True)"
   ]
  },
  {
   "cell_type": "code",
   "execution_count": 85,
   "id": "6d3fca42",
   "metadata": {},
   "outputs": [],
   "source": [
    "import pickle \n",
    "pickle.dump(user_final_rating,open('user_final_rating.pkl','wb'))"
   ]
  },
  {
   "cell_type": "code",
   "execution_count": 87,
   "id": "5ec87e40",
   "metadata": {},
   "outputs": [],
   "source": [
    "pickle.dump(product_mapping,open('product_mapping.pkl','wb'))"
   ]
  },
  {
   "cell_type": "code",
   "execution_count": 177,
   "id": "d57c8d8b",
   "metadata": {},
   "outputs": [],
   "source": [
    "def top_20_user_recommendations(user_input):\n",
    "    user_final_rating_df=pd.read_pickle('user_final_rating.pkl')\n",
    "    product_mapping_df=pd.read_pickle('product_mapping.pkl')    \n",
    "    d = user_final_rating_df.loc[user_input].sort_values(ascending=False)[0:20]\n",
    "    d = pd.merge(d,product_mapping_df,left_on='id',right_on='id',how = 'left')   \n",
    "    return d"
   ]
  },
  {
   "cell_type": "code",
   "execution_count": 185,
   "id": "b44d362b",
   "metadata": {},
   "outputs": [
    {
     "name": "stdout",
     "output_type": "stream",
     "text": [
      "Enter your user name : 06stidriver\n"
     ]
    },
    {
     "data": {
      "text/html": [
       "<div>\n",
       "<style scoped>\n",
       "    .dataframe tbody tr th:only-of-type {\n",
       "        vertical-align: middle;\n",
       "    }\n",
       "\n",
       "    .dataframe tbody tr th {\n",
       "        vertical-align: top;\n",
       "    }\n",
       "\n",
       "    .dataframe thead th {\n",
       "        text-align: right;\n",
       "    }\n",
       "</style>\n",
       "<table border=\"1\" class=\"dataframe\">\n",
       "  <thead>\n",
       "    <tr style=\"text-align: right;\">\n",
       "      <th></th>\n",
       "      <th>id</th>\n",
       "      <th>06stidriver</th>\n",
       "      <th>brand</th>\n",
       "      <th>categories</th>\n",
       "      <th>manufacturer</th>\n",
       "      <th>name</th>\n",
       "    </tr>\n",
       "  </thead>\n",
       "  <tbody>\n",
       "    <tr>\n",
       "      <th>0</th>\n",
       "      <td>AV13O1A8GV-KLJ3akUyj</td>\n",
       "      <td>0.0</td>\n",
       "      <td>Universal Music</td>\n",
       "      <td>Movies, Music &amp; Books,Music,R&amp;b,Movies &amp; TV,Mo...</td>\n",
       "      <td>Universal Music Group / Cash Money</td>\n",
       "      <td>Pink Friday: Roman Reloaded Re-Up (w/dvd)</td>\n",
       "    </tr>\n",
       "    <tr>\n",
       "      <th>1</th>\n",
       "      <td>AVpfP-rELJeJML435jEN</td>\n",
       "      <td>0.0</td>\n",
       "      <td>LDR</td>\n",
       "      <td>Home Improvement,Bathroom Renovation,Bathroom ...</td>\n",
       "      <td>LDR</td>\n",
       "      <td>5302050 15/16 FCT/HOSE ADAPTOR</td>\n",
       "    </tr>\n",
       "    <tr>\n",
       "      <th>2</th>\n",
       "      <td>AVpfLnfPLJeJML434HpK</td>\n",
       "      <td>0.0</td>\n",
       "      <td>Pleasant Hearth</td>\n",
       "      <td>Home Improvement,Heating, Cooling, &amp; Air Quali...</td>\n",
       "      <td>GHP Group, Inc.</td>\n",
       "      <td>Pleasant Hearth 1,800 sq ft Wood Burning Stove...</td>\n",
       "    </tr>\n",
       "    <tr>\n",
       "      <th>3</th>\n",
       "      <td>AVpfM_ytilAPnD_xXIJb</td>\n",
       "      <td>0.0</td>\n",
       "      <td>Tostitos</td>\n",
       "      <td>Food,Packaged Foods,Snacks,Chips &amp; Pretzels,Fo...</td>\n",
       "      <td>Tostitos</td>\n",
       "      <td>Tostitos Bite Size Tortilla Chips</td>\n",
       "    </tr>\n",
       "    <tr>\n",
       "      <th>4</th>\n",
       "      <td>AVpfMpZ51cnluZ0-f_L9</td>\n",
       "      <td>0.0</td>\n",
       "      <td>Chips Ahoy</td>\n",
       "      <td>Food &amp; Beverage,Cookies, Chips &amp; Snacks,Cookie...</td>\n",
       "      <td>Nabisco Biscuit Company</td>\n",
       "      <td>Chips Ahoy! Original Chocolate Chip - Cookies ...</td>\n",
       "    </tr>\n",
       "    <tr>\n",
       "      <th>5</th>\n",
       "      <td>AVpfN6Z71cnluZ0-gZmO</td>\n",
       "      <td>0.0</td>\n",
       "      <td>Caress</td>\n",
       "      <td>Personal Care,Bath, Shower &amp; Soap,Bar Soap,Bat...</td>\n",
       "      <td>Caress</td>\n",
       "      <td>Caress Moisturizing Body Bar Natural Silk, 4.75oz</td>\n",
       "    </tr>\n",
       "    <tr>\n",
       "      <th>6</th>\n",
       "      <td>AVpfNVsj1cnluZ0-gNQN</td>\n",
       "      <td>0.0</td>\n",
       "      <td>Physician's Formula</td>\n",
       "      <td>Personal Care,Makeup,Concealer &amp; Foundation,Fo...</td>\n",
       "      <td>Physicians Formula</td>\n",
       "      <td>Physicians Formula Powder Palette Mineral Glow...</td>\n",
       "    </tr>\n",
       "    <tr>\n",
       "      <th>7</th>\n",
       "      <td>AVpfNWbPilAPnD_xXPR7</td>\n",
       "      <td>0.0</td>\n",
       "      <td>Pleasant Hearth</td>\n",
       "      <td>Home,Home Appliances,Fireplaces &amp; Accessories,...</td>\n",
       "      <td>Pleasant Hearth</td>\n",
       "      <td>Pleasant Hearth 7.5 Steel Grate, 30 5 Bar - Black</td>\n",
       "    </tr>\n",
       "    <tr>\n",
       "      <th>8</th>\n",
       "      <td>AVpfNc9cLJeJML434tza</td>\n",
       "      <td>0.0</td>\n",
       "      <td>Feit</td>\n",
       "      <td>Home,Home Improvement,Light Bulbs,Electrical,A...</td>\n",
       "      <td>FeitElectric</td>\n",
       "      <td>Feit 60-Watt A19 Gu24 Base Led Light Bulb - So...</td>\n",
       "    </tr>\n",
       "    <tr>\n",
       "      <th>9</th>\n",
       "      <td>AVpfNfEMLJeJML434uf-</td>\n",
       "      <td>0.0</td>\n",
       "      <td>UNIVERSAL HOME ENTERTAINMENT</td>\n",
       "      <td>Movies, Music &amp; Books,Movies,Romance,Movies &amp; ...</td>\n",
       "      <td>Universal Studios Home Entertainment</td>\n",
       "      <td>Heiress (dvd)</td>\n",
       "    </tr>\n",
       "    <tr>\n",
       "      <th>10</th>\n",
       "      <td>AVpfNglu1cnluZ0-gQ7x</td>\n",
       "      <td>0.0</td>\n",
       "      <td>Lush Decor</td>\n",
       "      <td>Home,Bath,Shower Curtains &amp; Liners,Home Deals,...</td>\n",
       "      <td>Triangle Home Fashions</td>\n",
       "      <td>Mia Shower Curtain Green/brown - Lush Decor174</td>\n",
       "    </tr>\n",
       "    <tr>\n",
       "      <th>11</th>\n",
       "      <td>AVpfO5u71cnluZ0-guiN</td>\n",
       "      <td>0.0</td>\n",
       "      <td>Sony</td>\n",
       "      <td>Movies, Music &amp; Books,Movies,Comedy,Movies &amp; T...</td>\n",
       "      <td>PHASE FOUR</td>\n",
       "      <td>Switchmas (dvd)</td>\n",
       "    </tr>\n",
       "    <tr>\n",
       "      <th>12</th>\n",
       "      <td>AVpfOIrkilAPnD_xXgDG</td>\n",
       "      <td>0.0</td>\n",
       "      <td>Summit Entertainment</td>\n",
       "      <td>Movies &amp; TV Shows,Instawatch Movies By VUDU,In...</td>\n",
       "      <td>NaN</td>\n",
       "      <td>Alex Cross (dvdvideo)</td>\n",
       "    </tr>\n",
       "    <tr>\n",
       "      <th>13</th>\n",
       "      <td>AVpfOfIqLJeJML435D06</td>\n",
       "      <td>0.0</td>\n",
       "      <td>Solo Foods</td>\n",
       "      <td>Food,Packaged Foods,Baking,Pie Fillings,Home &amp;...</td>\n",
       "      <td>Solo</td>\n",
       "      <td>Solo Foods Poppy Seed Cake and Pastry Filling</td>\n",
       "    </tr>\n",
       "    <tr>\n",
       "      <th>14</th>\n",
       "      <td>AVpfOmKwLJeJML435GM7</td>\n",
       "      <td>0.0</td>\n",
       "      <td>Clear Scalp &amp; Hair Therapy</td>\n",
       "      <td>Personal Care,Hair Care,Shampoo,Featured Brand...</td>\n",
       "      <td>Clear</td>\n",
       "      <td>Clear Scalp &amp; Hair Therapy Total Care Nourishi...</td>\n",
       "    </tr>\n",
       "    <tr>\n",
       "      <th>15</th>\n",
       "      <td>AVpfPKzxLJeJML435SYL</td>\n",
       "      <td>0.0</td>\n",
       "      <td>Tim Holtz</td>\n",
       "      <td>Home,Arts &amp; Crafts,Scrapbooking,Scrapbooking T...</td>\n",
       "      <td>Tonic Studios</td>\n",
       "      <td>Tim Holtz Retractable Craft Pick-Red 6x.5</td>\n",
       "    </tr>\n",
       "    <tr>\n",
       "      <th>16</th>\n",
       "      <td>AVpfKhuv1cnluZ0-fSVr</td>\n",
       "      <td>0.0</td>\n",
       "      <td>Rizzy Home</td>\n",
       "      <td>Home,Home Ideas, Design &amp; Inspiration,Contempo...</td>\n",
       "      <td>Rizzy Rugs</td>\n",
       "      <td>Blue Anchor Design Throw Pillow (18x18) - Rizz...</td>\n",
       "    </tr>\n",
       "    <tr>\n",
       "      <th>17</th>\n",
       "      <td>AVpfPPkEilAPnD_xX3cP</td>\n",
       "      <td>0.0</td>\n",
       "      <td>Aveeno</td>\n",
       "      <td>Personal Care,Sun Care,Featured Brands,Health ...</td>\n",
       "      <td>Aveeno Baby</td>\n",
       "      <td>Aveeno Baby Continuous Protection Lotion Sunsc...</td>\n",
       "    </tr>\n",
       "    <tr>\n",
       "      <th>18</th>\n",
       "      <td>AVpfPaoqLJeJML435Xk9</td>\n",
       "      <td>0.0</td>\n",
       "      <td>Warner Home Video</td>\n",
       "      <td>Movies, Music &amp; Books,Movies,Action &amp; Adventur...</td>\n",
       "      <td>Test</td>\n",
       "      <td>Godzilla 3d Includes Digital Copy Ultraviolet ...</td>\n",
       "    </tr>\n",
       "    <tr>\n",
       "      <th>19</th>\n",
       "      <td>AVpfPjqKLJeJML435aZR</td>\n",
       "      <td>0.0</td>\n",
       "      <td>Voortman</td>\n",
       "      <td>Food,Packaged Foods,Snacks,Cookies,Food &amp; Beve...</td>\n",
       "      <td>VOORTMAN COOKIES LIMITED</td>\n",
       "      <td>Voortman Sugar Free Fudge Chocolate Chip Cookies</td>\n",
       "    </tr>\n",
       "  </tbody>\n",
       "</table>\n",
       "</div>"
      ],
      "text/plain": [
       "                      id  06stidriver                         brand  \\\n",
       "0   AV13O1A8GV-KLJ3akUyj          0.0               Universal Music   \n",
       "1   AVpfP-rELJeJML435jEN          0.0                           LDR   \n",
       "2   AVpfLnfPLJeJML434HpK          0.0               Pleasant Hearth   \n",
       "3   AVpfM_ytilAPnD_xXIJb          0.0                      Tostitos   \n",
       "4   AVpfMpZ51cnluZ0-f_L9          0.0                    Chips Ahoy   \n",
       "5   AVpfN6Z71cnluZ0-gZmO          0.0                        Caress   \n",
       "6   AVpfNVsj1cnluZ0-gNQN          0.0           Physician's Formula   \n",
       "7   AVpfNWbPilAPnD_xXPR7          0.0               Pleasant Hearth   \n",
       "8   AVpfNc9cLJeJML434tza          0.0                          Feit   \n",
       "9   AVpfNfEMLJeJML434uf-          0.0  UNIVERSAL HOME ENTERTAINMENT   \n",
       "10  AVpfNglu1cnluZ0-gQ7x          0.0                    Lush Decor   \n",
       "11  AVpfO5u71cnluZ0-guiN          0.0                          Sony   \n",
       "12  AVpfOIrkilAPnD_xXgDG          0.0          Summit Entertainment   \n",
       "13  AVpfOfIqLJeJML435D06          0.0                    Solo Foods   \n",
       "14  AVpfOmKwLJeJML435GM7          0.0    Clear Scalp & Hair Therapy   \n",
       "15  AVpfPKzxLJeJML435SYL          0.0                     Tim Holtz   \n",
       "16  AVpfKhuv1cnluZ0-fSVr          0.0                    Rizzy Home   \n",
       "17  AVpfPPkEilAPnD_xX3cP          0.0                        Aveeno   \n",
       "18  AVpfPaoqLJeJML435Xk9          0.0             Warner Home Video   \n",
       "19  AVpfPjqKLJeJML435aZR          0.0                      Voortman   \n",
       "\n",
       "                                           categories  \\\n",
       "0   Movies, Music & Books,Music,R&b,Movies & TV,Mo...   \n",
       "1   Home Improvement,Bathroom Renovation,Bathroom ...   \n",
       "2   Home Improvement,Heating, Cooling, & Air Quali...   \n",
       "3   Food,Packaged Foods,Snacks,Chips & Pretzels,Fo...   \n",
       "4   Food & Beverage,Cookies, Chips & Snacks,Cookie...   \n",
       "5   Personal Care,Bath, Shower & Soap,Bar Soap,Bat...   \n",
       "6   Personal Care,Makeup,Concealer & Foundation,Fo...   \n",
       "7   Home,Home Appliances,Fireplaces & Accessories,...   \n",
       "8   Home,Home Improvement,Light Bulbs,Electrical,A...   \n",
       "9   Movies, Music & Books,Movies,Romance,Movies & ...   \n",
       "10  Home,Bath,Shower Curtains & Liners,Home Deals,...   \n",
       "11  Movies, Music & Books,Movies,Comedy,Movies & T...   \n",
       "12  Movies & TV Shows,Instawatch Movies By VUDU,In...   \n",
       "13  Food,Packaged Foods,Baking,Pie Fillings,Home &...   \n",
       "14  Personal Care,Hair Care,Shampoo,Featured Brand...   \n",
       "15  Home,Arts & Crafts,Scrapbooking,Scrapbooking T...   \n",
       "16  Home,Home Ideas, Design & Inspiration,Contempo...   \n",
       "17  Personal Care,Sun Care,Featured Brands,Health ...   \n",
       "18  Movies, Music & Books,Movies,Action & Adventur...   \n",
       "19  Food,Packaged Foods,Snacks,Cookies,Food & Beve...   \n",
       "\n",
       "                            manufacturer  \\\n",
       "0     Universal Music Group / Cash Money   \n",
       "1                                    LDR   \n",
       "2                        GHP Group, Inc.   \n",
       "3                               Tostitos   \n",
       "4                Nabisco Biscuit Company   \n",
       "5                                 Caress   \n",
       "6                     Physicians Formula   \n",
       "7                        Pleasant Hearth   \n",
       "8                           FeitElectric   \n",
       "9   Universal Studios Home Entertainment   \n",
       "10                Triangle Home Fashions   \n",
       "11                            PHASE FOUR   \n",
       "12                                   NaN   \n",
       "13                                  Solo   \n",
       "14                                 Clear   \n",
       "15                         Tonic Studios   \n",
       "16                            Rizzy Rugs   \n",
       "17                           Aveeno Baby   \n",
       "18                                  Test   \n",
       "19              VOORTMAN COOKIES LIMITED   \n",
       "\n",
       "                                                 name  \n",
       "0           Pink Friday: Roman Reloaded Re-Up (w/dvd)  \n",
       "1                      5302050 15/16 FCT/HOSE ADAPTOR  \n",
       "2   Pleasant Hearth 1,800 sq ft Wood Burning Stove...  \n",
       "3                   Tostitos Bite Size Tortilla Chips  \n",
       "4   Chips Ahoy! Original Chocolate Chip - Cookies ...  \n",
       "5   Caress Moisturizing Body Bar Natural Silk, 4.75oz  \n",
       "6   Physicians Formula Powder Palette Mineral Glow...  \n",
       "7   Pleasant Hearth 7.5 Steel Grate, 30 5 Bar - Black  \n",
       "8   Feit 60-Watt A19 Gu24 Base Led Light Bulb - So...  \n",
       "9                                       Heiress (dvd)  \n",
       "10     Mia Shower Curtain Green/brown - Lush Decor174  \n",
       "11                                    Switchmas (dvd)  \n",
       "12                              Alex Cross (dvdvideo)  \n",
       "13      Solo Foods Poppy Seed Cake and Pastry Filling  \n",
       "14  Clear Scalp & Hair Therapy Total Care Nourishi...  \n",
       "15          Tim Holtz Retractable Craft Pick-Red 6x.5  \n",
       "16  Blue Anchor Design Throw Pillow (18x18) - Rizz...  \n",
       "17  Aveeno Baby Continuous Protection Lotion Sunsc...  \n",
       "18  Godzilla 3d Includes Digital Copy Ultraviolet ...  \n",
       "19   Voortman Sugar Free Fudge Chocolate Chip Cookies  "
      ]
     },
     "execution_count": 185,
     "metadata": {},
     "output_type": "execute_result"
    }
   ],
   "source": [
    "user_input = input(\"Enter your user name : \")\n",
    "top_20_user_recommendations(user_input)"
   ]
  },
  {
   "cell_type": "code",
   "execution_count": 109,
   "id": "5bd89ccb",
   "metadata": {},
   "outputs": [
    {
     "data": {
      "text/plain": [
       "(1976, 15)"
      ]
     },
     "execution_count": 109,
     "metadata": {},
     "output_type": "execute_result"
    }
   ],
   "source": [
    "# Find out the common users of test and train dataset.\n",
    "common = test[test.reviews_username.isin(train.reviews_username)]\n",
    "common.shape"
   ]
  },
  {
   "cell_type": "code",
   "execution_count": 110,
   "id": "ac8e35ad",
   "metadata": {},
   "outputs": [
    {
     "data": {
      "text/html": [
       "<div>\n",
       "<style scoped>\n",
       "    .dataframe tbody tr th:only-of-type {\n",
       "        vertical-align: middle;\n",
       "    }\n",
       "\n",
       "    .dataframe tbody tr th {\n",
       "        vertical-align: top;\n",
       "    }\n",
       "\n",
       "    .dataframe thead th {\n",
       "        text-align: right;\n",
       "    }\n",
       "</style>\n",
       "<table border=\"1\" class=\"dataframe\">\n",
       "  <thead>\n",
       "    <tr style=\"text-align: right;\">\n",
       "      <th></th>\n",
       "      <th>id</th>\n",
       "      <th>brand</th>\n",
       "      <th>categories</th>\n",
       "      <th>manufacturer</th>\n",
       "      <th>name</th>\n",
       "      <th>reviews_date</th>\n",
       "      <th>reviews_didPurchase</th>\n",
       "      <th>reviews_doRecommend</th>\n",
       "      <th>reviews_rating</th>\n",
       "      <th>reviews_text</th>\n",
       "      <th>reviews_title</th>\n",
       "      <th>reviews_userCity</th>\n",
       "      <th>reviews_userProvince</th>\n",
       "      <th>reviews_username</th>\n",
       "      <th>user_sentiment</th>\n",
       "    </tr>\n",
       "  </thead>\n",
       "  <tbody>\n",
       "    <tr>\n",
       "      <th>21169</th>\n",
       "      <td>AVpfm8yiLJeJML43AYyu</td>\n",
       "      <td>Nexxus</td>\n",
       "      <td>Personal Care,Hair Care,Styling Gel/Lotion,Bea...</td>\n",
       "      <td>Nexxus Beauty Products</td>\n",
       "      <td>Nexxus Exxtra Gel Style Creation Sculptor</td>\n",
       "      <td>2015-04-13T00:00:00.000Z</td>\n",
       "      <td>False</td>\n",
       "      <td>False</td>\n",
       "      <td>1</td>\n",
       "      <td>What happened The old formula was one of the b...</td>\n",
       "      <td>Truly awful!</td>\n",
       "      <td>NaN</td>\n",
       "      <td>NaN</td>\n",
       "      <td>jjjj</td>\n",
       "      <td>Positive</td>\n",
       "    </tr>\n",
       "    <tr>\n",
       "      <th>8538</th>\n",
       "      <td>AVpf3VOfilAPnD_xjpun</td>\n",
       "      <td>Clorox</td>\n",
       "      <td>Household Essentials,Cleaning Supplies,Kitchen...</td>\n",
       "      <td>Clorox</td>\n",
       "      <td>Clorox Disinfecting Wipes Value Pack Scented 1...</td>\n",
       "      <td>2012-03-14T13:11:25.000Z</td>\n",
       "      <td>NaN</td>\n",
       "      <td>True</td>\n",
       "      <td>5</td>\n",
       "      <td>it works great, i love the smell it keeps my h...</td>\n",
       "      <td>Love This</td>\n",
       "      <td>Wilmington</td>\n",
       "      <td>NaN</td>\n",
       "      <td>jygibri</td>\n",
       "      <td>Positive</td>\n",
       "    </tr>\n",
       "    <tr>\n",
       "      <th>18735</th>\n",
       "      <td>AVpfJP1C1cnluZ0-e3Xy</td>\n",
       "      <td>Clorox</td>\n",
       "      <td>Household Chemicals,Household Cleaners,Bath &amp; ...</td>\n",
       "      <td>AmazonUs/CLOO7</td>\n",
       "      <td>Clorox Disinfecting Bathroom Cleaner</td>\n",
       "      <td>2012-01-27T00:00:00.000Z</td>\n",
       "      <td>False</td>\n",
       "      <td>True</td>\n",
       "      <td>4</td>\n",
       "      <td>I love the smell that you can clean and disinf...</td>\n",
       "      <td>This product is good!</td>\n",
       "      <td>NaN</td>\n",
       "      <td>NaN</td>\n",
       "      <td>jel08</td>\n",
       "      <td>Positive</td>\n",
       "    </tr>\n",
       "    <tr>\n",
       "      <th>22417</th>\n",
       "      <td>AVpfOmKwLJeJML435GM7</td>\n",
       "      <td>Clear Scalp &amp; Hair Therapy</td>\n",
       "      <td>Personal Care,Hair Care,Shampoo,Featured Brand...</td>\n",
       "      <td>Clear</td>\n",
       "      <td>Clear Scalp &amp; Hair Therapy Total Care Nourishi...</td>\n",
       "      <td>2016-08-27T00:00:00.000Z</td>\n",
       "      <td>False</td>\n",
       "      <td>False</td>\n",
       "      <td>1</td>\n",
       "      <td>I have been using Clear products for over 3 ye...</td>\n",
       "      <td>Why change a good thing</td>\n",
       "      <td>NaN</td>\n",
       "      <td>NaN</td>\n",
       "      <td>elena79</td>\n",
       "      <td>Positive</td>\n",
       "    </tr>\n",
       "    <tr>\n",
       "      <th>19297</th>\n",
       "      <td>AVpfJP1C1cnluZ0-e3Xy</td>\n",
       "      <td>Clorox</td>\n",
       "      <td>Household Chemicals,Household Cleaners,Bath &amp; ...</td>\n",
       "      <td>AmazonUs/CLOO7</td>\n",
       "      <td>Clorox Disinfecting Bathroom Cleaner</td>\n",
       "      <td>2012-01-30T00:00:00.000Z</td>\n",
       "      <td>False</td>\n",
       "      <td>True</td>\n",
       "      <td>5</td>\n",
       "      <td>I love using these wipes whether at home or at...</td>\n",
       "      <td>wonderful smell</td>\n",
       "      <td>NaN</td>\n",
       "      <td>NaN</td>\n",
       "      <td>angc</td>\n",
       "      <td>Positive</td>\n",
       "    </tr>\n",
       "  </tbody>\n",
       "</table>\n",
       "</div>"
      ],
      "text/plain": [
       "                         id                       brand  \\\n",
       "21169  AVpfm8yiLJeJML43AYyu                      Nexxus   \n",
       "8538   AVpf3VOfilAPnD_xjpun                      Clorox   \n",
       "18735  AVpfJP1C1cnluZ0-e3Xy                      Clorox   \n",
       "22417  AVpfOmKwLJeJML435GM7  Clear Scalp & Hair Therapy   \n",
       "19297  AVpfJP1C1cnluZ0-e3Xy                      Clorox   \n",
       "\n",
       "                                              categories  \\\n",
       "21169  Personal Care,Hair Care,Styling Gel/Lotion,Bea...   \n",
       "8538   Household Essentials,Cleaning Supplies,Kitchen...   \n",
       "18735  Household Chemicals,Household Cleaners,Bath & ...   \n",
       "22417  Personal Care,Hair Care,Shampoo,Featured Brand...   \n",
       "19297  Household Chemicals,Household Cleaners,Bath & ...   \n",
       "\n",
       "                 manufacturer  \\\n",
       "21169  Nexxus Beauty Products   \n",
       "8538                   Clorox   \n",
       "18735          AmazonUs/CLOO7   \n",
       "22417                   Clear   \n",
       "19297          AmazonUs/CLOO7   \n",
       "\n",
       "                                                    name  \\\n",
       "21169          Nexxus Exxtra Gel Style Creation Sculptor   \n",
       "8538   Clorox Disinfecting Wipes Value Pack Scented 1...   \n",
       "18735               Clorox Disinfecting Bathroom Cleaner   \n",
       "22417  Clear Scalp & Hair Therapy Total Care Nourishi...   \n",
       "19297               Clorox Disinfecting Bathroom Cleaner   \n",
       "\n",
       "                   reviews_date reviews_didPurchase reviews_doRecommend  \\\n",
       "21169  2015-04-13T00:00:00.000Z               False               False   \n",
       "8538   2012-03-14T13:11:25.000Z                 NaN                True   \n",
       "18735  2012-01-27T00:00:00.000Z               False                True   \n",
       "22417  2016-08-27T00:00:00.000Z               False               False   \n",
       "19297  2012-01-30T00:00:00.000Z               False                True   \n",
       "\n",
       "       reviews_rating                                       reviews_text  \\\n",
       "21169               1  What happened The old formula was one of the b...   \n",
       "8538                5  it works great, i love the smell it keeps my h...   \n",
       "18735               4  I love the smell that you can clean and disinf...   \n",
       "22417               1  I have been using Clear products for over 3 ye...   \n",
       "19297               5  I love using these wipes whether at home or at...   \n",
       "\n",
       "                 reviews_title reviews_userCity reviews_userProvince  \\\n",
       "21169             Truly awful!              NaN                  NaN   \n",
       "8538                 Love This       Wilmington                  NaN   \n",
       "18735    This product is good!              NaN                  NaN   \n",
       "22417  Why change a good thing              NaN                  NaN   \n",
       "19297          wonderful smell              NaN                  NaN   \n",
       "\n",
       "      reviews_username user_sentiment  \n",
       "21169             jjjj       Positive  \n",
       "8538           jygibri       Positive  \n",
       "18735            jel08       Positive  \n",
       "22417          elena79       Positive  \n",
       "19297             angc       Positive  "
      ]
     },
     "execution_count": 110,
     "metadata": {},
     "output_type": "execute_result"
    }
   ],
   "source": [
    "common.head()"
   ]
  },
  {
   "cell_type": "code",
   "execution_count": 111,
   "id": "ca8daaf9",
   "metadata": {},
   "outputs": [],
   "source": [
    "# convert into the user-movie matrix.\n",
    "common_user_based_matrix = common.pivot_table(index='reviews_username', columns='id', values='reviews_rating')"
   ]
  },
  {
   "cell_type": "code",
   "execution_count": 112,
   "id": "f6e99150",
   "metadata": {},
   "outputs": [],
   "source": [
    "# Convert the user_correlation matrix into dataframe.\n",
    "user_correlation_df = pd.DataFrame(user_correlation)"
   ]
  },
  {
   "cell_type": "code",
   "execution_count": 114,
   "id": "4fbdc79e",
   "metadata": {},
   "outputs": [
    {
     "data": {
      "text/html": [
       "<div>\n",
       "<style scoped>\n",
       "    .dataframe tbody tr th:only-of-type {\n",
       "        vertical-align: middle;\n",
       "    }\n",
       "\n",
       "    .dataframe tbody tr th {\n",
       "        vertical-align: top;\n",
       "    }\n",
       "\n",
       "    .dataframe thead th {\n",
       "        text-align: right;\n",
       "    }\n",
       "</style>\n",
       "<table border=\"1\" class=\"dataframe\">\n",
       "  <thead>\n",
       "    <tr style=\"text-align: right;\">\n",
       "      <th></th>\n",
       "      <th>0</th>\n",
       "      <th>1</th>\n",
       "      <th>2</th>\n",
       "      <th>3</th>\n",
       "      <th>4</th>\n",
       "      <th>5</th>\n",
       "      <th>6</th>\n",
       "      <th>7</th>\n",
       "      <th>8</th>\n",
       "      <th>9</th>\n",
       "      <th>...</th>\n",
       "      <th>18202</th>\n",
       "      <th>18203</th>\n",
       "      <th>18204</th>\n",
       "      <th>18205</th>\n",
       "      <th>18206</th>\n",
       "      <th>18207</th>\n",
       "      <th>18208</th>\n",
       "      <th>18209</th>\n",
       "      <th>18210</th>\n",
       "      <th>18211</th>\n",
       "    </tr>\n",
       "  </thead>\n",
       "  <tbody>\n",
       "    <tr>\n",
       "      <th>0</th>\n",
       "      <td>1.0</td>\n",
       "      <td>0.0</td>\n",
       "      <td>0.0</td>\n",
       "      <td>0.0</td>\n",
       "      <td>0.0</td>\n",
       "      <td>0.0</td>\n",
       "      <td>0.0</td>\n",
       "      <td>0.0</td>\n",
       "      <td>0.0</td>\n",
       "      <td>0.0</td>\n",
       "      <td>...</td>\n",
       "      <td>0.0</td>\n",
       "      <td>0.0</td>\n",
       "      <td>0.0</td>\n",
       "      <td>0.0</td>\n",
       "      <td>0.0</td>\n",
       "      <td>0.0</td>\n",
       "      <td>0.0</td>\n",
       "      <td>0.0</td>\n",
       "      <td>0.0</td>\n",
       "      <td>0.0</td>\n",
       "    </tr>\n",
       "  </tbody>\n",
       "</table>\n",
       "<p>1 rows × 18212 columns</p>\n",
       "</div>"
      ],
      "text/plain": [
       "   0      1      2      3      4      5      6      7      8      9      ...  \\\n",
       "0    1.0    0.0    0.0    0.0    0.0    0.0    0.0    0.0    0.0    0.0  ...   \n",
       "\n",
       "   18202  18203  18204  18205  18206  18207  18208  18209  18210  18211  \n",
       "0    0.0    0.0    0.0    0.0    0.0    0.0    0.0    0.0    0.0    0.0  \n",
       "\n",
       "[1 rows x 18212 columns]"
      ]
     },
     "execution_count": 114,
     "metadata": {},
     "output_type": "execute_result"
    }
   ],
   "source": [
    "user_correlation_df.head(1)"
   ]
  },
  {
   "cell_type": "code",
   "execution_count": 113,
   "id": "cbb2bee6",
   "metadata": {
    "scrolled": true
   },
   "outputs": [
    {
     "data": {
      "text/html": [
       "<div>\n",
       "<style scoped>\n",
       "    .dataframe tbody tr th:only-of-type {\n",
       "        vertical-align: middle;\n",
       "    }\n",
       "\n",
       "    .dataframe tbody tr th {\n",
       "        vertical-align: top;\n",
       "    }\n",
       "\n",
       "    .dataframe thead th {\n",
       "        text-align: right;\n",
       "    }\n",
       "</style>\n",
       "<table border=\"1\" class=\"dataframe\">\n",
       "  <thead>\n",
       "    <tr style=\"text-align: right;\">\n",
       "      <th>id</th>\n",
       "      <th>AV13O1A8GV-KLJ3akUyj</th>\n",
       "      <th>AV14LG0R-jtxr-f38QfS</th>\n",
       "      <th>AV16khLE-jtxr-f38VFn</th>\n",
       "      <th>AV1YGDqsGV-KLJ3adc-O</th>\n",
       "      <th>AV1YIch7GV-KLJ3addeG</th>\n",
       "      <th>AV1YlENIglJLPUi8IHsX</th>\n",
       "      <th>AV1YmBrdGV-KLJ3adewb</th>\n",
       "      <th>AV1YmDL9vKc47QAVgr7_</th>\n",
       "      <th>AV1Ymf_rglJLPUi8II2v</th>\n",
       "      <th>AV1Yn94nvKc47QAVgtst</th>\n",
       "      <th>...</th>\n",
       "      <th>AVpfr5cb1cnluZ0-pZFp</th>\n",
       "      <th>AVpfrFDZLJeJML43Bmv0</th>\n",
       "      <th>AVpfrTyiLJeJML43BrSI</th>\n",
       "      <th>AVpfrfHF1cnluZ0-pRai</th>\n",
       "      <th>AVpfrgjFLJeJML43BvCc</th>\n",
       "      <th>AVpfshNsLJeJML43CB8q</th>\n",
       "      <th>AVpfthSailAPnD_xg3ON</th>\n",
       "      <th>AVpftikC1cnluZ0-p31V</th>\n",
       "      <th>AVpfv4TlilAPnD_xhjNS</th>\n",
       "      <th>AVpfvieo1cnluZ0-qdnu</th>\n",
       "    </tr>\n",
       "    <tr>\n",
       "      <th>reviews_username</th>\n",
       "      <th></th>\n",
       "      <th></th>\n",
       "      <th></th>\n",
       "      <th></th>\n",
       "      <th></th>\n",
       "      <th></th>\n",
       "      <th></th>\n",
       "      <th></th>\n",
       "      <th></th>\n",
       "      <th></th>\n",
       "      <th></th>\n",
       "      <th></th>\n",
       "      <th></th>\n",
       "      <th></th>\n",
       "      <th></th>\n",
       "      <th></th>\n",
       "      <th></th>\n",
       "      <th></th>\n",
       "      <th></th>\n",
       "      <th></th>\n",
       "      <th></th>\n",
       "    </tr>\n",
       "  </thead>\n",
       "  <tbody>\n",
       "    <tr>\n",
       "      <th>00sab00</th>\n",
       "      <td>NaN</td>\n",
       "      <td>NaN</td>\n",
       "      <td>NaN</td>\n",
       "      <td>NaN</td>\n",
       "      <td>NaN</td>\n",
       "      <td>NaN</td>\n",
       "      <td>NaN</td>\n",
       "      <td>NaN</td>\n",
       "      <td>NaN</td>\n",
       "      <td>NaN</td>\n",
       "      <td>...</td>\n",
       "      <td>NaN</td>\n",
       "      <td>NaN</td>\n",
       "      <td>NaN</td>\n",
       "      <td>NaN</td>\n",
       "      <td>NaN</td>\n",
       "      <td>NaN</td>\n",
       "      <td>NaN</td>\n",
       "      <td>NaN</td>\n",
       "      <td>NaN</td>\n",
       "      <td>NaN</td>\n",
       "    </tr>\n",
       "  </tbody>\n",
       "</table>\n",
       "<p>1 rows × 255 columns</p>\n",
       "</div>"
      ],
      "text/plain": [
       "id                AV13O1A8GV-KLJ3akUyj  AV14LG0R-jtxr-f38QfS  \\\n",
       "reviews_username                                               \n",
       "00sab00                            NaN                   NaN   \n",
       "\n",
       "id                AV16khLE-jtxr-f38VFn  AV1YGDqsGV-KLJ3adc-O  \\\n",
       "reviews_username                                               \n",
       "00sab00                            NaN                   NaN   \n",
       "\n",
       "id                AV1YIch7GV-KLJ3addeG  AV1YlENIglJLPUi8IHsX  \\\n",
       "reviews_username                                               \n",
       "00sab00                            NaN                   NaN   \n",
       "\n",
       "id                AV1YmBrdGV-KLJ3adewb  AV1YmDL9vKc47QAVgr7_  \\\n",
       "reviews_username                                               \n",
       "00sab00                            NaN                   NaN   \n",
       "\n",
       "id                AV1Ymf_rglJLPUi8II2v  AV1Yn94nvKc47QAVgtst  ...  \\\n",
       "reviews_username                                              ...   \n",
       "00sab00                            NaN                   NaN  ...   \n",
       "\n",
       "id                AVpfr5cb1cnluZ0-pZFp  AVpfrFDZLJeJML43Bmv0  \\\n",
       "reviews_username                                               \n",
       "00sab00                            NaN                   NaN   \n",
       "\n",
       "id                AVpfrTyiLJeJML43BrSI  AVpfrfHF1cnluZ0-pRai  \\\n",
       "reviews_username                                               \n",
       "00sab00                            NaN                   NaN   \n",
       "\n",
       "id                AVpfrgjFLJeJML43BvCc  AVpfshNsLJeJML43CB8q  \\\n",
       "reviews_username                                               \n",
       "00sab00                            NaN                   NaN   \n",
       "\n",
       "id                AVpfthSailAPnD_xg3ON  AVpftikC1cnluZ0-p31V  \\\n",
       "reviews_username                                               \n",
       "00sab00                            NaN                   NaN   \n",
       "\n",
       "id                AVpfv4TlilAPnD_xhjNS  AVpfvieo1cnluZ0-qdnu  \n",
       "reviews_username                                              \n",
       "00sab00                            NaN                   NaN  \n",
       "\n",
       "[1 rows x 255 columns]"
      ]
     },
     "execution_count": 113,
     "metadata": {},
     "output_type": "execute_result"
    }
   ],
   "source": [
    "df_subtracted.head(1)"
   ]
  },
  {
   "cell_type": "code",
   "execution_count": 115,
   "id": "80ce4bf7",
   "metadata": {},
   "outputs": [
    {
     "data": {
      "text/html": [
       "<div>\n",
       "<style scoped>\n",
       "    .dataframe tbody tr th:only-of-type {\n",
       "        vertical-align: middle;\n",
       "    }\n",
       "\n",
       "    .dataframe tbody tr th {\n",
       "        vertical-align: top;\n",
       "    }\n",
       "\n",
       "    .dataframe thead th {\n",
       "        text-align: right;\n",
       "    }\n",
       "</style>\n",
       "<table border=\"1\" class=\"dataframe\">\n",
       "  <thead>\n",
       "    <tr style=\"text-align: right;\">\n",
       "      <th></th>\n",
       "      <th>0</th>\n",
       "      <th>1</th>\n",
       "      <th>2</th>\n",
       "      <th>3</th>\n",
       "      <th>4</th>\n",
       "      <th>5</th>\n",
       "      <th>6</th>\n",
       "      <th>7</th>\n",
       "      <th>8</th>\n",
       "      <th>9</th>\n",
       "      <th>...</th>\n",
       "      <th>18202</th>\n",
       "      <th>18203</th>\n",
       "      <th>18204</th>\n",
       "      <th>18205</th>\n",
       "      <th>18206</th>\n",
       "      <th>18207</th>\n",
       "      <th>18208</th>\n",
       "      <th>18209</th>\n",
       "      <th>18210</th>\n",
       "      <th>18211</th>\n",
       "    </tr>\n",
       "    <tr>\n",
       "      <th>reviews_username</th>\n",
       "      <th></th>\n",
       "      <th></th>\n",
       "      <th></th>\n",
       "      <th></th>\n",
       "      <th></th>\n",
       "      <th></th>\n",
       "      <th></th>\n",
       "      <th></th>\n",
       "      <th></th>\n",
       "      <th></th>\n",
       "      <th></th>\n",
       "      <th></th>\n",
       "      <th></th>\n",
       "      <th></th>\n",
       "      <th></th>\n",
       "      <th></th>\n",
       "      <th></th>\n",
       "      <th></th>\n",
       "      <th></th>\n",
       "      <th></th>\n",
       "      <th></th>\n",
       "    </tr>\n",
       "  </thead>\n",
       "  <tbody>\n",
       "    <tr>\n",
       "      <th>00sab00</th>\n",
       "      <td>1.0</td>\n",
       "      <td>0.0</td>\n",
       "      <td>0.0</td>\n",
       "      <td>0.0</td>\n",
       "      <td>0.0</td>\n",
       "      <td>0.0</td>\n",
       "      <td>0.0</td>\n",
       "      <td>0.0</td>\n",
       "      <td>0.0</td>\n",
       "      <td>0.0</td>\n",
       "      <td>...</td>\n",
       "      <td>0.0</td>\n",
       "      <td>0.0</td>\n",
       "      <td>0.0</td>\n",
       "      <td>0.0</td>\n",
       "      <td>0.0</td>\n",
       "      <td>0.0</td>\n",
       "      <td>0.0</td>\n",
       "      <td>0.0</td>\n",
       "      <td>0.0</td>\n",
       "      <td>0.0</td>\n",
       "    </tr>\n",
       "    <tr>\n",
       "      <th>01impala</th>\n",
       "      <td>0.0</td>\n",
       "      <td>0.0</td>\n",
       "      <td>0.0</td>\n",
       "      <td>0.0</td>\n",
       "      <td>0.0</td>\n",
       "      <td>0.0</td>\n",
       "      <td>0.0</td>\n",
       "      <td>0.0</td>\n",
       "      <td>0.0</td>\n",
       "      <td>0.0</td>\n",
       "      <td>...</td>\n",
       "      <td>0.0</td>\n",
       "      <td>0.0</td>\n",
       "      <td>0.0</td>\n",
       "      <td>0.0</td>\n",
       "      <td>0.0</td>\n",
       "      <td>0.0</td>\n",
       "      <td>0.0</td>\n",
       "      <td>0.0</td>\n",
       "      <td>0.0</td>\n",
       "      <td>0.0</td>\n",
       "    </tr>\n",
       "    <tr>\n",
       "      <th>02dakota</th>\n",
       "      <td>0.0</td>\n",
       "      <td>0.0</td>\n",
       "      <td>0.0</td>\n",
       "      <td>0.0</td>\n",
       "      <td>0.0</td>\n",
       "      <td>0.0</td>\n",
       "      <td>0.0</td>\n",
       "      <td>0.0</td>\n",
       "      <td>0.0</td>\n",
       "      <td>0.0</td>\n",
       "      <td>...</td>\n",
       "      <td>0.0</td>\n",
       "      <td>0.0</td>\n",
       "      <td>0.0</td>\n",
       "      <td>0.0</td>\n",
       "      <td>0.0</td>\n",
       "      <td>0.0</td>\n",
       "      <td>0.0</td>\n",
       "      <td>0.0</td>\n",
       "      <td>0.0</td>\n",
       "      <td>0.0</td>\n",
       "    </tr>\n",
       "    <tr>\n",
       "      <th>02deuce</th>\n",
       "      <td>0.0</td>\n",
       "      <td>0.0</td>\n",
       "      <td>0.0</td>\n",
       "      <td>0.0</td>\n",
       "      <td>0.0</td>\n",
       "      <td>0.0</td>\n",
       "      <td>0.0</td>\n",
       "      <td>0.0</td>\n",
       "      <td>0.0</td>\n",
       "      <td>0.0</td>\n",
       "      <td>...</td>\n",
       "      <td>0.0</td>\n",
       "      <td>0.0</td>\n",
       "      <td>0.0</td>\n",
       "      <td>0.0</td>\n",
       "      <td>0.0</td>\n",
       "      <td>0.0</td>\n",
       "      <td>0.0</td>\n",
       "      <td>0.0</td>\n",
       "      <td>0.0</td>\n",
       "      <td>0.0</td>\n",
       "    </tr>\n",
       "    <tr>\n",
       "      <th>06stidriver</th>\n",
       "      <td>0.0</td>\n",
       "      <td>0.0</td>\n",
       "      <td>0.0</td>\n",
       "      <td>0.0</td>\n",
       "      <td>0.0</td>\n",
       "      <td>0.0</td>\n",
       "      <td>0.0</td>\n",
       "      <td>0.0</td>\n",
       "      <td>0.0</td>\n",
       "      <td>0.0</td>\n",
       "      <td>...</td>\n",
       "      <td>0.0</td>\n",
       "      <td>0.0</td>\n",
       "      <td>0.0</td>\n",
       "      <td>0.0</td>\n",
       "      <td>0.0</td>\n",
       "      <td>0.0</td>\n",
       "      <td>0.0</td>\n",
       "      <td>0.0</td>\n",
       "      <td>0.0</td>\n",
       "      <td>0.0</td>\n",
       "    </tr>\n",
       "  </tbody>\n",
       "</table>\n",
       "<p>5 rows × 18212 columns</p>\n",
       "</div>"
      ],
      "text/plain": [
       "                  0      1      2      3      4      5      6      7      \\\n",
       "reviews_username                                                           \n",
       "00sab00             1.0    0.0    0.0    0.0    0.0    0.0    0.0    0.0   \n",
       "01impala            0.0    0.0    0.0    0.0    0.0    0.0    0.0    0.0   \n",
       "02dakota            0.0    0.0    0.0    0.0    0.0    0.0    0.0    0.0   \n",
       "02deuce             0.0    0.0    0.0    0.0    0.0    0.0    0.0    0.0   \n",
       "06stidriver         0.0    0.0    0.0    0.0    0.0    0.0    0.0    0.0   \n",
       "\n",
       "                  8      9      ...  18202  18203  18204  18205  18206  18207  \\\n",
       "reviews_username                ...                                             \n",
       "00sab00             0.0    0.0  ...    0.0    0.0    0.0    0.0    0.0    0.0   \n",
       "01impala            0.0    0.0  ...    0.0    0.0    0.0    0.0    0.0    0.0   \n",
       "02dakota            0.0    0.0  ...    0.0    0.0    0.0    0.0    0.0    0.0   \n",
       "02deuce             0.0    0.0  ...    0.0    0.0    0.0    0.0    0.0    0.0   \n",
       "06stidriver         0.0    0.0  ...    0.0    0.0    0.0    0.0    0.0    0.0   \n",
       "\n",
       "                  18208  18209  18210  18211  \n",
       "reviews_username                              \n",
       "00sab00             0.0    0.0    0.0    0.0  \n",
       "01impala            0.0    0.0    0.0    0.0  \n",
       "02dakota            0.0    0.0    0.0    0.0  \n",
       "02deuce             0.0    0.0    0.0    0.0  \n",
       "06stidriver         0.0    0.0    0.0    0.0  \n",
       "\n",
       "[5 rows x 18212 columns]"
      ]
     },
     "execution_count": 115,
     "metadata": {},
     "output_type": "execute_result"
    }
   ],
   "source": [
    "user_correlation_df['reviews_username'] = df_subtracted.index\n",
    "user_correlation_df.set_index('reviews_username',inplace=True)\n",
    "user_correlation_df.head()"
   ]
  },
  {
   "cell_type": "code",
   "execution_count": 116,
   "id": "b2ac25f1",
   "metadata": {},
   "outputs": [
    {
     "data": {
      "text/html": [
       "<div>\n",
       "<style scoped>\n",
       "    .dataframe tbody tr th:only-of-type {\n",
       "        vertical-align: middle;\n",
       "    }\n",
       "\n",
       "    .dataframe tbody tr th {\n",
       "        vertical-align: top;\n",
       "    }\n",
       "\n",
       "    .dataframe thead th {\n",
       "        text-align: right;\n",
       "    }\n",
       "</style>\n",
       "<table border=\"1\" class=\"dataframe\">\n",
       "  <thead>\n",
       "    <tr style=\"text-align: right;\">\n",
       "      <th></th>\n",
       "      <th>id</th>\n",
       "      <th>brand</th>\n",
       "      <th>categories</th>\n",
       "      <th>manufacturer</th>\n",
       "      <th>name</th>\n",
       "      <th>reviews_date</th>\n",
       "      <th>reviews_didPurchase</th>\n",
       "      <th>reviews_doRecommend</th>\n",
       "      <th>reviews_rating</th>\n",
       "      <th>reviews_text</th>\n",
       "      <th>reviews_title</th>\n",
       "      <th>reviews_userCity</th>\n",
       "      <th>reviews_userProvince</th>\n",
       "      <th>reviews_username</th>\n",
       "      <th>user_sentiment</th>\n",
       "    </tr>\n",
       "  </thead>\n",
       "  <tbody>\n",
       "    <tr>\n",
       "      <th>21169</th>\n",
       "      <td>AVpfm8yiLJeJML43AYyu</td>\n",
       "      <td>Nexxus</td>\n",
       "      <td>Personal Care,Hair Care,Styling Gel/Lotion,Bea...</td>\n",
       "      <td>Nexxus Beauty Products</td>\n",
       "      <td>Nexxus Exxtra Gel Style Creation Sculptor</td>\n",
       "      <td>2015-04-13T00:00:00.000Z</td>\n",
       "      <td>False</td>\n",
       "      <td>False</td>\n",
       "      <td>1</td>\n",
       "      <td>What happened The old formula was one of the b...</td>\n",
       "      <td>Truly awful!</td>\n",
       "      <td>NaN</td>\n",
       "      <td>NaN</td>\n",
       "      <td>jjjj</td>\n",
       "      <td>Positive</td>\n",
       "    </tr>\n",
       "  </tbody>\n",
       "</table>\n",
       "</div>"
      ],
      "text/plain": [
       "                         id   brand  \\\n",
       "21169  AVpfm8yiLJeJML43AYyu  Nexxus   \n",
       "\n",
       "                                              categories  \\\n",
       "21169  Personal Care,Hair Care,Styling Gel/Lotion,Bea...   \n",
       "\n",
       "                 manufacturer                                       name  \\\n",
       "21169  Nexxus Beauty Products  Nexxus Exxtra Gel Style Creation Sculptor   \n",
       "\n",
       "                   reviews_date reviews_didPurchase reviews_doRecommend  \\\n",
       "21169  2015-04-13T00:00:00.000Z               False               False   \n",
       "\n",
       "       reviews_rating                                       reviews_text  \\\n",
       "21169               1  What happened The old formula was one of the b...   \n",
       "\n",
       "      reviews_title reviews_userCity reviews_userProvince reviews_username  \\\n",
       "21169  Truly awful!              NaN                  NaN             jjjj   \n",
       "\n",
       "      user_sentiment  \n",
       "21169       Positive  "
      ]
     },
     "execution_count": 116,
     "metadata": {},
     "output_type": "execute_result"
    }
   ],
   "source": [
    "common.head(1)"
   ]
  },
  {
   "cell_type": "code",
   "execution_count": 120,
   "id": "28b47b54",
   "metadata": {},
   "outputs": [],
   "source": [
    "list_name = common.reviews_username.tolist()\n",
    "\n",
    "user_correlation_df.columns = df_subtracted.index.tolist()\n",
    "\n",
    "user_correlation_df_1 =  user_correlation_df[user_correlation_df.index.isin(list_name)]"
   ]
  },
  {
   "cell_type": "code",
   "execution_count": 121,
   "id": "b8060a52",
   "metadata": {},
   "outputs": [
    {
     "data": {
      "text/plain": [
       "(1660, 18212)"
      ]
     },
     "execution_count": 121,
     "metadata": {},
     "output_type": "execute_result"
    }
   ],
   "source": [
    "user_correlation_df_1.shape"
   ]
  },
  {
   "cell_type": "code",
   "execution_count": 122,
   "id": "915f8b48",
   "metadata": {},
   "outputs": [],
   "source": [
    "user_correlation_df_2 = user_correlation_df_1.T[user_correlation_df_1.T.index.isin(list_name)]"
   ]
  },
  {
   "cell_type": "code",
   "execution_count": 123,
   "id": "95f6a00a",
   "metadata": {},
   "outputs": [],
   "source": [
    "user_correlation_df_3 = user_correlation_df_2.T"
   ]
  },
  {
   "cell_type": "code",
   "execution_count": 124,
   "id": "7e5288e0",
   "metadata": {},
   "outputs": [
    {
     "data": {
      "text/html": [
       "<div>\n",
       "<style scoped>\n",
       "    .dataframe tbody tr th:only-of-type {\n",
       "        vertical-align: middle;\n",
       "    }\n",
       "\n",
       "    .dataframe tbody tr th {\n",
       "        vertical-align: top;\n",
       "    }\n",
       "\n",
       "    .dataframe thead th {\n",
       "        text-align: right;\n",
       "    }\n",
       "</style>\n",
       "<table border=\"1\" class=\"dataframe\">\n",
       "  <thead>\n",
       "    <tr style=\"text-align: right;\">\n",
       "      <th></th>\n",
       "      <th>1234</th>\n",
       "      <th>123charlie</th>\n",
       "      <th>37f5p</th>\n",
       "      <th>4cloroxl</th>\n",
       "      <th>50cal</th>\n",
       "      <th>7.87E+11</th>\n",
       "      <th>aac06002</th>\n",
       "      <th>abbey</th>\n",
       "      <th>abbi</th>\n",
       "      <th>abby</th>\n",
       "      <th>...</th>\n",
       "      <th>yesseniaw22</th>\n",
       "      <th>yeya</th>\n",
       "      <th>ygtz</th>\n",
       "      <th>yummy</th>\n",
       "      <th>zapman</th>\n",
       "      <th>zburt5</th>\n",
       "      <th>zebras</th>\n",
       "      <th>zippy</th>\n",
       "      <th>zitro</th>\n",
       "      <th>zxcsdfd</th>\n",
       "    </tr>\n",
       "    <tr>\n",
       "      <th>reviews_username</th>\n",
       "      <th></th>\n",
       "      <th></th>\n",
       "      <th></th>\n",
       "      <th></th>\n",
       "      <th></th>\n",
       "      <th></th>\n",
       "      <th></th>\n",
       "      <th></th>\n",
       "      <th></th>\n",
       "      <th></th>\n",
       "      <th></th>\n",
       "      <th></th>\n",
       "      <th></th>\n",
       "      <th></th>\n",
       "      <th></th>\n",
       "      <th></th>\n",
       "      <th></th>\n",
       "      <th></th>\n",
       "      <th></th>\n",
       "      <th></th>\n",
       "      <th></th>\n",
       "    </tr>\n",
       "  </thead>\n",
       "  <tbody>\n",
       "    <tr>\n",
       "      <th>1234</th>\n",
       "      <td>1.0</td>\n",
       "      <td>0.0</td>\n",
       "      <td>0.0</td>\n",
       "      <td>0.0</td>\n",
       "      <td>0.0</td>\n",
       "      <td>0.0</td>\n",
       "      <td>0.0</td>\n",
       "      <td>0.0</td>\n",
       "      <td>0.0</td>\n",
       "      <td>0.0</td>\n",
       "      <td>...</td>\n",
       "      <td>0.0</td>\n",
       "      <td>0.0</td>\n",
       "      <td>0.0</td>\n",
       "      <td>0.0</td>\n",
       "      <td>0.0</td>\n",
       "      <td>0.0</td>\n",
       "      <td>0.0</td>\n",
       "      <td>0.0</td>\n",
       "      <td>0.0</td>\n",
       "      <td>0.0</td>\n",
       "    </tr>\n",
       "    <tr>\n",
       "      <th>123charlie</th>\n",
       "      <td>0.0</td>\n",
       "      <td>0.0</td>\n",
       "      <td>0.0</td>\n",
       "      <td>0.0</td>\n",
       "      <td>0.0</td>\n",
       "      <td>0.0</td>\n",
       "      <td>0.0</td>\n",
       "      <td>0.0</td>\n",
       "      <td>0.0</td>\n",
       "      <td>0.0</td>\n",
       "      <td>...</td>\n",
       "      <td>0.0</td>\n",
       "      <td>0.0</td>\n",
       "      <td>0.0</td>\n",
       "      <td>0.0</td>\n",
       "      <td>0.0</td>\n",
       "      <td>0.0</td>\n",
       "      <td>0.0</td>\n",
       "      <td>0.0</td>\n",
       "      <td>0.0</td>\n",
       "      <td>0.0</td>\n",
       "    </tr>\n",
       "    <tr>\n",
       "      <th>37f5p</th>\n",
       "      <td>0.0</td>\n",
       "      <td>0.0</td>\n",
       "      <td>0.0</td>\n",
       "      <td>0.0</td>\n",
       "      <td>0.0</td>\n",
       "      <td>0.0</td>\n",
       "      <td>0.0</td>\n",
       "      <td>0.0</td>\n",
       "      <td>0.0</td>\n",
       "      <td>0.0</td>\n",
       "      <td>...</td>\n",
       "      <td>0.0</td>\n",
       "      <td>0.0</td>\n",
       "      <td>0.0</td>\n",
       "      <td>0.0</td>\n",
       "      <td>0.0</td>\n",
       "      <td>0.0</td>\n",
       "      <td>0.0</td>\n",
       "      <td>0.0</td>\n",
       "      <td>0.0</td>\n",
       "      <td>0.0</td>\n",
       "    </tr>\n",
       "    <tr>\n",
       "      <th>4cloroxl</th>\n",
       "      <td>0.0</td>\n",
       "      <td>0.0</td>\n",
       "      <td>0.0</td>\n",
       "      <td>0.0</td>\n",
       "      <td>0.0</td>\n",
       "      <td>0.0</td>\n",
       "      <td>0.0</td>\n",
       "      <td>0.0</td>\n",
       "      <td>0.0</td>\n",
       "      <td>0.0</td>\n",
       "      <td>...</td>\n",
       "      <td>0.0</td>\n",
       "      <td>0.0</td>\n",
       "      <td>0.0</td>\n",
       "      <td>0.0</td>\n",
       "      <td>0.0</td>\n",
       "      <td>0.0</td>\n",
       "      <td>0.0</td>\n",
       "      <td>0.0</td>\n",
       "      <td>0.0</td>\n",
       "      <td>0.0</td>\n",
       "    </tr>\n",
       "    <tr>\n",
       "      <th>50cal</th>\n",
       "      <td>0.0</td>\n",
       "      <td>0.0</td>\n",
       "      <td>0.0</td>\n",
       "      <td>0.0</td>\n",
       "      <td>0.0</td>\n",
       "      <td>0.0</td>\n",
       "      <td>0.0</td>\n",
       "      <td>0.0</td>\n",
       "      <td>0.0</td>\n",
       "      <td>0.0</td>\n",
       "      <td>...</td>\n",
       "      <td>0.0</td>\n",
       "      <td>0.0</td>\n",
       "      <td>0.0</td>\n",
       "      <td>0.0</td>\n",
       "      <td>0.0</td>\n",
       "      <td>0.0</td>\n",
       "      <td>0.0</td>\n",
       "      <td>0.0</td>\n",
       "      <td>0.0</td>\n",
       "      <td>0.0</td>\n",
       "    </tr>\n",
       "  </tbody>\n",
       "</table>\n",
       "<p>5 rows × 1660 columns</p>\n",
       "</div>"
      ],
      "text/plain": [
       "                  1234  123charlie  37f5p  4cloroxl  50cal  7.87E+11  \\\n",
       "reviews_username                                                       \n",
       "1234               1.0         0.0    0.0       0.0    0.0       0.0   \n",
       "123charlie         0.0         0.0    0.0       0.0    0.0       0.0   \n",
       "37f5p              0.0         0.0    0.0       0.0    0.0       0.0   \n",
       "4cloroxl           0.0         0.0    0.0       0.0    0.0       0.0   \n",
       "50cal              0.0         0.0    0.0       0.0    0.0       0.0   \n",
       "\n",
       "                  aac06002  abbey  abbi  abby  ...  yesseniaw22  yeya  ygtz  \\\n",
       "reviews_username                               ...                            \n",
       "1234                   0.0    0.0   0.0   0.0  ...          0.0   0.0   0.0   \n",
       "123charlie             0.0    0.0   0.0   0.0  ...          0.0   0.0   0.0   \n",
       "37f5p                  0.0    0.0   0.0   0.0  ...          0.0   0.0   0.0   \n",
       "4cloroxl               0.0    0.0   0.0   0.0  ...          0.0   0.0   0.0   \n",
       "50cal                  0.0    0.0   0.0   0.0  ...          0.0   0.0   0.0   \n",
       "\n",
       "                  yummy  zapman  zburt5  zebras  zippy  zitro  zxcsdfd  \n",
       "reviews_username                                                        \n",
       "1234                0.0     0.0     0.0     0.0    0.0    0.0      0.0  \n",
       "123charlie          0.0     0.0     0.0     0.0    0.0    0.0      0.0  \n",
       "37f5p               0.0     0.0     0.0     0.0    0.0    0.0      0.0  \n",
       "4cloroxl            0.0     0.0     0.0     0.0    0.0    0.0      0.0  \n",
       "50cal               0.0     0.0     0.0     0.0    0.0    0.0      0.0  \n",
       "\n",
       "[5 rows x 1660 columns]"
      ]
     },
     "execution_count": 124,
     "metadata": {},
     "output_type": "execute_result"
    }
   ],
   "source": [
    "user_correlation_df_3.head()"
   ]
  },
  {
   "cell_type": "code",
   "execution_count": 125,
   "id": "89c51d6a",
   "metadata": {},
   "outputs": [
    {
     "data": {
      "text/plain": [
       "(1660, 1660)"
      ]
     },
     "execution_count": 125,
     "metadata": {},
     "output_type": "execute_result"
    }
   ],
   "source": [
    "user_correlation_df_3.shape"
   ]
  },
  {
   "cell_type": "code",
   "execution_count": 126,
   "id": "4f34966d",
   "metadata": {},
   "outputs": [
    {
     "data": {
      "text/plain": [
       "array([[0.28867513, 0.        , 0.        , ..., 2.5423759 , 1.44337567,\n",
       "        0.        ],\n",
       "       [0.        , 0.        , 0.        , ..., 0.        , 0.        ,\n",
       "        0.        ],\n",
       "       [0.        , 0.        , 0.        , ..., 0.        , 0.        ,\n",
       "        0.        ],\n",
       "       ...,\n",
       "       [0.        , 0.        , 0.        , ..., 0.        , 0.        ,\n",
       "        0.        ],\n",
       "       [0.        , 0.        , 0.        , ..., 0.        , 0.        ,\n",
       "        0.        ],\n",
       "       [0.        , 0.        , 0.        , ..., 0.        , 0.        ,\n",
       "        0.        ]])"
      ]
     },
     "execution_count": 126,
     "metadata": {},
     "output_type": "execute_result"
    }
   ],
   "source": [
    "user_correlation_df_3[user_correlation_df_3<0]=0\n",
    "\n",
    "common_user_predicted_ratings = np.dot(user_correlation_df_3, common_user_based_matrix.fillna(0))\n",
    "common_user_predicted_ratings"
   ]
  },
  {
   "cell_type": "code",
   "execution_count": 127,
   "id": "67463835",
   "metadata": {},
   "outputs": [],
   "source": [
    "dummy_test = common.copy()\n",
    "\n",
    "dummy_test['reviews_rating'] = dummy_test['reviews_rating'].apply(lambda x: 1 if x>=1 else 0)\n",
    "\n",
    "dummy_test = dummy_test.pivot_table(index='reviews_username', columns='id', values='reviews_rating').fillna(0)"
   ]
  },
  {
   "cell_type": "code",
   "execution_count": 128,
   "id": "68bf1004",
   "metadata": {},
   "outputs": [
    {
     "data": {
      "text/plain": [
       "(1660, 127)"
      ]
     },
     "execution_count": 128,
     "metadata": {},
     "output_type": "execute_result"
    }
   ],
   "source": [
    "dummy_test.shape"
   ]
  },
  {
   "cell_type": "code",
   "execution_count": 129,
   "id": "1d4786ac",
   "metadata": {},
   "outputs": [],
   "source": [
    "common_user_predicted_ratings = np.multiply(common_user_predicted_ratings,dummy_test)"
   ]
  },
  {
   "cell_type": "code",
   "execution_count": 130,
   "id": "84273dc5",
   "metadata": {},
   "outputs": [
    {
     "data": {
      "text/html": [
       "<div>\n",
       "<style scoped>\n",
       "    .dataframe tbody tr th:only-of-type {\n",
       "        vertical-align: middle;\n",
       "    }\n",
       "\n",
       "    .dataframe tbody tr th {\n",
       "        vertical-align: top;\n",
       "    }\n",
       "\n",
       "    .dataframe thead th {\n",
       "        text-align: right;\n",
       "    }\n",
       "</style>\n",
       "<table border=\"1\" class=\"dataframe\">\n",
       "  <thead>\n",
       "    <tr style=\"text-align: right;\">\n",
       "      <th>id</th>\n",
       "      <th>AV16khLE-jtxr-f38VFn</th>\n",
       "      <th>AV1YGDqsGV-KLJ3adc-O</th>\n",
       "      <th>AV1YlENIglJLPUi8IHsX</th>\n",
       "      <th>AV1YmDL9vKc47QAVgr7_</th>\n",
       "      <th>AV1Ymf_rglJLPUi8II2v</th>\n",
       "      <th>AV1Yn94nvKc47QAVgtst</th>\n",
       "      <th>AV1YneDPglJLPUi8IJyQ</th>\n",
       "      <th>AV1YqAaMGV-KLJ3adiDj</th>\n",
       "      <th>AV1Ys0kTvKc47QAVgx1C</th>\n",
       "      <th>AV1h6Gu0glJLPUi8IjA_</th>\n",
       "      <th>...</th>\n",
       "      <th>AVpfoSS51cnluZ0-oVH9</th>\n",
       "      <th>AVpfov9TLJeJML43A7B0</th>\n",
       "      <th>AVpfpM2yilAPnD_xfmDG</th>\n",
       "      <th>AVpfr5cb1cnluZ0-pZFp</th>\n",
       "      <th>AVpfrFDZLJeJML43Bmv0</th>\n",
       "      <th>AVpfrTyiLJeJML43BrSI</th>\n",
       "      <th>AVpfs0tUilAPnD_xgqN2</th>\n",
       "      <th>AVpftikC1cnluZ0-p31V</th>\n",
       "      <th>AVpfv4TlilAPnD_xhjNS</th>\n",
       "      <th>AVpfvieo1cnluZ0-qdnu</th>\n",
       "    </tr>\n",
       "    <tr>\n",
       "      <th>reviews_username</th>\n",
       "      <th></th>\n",
       "      <th></th>\n",
       "      <th></th>\n",
       "      <th></th>\n",
       "      <th></th>\n",
       "      <th></th>\n",
       "      <th></th>\n",
       "      <th></th>\n",
       "      <th></th>\n",
       "      <th></th>\n",
       "      <th></th>\n",
       "      <th></th>\n",
       "      <th></th>\n",
       "      <th></th>\n",
       "      <th></th>\n",
       "      <th></th>\n",
       "      <th></th>\n",
       "      <th></th>\n",
       "      <th></th>\n",
       "      <th></th>\n",
       "      <th></th>\n",
       "    </tr>\n",
       "  </thead>\n",
       "  <tbody>\n",
       "    <tr>\n",
       "      <th>1234</th>\n",
       "      <td>0.0</td>\n",
       "      <td>0.0</td>\n",
       "      <td>0.0</td>\n",
       "      <td>0.0</td>\n",
       "      <td>0.0</td>\n",
       "      <td>0.0</td>\n",
       "      <td>0.0</td>\n",
       "      <td>0.0</td>\n",
       "      <td>0.0</td>\n",
       "      <td>0.0</td>\n",
       "      <td>...</td>\n",
       "      <td>0.0</td>\n",
       "      <td>0.0</td>\n",
       "      <td>0.0</td>\n",
       "      <td>0.0</td>\n",
       "      <td>0.0</td>\n",
       "      <td>0.0</td>\n",
       "      <td>0.0</td>\n",
       "      <td>0.0</td>\n",
       "      <td>0.0</td>\n",
       "      <td>0.0</td>\n",
       "    </tr>\n",
       "    <tr>\n",
       "      <th>123charlie</th>\n",
       "      <td>0.0</td>\n",
       "      <td>0.0</td>\n",
       "      <td>0.0</td>\n",
       "      <td>0.0</td>\n",
       "      <td>0.0</td>\n",
       "      <td>0.0</td>\n",
       "      <td>0.0</td>\n",
       "      <td>0.0</td>\n",
       "      <td>0.0</td>\n",
       "      <td>0.0</td>\n",
       "      <td>...</td>\n",
       "      <td>0.0</td>\n",
       "      <td>0.0</td>\n",
       "      <td>0.0</td>\n",
       "      <td>0.0</td>\n",
       "      <td>0.0</td>\n",
       "      <td>0.0</td>\n",
       "      <td>0.0</td>\n",
       "      <td>0.0</td>\n",
       "      <td>0.0</td>\n",
       "      <td>0.0</td>\n",
       "    </tr>\n",
       "  </tbody>\n",
       "</table>\n",
       "<p>2 rows × 127 columns</p>\n",
       "</div>"
      ],
      "text/plain": [
       "id                AV16khLE-jtxr-f38VFn  AV1YGDqsGV-KLJ3adc-O  \\\n",
       "reviews_username                                               \n",
       "1234                               0.0                   0.0   \n",
       "123charlie                         0.0                   0.0   \n",
       "\n",
       "id                AV1YlENIglJLPUi8IHsX  AV1YmDL9vKc47QAVgr7_  \\\n",
       "reviews_username                                               \n",
       "1234                               0.0                   0.0   \n",
       "123charlie                         0.0                   0.0   \n",
       "\n",
       "id                AV1Ymf_rglJLPUi8II2v  AV1Yn94nvKc47QAVgtst  \\\n",
       "reviews_username                                               \n",
       "1234                               0.0                   0.0   \n",
       "123charlie                         0.0                   0.0   \n",
       "\n",
       "id                AV1YneDPglJLPUi8IJyQ  AV1YqAaMGV-KLJ3adiDj  \\\n",
       "reviews_username                                               \n",
       "1234                               0.0                   0.0   \n",
       "123charlie                         0.0                   0.0   \n",
       "\n",
       "id                AV1Ys0kTvKc47QAVgx1C  AV1h6Gu0glJLPUi8IjA_  ...  \\\n",
       "reviews_username                                              ...   \n",
       "1234                               0.0                   0.0  ...   \n",
       "123charlie                         0.0                   0.0  ...   \n",
       "\n",
       "id                AVpfoSS51cnluZ0-oVH9  AVpfov9TLJeJML43A7B0  \\\n",
       "reviews_username                                               \n",
       "1234                               0.0                   0.0   \n",
       "123charlie                         0.0                   0.0   \n",
       "\n",
       "id                AVpfpM2yilAPnD_xfmDG  AVpfr5cb1cnluZ0-pZFp  \\\n",
       "reviews_username                                               \n",
       "1234                               0.0                   0.0   \n",
       "123charlie                         0.0                   0.0   \n",
       "\n",
       "id                AVpfrFDZLJeJML43Bmv0  AVpfrTyiLJeJML43BrSI  \\\n",
       "reviews_username                                               \n",
       "1234                               0.0                   0.0   \n",
       "123charlie                         0.0                   0.0   \n",
       "\n",
       "id                AVpfs0tUilAPnD_xgqN2  AVpftikC1cnluZ0-p31V  \\\n",
       "reviews_username                                               \n",
       "1234                               0.0                   0.0   \n",
       "123charlie                         0.0                   0.0   \n",
       "\n",
       "id                AVpfv4TlilAPnD_xhjNS  AVpfvieo1cnluZ0-qdnu  \n",
       "reviews_username                                              \n",
       "1234                               0.0                   0.0  \n",
       "123charlie                         0.0                   0.0  \n",
       "\n",
       "[2 rows x 127 columns]"
      ]
     },
     "execution_count": 130,
     "metadata": {},
     "output_type": "execute_result"
    }
   ],
   "source": [
    "common_user_predicted_ratings.head(2)"
   ]
  },
  {
   "cell_type": "code",
   "execution_count": 131,
   "id": "5c1a6fa1",
   "metadata": {},
   "outputs": [
    {
     "name": "stdout",
     "output_type": "stream",
     "text": [
      "MinMaxScaler(feature_range=(1, 5))\n",
      "[[nan nan nan ... nan nan nan]\n",
      " [nan nan nan ... nan nan nan]\n",
      " [nan nan nan ... nan nan nan]\n",
      " ...\n",
      " [nan nan nan ... nan nan nan]\n",
      " [nan nan nan ... nan nan nan]\n",
      " [nan nan nan ... nan nan nan]]\n"
     ]
    }
   ],
   "source": [
    "from sklearn.preprocessing import MinMaxScaler\n",
    "from numpy import *\n",
    "\n",
    "X  = common_user_predicted_ratings.copy() \n",
    "X = X[X>0]\n",
    "\n",
    "scaler = MinMaxScaler(feature_range=(1, 5))\n",
    "print(scaler.fit(X))\n",
    "y = (scaler.transform(X))\n",
    "\n",
    "print(y)"
   ]
  },
  {
   "cell_type": "code",
   "execution_count": 132,
   "id": "5767a3cc",
   "metadata": {},
   "outputs": [],
   "source": [
    "common_ = common.pivot_table(index='reviews_username', columns='id', values='reviews_rating')"
   ]
  },
  {
   "cell_type": "code",
   "execution_count": 133,
   "id": "9590e675",
   "metadata": {},
   "outputs": [],
   "source": [
    "# Finding total non-NaN value\n",
    "total_non_nan = np.count_nonzero(~np.isnan(y))"
   ]
  },
  {
   "cell_type": "code",
   "execution_count": 134,
   "id": "e4355ab3",
   "metadata": {},
   "outputs": [
    {
     "name": "stdout",
     "output_type": "stream",
     "text": [
      "2.434039100061514\n"
     ]
    }
   ],
   "source": [
    "rmse = (sum(sum((common_ - y )**2))/total_non_nan)**0.5\n",
    "print(rmse)"
   ]
  },
  {
   "cell_type": "markdown",
   "id": "3ede4fe9",
   "metadata": {},
   "source": [
    "#### Item based recommendation"
   ]
  },
  {
   "cell_type": "code",
   "execution_count": 135,
   "id": "4b91e8a7",
   "metadata": {},
   "outputs": [
    {
     "data": {
      "text/html": [
       "<div>\n",
       "<style scoped>\n",
       "    .dataframe tbody tr th:only-of-type {\n",
       "        vertical-align: middle;\n",
       "    }\n",
       "\n",
       "    .dataframe tbody tr th {\n",
       "        vertical-align: top;\n",
       "    }\n",
       "\n",
       "    .dataframe thead th {\n",
       "        text-align: right;\n",
       "    }\n",
       "</style>\n",
       "<table border=\"1\" class=\"dataframe\">\n",
       "  <thead>\n",
       "    <tr style=\"text-align: right;\">\n",
       "      <th>reviews_username</th>\n",
       "      <th>00sab00</th>\n",
       "      <th>01impala</th>\n",
       "      <th>02dakota</th>\n",
       "      <th>02deuce</th>\n",
       "      <th>06stidriver</th>\n",
       "      <th>08dallas</th>\n",
       "      <th>09mommy11</th>\n",
       "      <th>1.11E+24</th>\n",
       "      <th>1085</th>\n",
       "      <th>10ten</th>\n",
       "      <th>...</th>\n",
       "      <th>zowie</th>\n",
       "      <th>zozo0o</th>\n",
       "      <th>zpalma</th>\n",
       "      <th>zsazsa</th>\n",
       "      <th>zt313</th>\n",
       "      <th>zuttle</th>\n",
       "      <th>zwithanx</th>\n",
       "      <th>zxcsdfd</th>\n",
       "      <th>zyiah4</th>\n",
       "      <th>zzz1127</th>\n",
       "    </tr>\n",
       "    <tr>\n",
       "      <th>id</th>\n",
       "      <th></th>\n",
       "      <th></th>\n",
       "      <th></th>\n",
       "      <th></th>\n",
       "      <th></th>\n",
       "      <th></th>\n",
       "      <th></th>\n",
       "      <th></th>\n",
       "      <th></th>\n",
       "      <th></th>\n",
       "      <th></th>\n",
       "      <th></th>\n",
       "      <th></th>\n",
       "      <th></th>\n",
       "      <th></th>\n",
       "      <th></th>\n",
       "      <th></th>\n",
       "      <th></th>\n",
       "      <th></th>\n",
       "      <th></th>\n",
       "      <th></th>\n",
       "    </tr>\n",
       "  </thead>\n",
       "  <tbody>\n",
       "    <tr>\n",
       "      <th>AV13O1A8GV-KLJ3akUyj</th>\n",
       "      <td>NaN</td>\n",
       "      <td>NaN</td>\n",
       "      <td>NaN</td>\n",
       "      <td>NaN</td>\n",
       "      <td>NaN</td>\n",
       "      <td>NaN</td>\n",
       "      <td>NaN</td>\n",
       "      <td>NaN</td>\n",
       "      <td>NaN</td>\n",
       "      <td>NaN</td>\n",
       "      <td>...</td>\n",
       "      <td>NaN</td>\n",
       "      <td>NaN</td>\n",
       "      <td>NaN</td>\n",
       "      <td>NaN</td>\n",
       "      <td>NaN</td>\n",
       "      <td>NaN</td>\n",
       "      <td>NaN</td>\n",
       "      <td>NaN</td>\n",
       "      <td>NaN</td>\n",
       "      <td>NaN</td>\n",
       "    </tr>\n",
       "    <tr>\n",
       "      <th>AV14LG0R-jtxr-f38QfS</th>\n",
       "      <td>NaN</td>\n",
       "      <td>NaN</td>\n",
       "      <td>NaN</td>\n",
       "      <td>NaN</td>\n",
       "      <td>NaN</td>\n",
       "      <td>NaN</td>\n",
       "      <td>NaN</td>\n",
       "      <td>NaN</td>\n",
       "      <td>NaN</td>\n",
       "      <td>NaN</td>\n",
       "      <td>...</td>\n",
       "      <td>NaN</td>\n",
       "      <td>NaN</td>\n",
       "      <td>NaN</td>\n",
       "      <td>NaN</td>\n",
       "      <td>NaN</td>\n",
       "      <td>NaN</td>\n",
       "      <td>NaN</td>\n",
       "      <td>NaN</td>\n",
       "      <td>NaN</td>\n",
       "      <td>NaN</td>\n",
       "    </tr>\n",
       "    <tr>\n",
       "      <th>AV16khLE-jtxr-f38VFn</th>\n",
       "      <td>NaN</td>\n",
       "      <td>NaN</td>\n",
       "      <td>NaN</td>\n",
       "      <td>NaN</td>\n",
       "      <td>NaN</td>\n",
       "      <td>NaN</td>\n",
       "      <td>NaN</td>\n",
       "      <td>NaN</td>\n",
       "      <td>NaN</td>\n",
       "      <td>NaN</td>\n",
       "      <td>...</td>\n",
       "      <td>NaN</td>\n",
       "      <td>NaN</td>\n",
       "      <td>NaN</td>\n",
       "      <td>NaN</td>\n",
       "      <td>NaN</td>\n",
       "      <td>NaN</td>\n",
       "      <td>NaN</td>\n",
       "      <td>NaN</td>\n",
       "      <td>NaN</td>\n",
       "      <td>NaN</td>\n",
       "    </tr>\n",
       "    <tr>\n",
       "      <th>AV1YGDqsGV-KLJ3adc-O</th>\n",
       "      <td>NaN</td>\n",
       "      <td>NaN</td>\n",
       "      <td>NaN</td>\n",
       "      <td>NaN</td>\n",
       "      <td>NaN</td>\n",
       "      <td>NaN</td>\n",
       "      <td>NaN</td>\n",
       "      <td>NaN</td>\n",
       "      <td>NaN</td>\n",
       "      <td>NaN</td>\n",
       "      <td>...</td>\n",
       "      <td>NaN</td>\n",
       "      <td>NaN</td>\n",
       "      <td>NaN</td>\n",
       "      <td>NaN</td>\n",
       "      <td>NaN</td>\n",
       "      <td>NaN</td>\n",
       "      <td>NaN</td>\n",
       "      <td>NaN</td>\n",
       "      <td>NaN</td>\n",
       "      <td>NaN</td>\n",
       "    </tr>\n",
       "    <tr>\n",
       "      <th>AV1YIch7GV-KLJ3addeG</th>\n",
       "      <td>NaN</td>\n",
       "      <td>NaN</td>\n",
       "      <td>NaN</td>\n",
       "      <td>NaN</td>\n",
       "      <td>NaN</td>\n",
       "      <td>NaN</td>\n",
       "      <td>NaN</td>\n",
       "      <td>NaN</td>\n",
       "      <td>NaN</td>\n",
       "      <td>NaN</td>\n",
       "      <td>...</td>\n",
       "      <td>NaN</td>\n",
       "      <td>NaN</td>\n",
       "      <td>NaN</td>\n",
       "      <td>NaN</td>\n",
       "      <td>NaN</td>\n",
       "      <td>NaN</td>\n",
       "      <td>NaN</td>\n",
       "      <td>NaN</td>\n",
       "      <td>NaN</td>\n",
       "      <td>NaN</td>\n",
       "    </tr>\n",
       "  </tbody>\n",
       "</table>\n",
       "<p>5 rows × 18212 columns</p>\n",
       "</div>"
      ],
      "text/plain": [
       "reviews_username      00sab00  01impala  02dakota  02deuce  06stidriver  \\\n",
       "id                                                                        \n",
       "AV13O1A8GV-KLJ3akUyj      NaN       NaN       NaN      NaN          NaN   \n",
       "AV14LG0R-jtxr-f38QfS      NaN       NaN       NaN      NaN          NaN   \n",
       "AV16khLE-jtxr-f38VFn      NaN       NaN       NaN      NaN          NaN   \n",
       "AV1YGDqsGV-KLJ3adc-O      NaN       NaN       NaN      NaN          NaN   \n",
       "AV1YIch7GV-KLJ3addeG      NaN       NaN       NaN      NaN          NaN   \n",
       "\n",
       "reviews_username      08dallas  09mommy11  1.11E+24  1085  10ten  ...  zowie  \\\n",
       "id                                                                ...          \n",
       "AV13O1A8GV-KLJ3akUyj       NaN        NaN       NaN   NaN    NaN  ...    NaN   \n",
       "AV14LG0R-jtxr-f38QfS       NaN        NaN       NaN   NaN    NaN  ...    NaN   \n",
       "AV16khLE-jtxr-f38VFn       NaN        NaN       NaN   NaN    NaN  ...    NaN   \n",
       "AV1YGDqsGV-KLJ3adc-O       NaN        NaN       NaN   NaN    NaN  ...    NaN   \n",
       "AV1YIch7GV-KLJ3addeG       NaN        NaN       NaN   NaN    NaN  ...    NaN   \n",
       "\n",
       "reviews_username      zozo0o  zpalma  zsazsa  zt313  zuttle  zwithanx  \\\n",
       "id                                                                      \n",
       "AV13O1A8GV-KLJ3akUyj     NaN     NaN     NaN    NaN     NaN       NaN   \n",
       "AV14LG0R-jtxr-f38QfS     NaN     NaN     NaN    NaN     NaN       NaN   \n",
       "AV16khLE-jtxr-f38VFn     NaN     NaN     NaN    NaN     NaN       NaN   \n",
       "AV1YGDqsGV-KLJ3adc-O     NaN     NaN     NaN    NaN     NaN       NaN   \n",
       "AV1YIch7GV-KLJ3addeG     NaN     NaN     NaN    NaN     NaN       NaN   \n",
       "\n",
       "reviews_username      zxcsdfd  zyiah4  zzz1127  \n",
       "id                                              \n",
       "AV13O1A8GV-KLJ3akUyj      NaN     NaN      NaN  \n",
       "AV14LG0R-jtxr-f38QfS      NaN     NaN      NaN  \n",
       "AV16khLE-jtxr-f38VFn      NaN     NaN      NaN  \n",
       "AV1YGDqsGV-KLJ3adc-O      NaN     NaN      NaN  \n",
       "AV1YIch7GV-KLJ3addeG      NaN     NaN      NaN  \n",
       "\n",
       "[5 rows x 18212 columns]"
      ]
     },
     "execution_count": 135,
     "metadata": {},
     "output_type": "execute_result"
    }
   ],
   "source": [
    "df_pivot = train.pivot_table(\n",
    "    index='reviews_username',\n",
    "    columns='id',\n",
    "    values='reviews_rating'\n",
    ").T\n",
    "\n",
    "df_pivot.head()"
   ]
  },
  {
   "cell_type": "code",
   "execution_count": 136,
   "id": "81dadb43",
   "metadata": {},
   "outputs": [],
   "source": [
    "mean = np.nanmean(df_pivot, axis=1)\n",
    "df_subtracted = (df_pivot.T-mean).T"
   ]
  },
  {
   "cell_type": "code",
   "execution_count": 137,
   "id": "f028737f",
   "metadata": {},
   "outputs": [
    {
     "data": {
      "text/html": [
       "<div>\n",
       "<style scoped>\n",
       "    .dataframe tbody tr th:only-of-type {\n",
       "        vertical-align: middle;\n",
       "    }\n",
       "\n",
       "    .dataframe tbody tr th {\n",
       "        vertical-align: top;\n",
       "    }\n",
       "\n",
       "    .dataframe thead th {\n",
       "        text-align: right;\n",
       "    }\n",
       "</style>\n",
       "<table border=\"1\" class=\"dataframe\">\n",
       "  <thead>\n",
       "    <tr style=\"text-align: right;\">\n",
       "      <th>reviews_username</th>\n",
       "      <th>00sab00</th>\n",
       "      <th>01impala</th>\n",
       "      <th>02dakota</th>\n",
       "      <th>02deuce</th>\n",
       "      <th>06stidriver</th>\n",
       "      <th>08dallas</th>\n",
       "      <th>09mommy11</th>\n",
       "      <th>1.11E+24</th>\n",
       "      <th>1085</th>\n",
       "      <th>10ten</th>\n",
       "      <th>...</th>\n",
       "      <th>zowie</th>\n",
       "      <th>zozo0o</th>\n",
       "      <th>zpalma</th>\n",
       "      <th>zsazsa</th>\n",
       "      <th>zt313</th>\n",
       "      <th>zuttle</th>\n",
       "      <th>zwithanx</th>\n",
       "      <th>zxcsdfd</th>\n",
       "      <th>zyiah4</th>\n",
       "      <th>zzz1127</th>\n",
       "    </tr>\n",
       "    <tr>\n",
       "      <th>id</th>\n",
       "      <th></th>\n",
       "      <th></th>\n",
       "      <th></th>\n",
       "      <th></th>\n",
       "      <th></th>\n",
       "      <th></th>\n",
       "      <th></th>\n",
       "      <th></th>\n",
       "      <th></th>\n",
       "      <th></th>\n",
       "      <th></th>\n",
       "      <th></th>\n",
       "      <th></th>\n",
       "      <th></th>\n",
       "      <th></th>\n",
       "      <th></th>\n",
       "      <th></th>\n",
       "      <th></th>\n",
       "      <th></th>\n",
       "      <th></th>\n",
       "      <th></th>\n",
       "    </tr>\n",
       "  </thead>\n",
       "  <tbody>\n",
       "    <tr>\n",
       "      <th>AV13O1A8GV-KLJ3akUyj</th>\n",
       "      <td>NaN</td>\n",
       "      <td>NaN</td>\n",
       "      <td>NaN</td>\n",
       "      <td>NaN</td>\n",
       "      <td>NaN</td>\n",
       "      <td>NaN</td>\n",
       "      <td>NaN</td>\n",
       "      <td>NaN</td>\n",
       "      <td>NaN</td>\n",
       "      <td>NaN</td>\n",
       "      <td>...</td>\n",
       "      <td>NaN</td>\n",
       "      <td>NaN</td>\n",
       "      <td>NaN</td>\n",
       "      <td>NaN</td>\n",
       "      <td>NaN</td>\n",
       "      <td>NaN</td>\n",
       "      <td>NaN</td>\n",
       "      <td>NaN</td>\n",
       "      <td>NaN</td>\n",
       "      <td>NaN</td>\n",
       "    </tr>\n",
       "    <tr>\n",
       "      <th>AV14LG0R-jtxr-f38QfS</th>\n",
       "      <td>NaN</td>\n",
       "      <td>NaN</td>\n",
       "      <td>NaN</td>\n",
       "      <td>NaN</td>\n",
       "      <td>NaN</td>\n",
       "      <td>NaN</td>\n",
       "      <td>NaN</td>\n",
       "      <td>NaN</td>\n",
       "      <td>NaN</td>\n",
       "      <td>NaN</td>\n",
       "      <td>...</td>\n",
       "      <td>NaN</td>\n",
       "      <td>NaN</td>\n",
       "      <td>NaN</td>\n",
       "      <td>NaN</td>\n",
       "      <td>NaN</td>\n",
       "      <td>NaN</td>\n",
       "      <td>NaN</td>\n",
       "      <td>NaN</td>\n",
       "      <td>NaN</td>\n",
       "      <td>NaN</td>\n",
       "    </tr>\n",
       "    <tr>\n",
       "      <th>AV16khLE-jtxr-f38VFn</th>\n",
       "      <td>NaN</td>\n",
       "      <td>NaN</td>\n",
       "      <td>NaN</td>\n",
       "      <td>NaN</td>\n",
       "      <td>NaN</td>\n",
       "      <td>NaN</td>\n",
       "      <td>NaN</td>\n",
       "      <td>NaN</td>\n",
       "      <td>NaN</td>\n",
       "      <td>NaN</td>\n",
       "      <td>...</td>\n",
       "      <td>NaN</td>\n",
       "      <td>NaN</td>\n",
       "      <td>NaN</td>\n",
       "      <td>NaN</td>\n",
       "      <td>NaN</td>\n",
       "      <td>NaN</td>\n",
       "      <td>NaN</td>\n",
       "      <td>NaN</td>\n",
       "      <td>NaN</td>\n",
       "      <td>NaN</td>\n",
       "    </tr>\n",
       "    <tr>\n",
       "      <th>AV1YGDqsGV-KLJ3adc-O</th>\n",
       "      <td>NaN</td>\n",
       "      <td>NaN</td>\n",
       "      <td>NaN</td>\n",
       "      <td>NaN</td>\n",
       "      <td>NaN</td>\n",
       "      <td>NaN</td>\n",
       "      <td>NaN</td>\n",
       "      <td>NaN</td>\n",
       "      <td>NaN</td>\n",
       "      <td>NaN</td>\n",
       "      <td>...</td>\n",
       "      <td>NaN</td>\n",
       "      <td>NaN</td>\n",
       "      <td>NaN</td>\n",
       "      <td>NaN</td>\n",
       "      <td>NaN</td>\n",
       "      <td>NaN</td>\n",
       "      <td>NaN</td>\n",
       "      <td>NaN</td>\n",
       "      <td>NaN</td>\n",
       "      <td>NaN</td>\n",
       "    </tr>\n",
       "    <tr>\n",
       "      <th>AV1YIch7GV-KLJ3addeG</th>\n",
       "      <td>NaN</td>\n",
       "      <td>NaN</td>\n",
       "      <td>NaN</td>\n",
       "      <td>NaN</td>\n",
       "      <td>NaN</td>\n",
       "      <td>NaN</td>\n",
       "      <td>NaN</td>\n",
       "      <td>NaN</td>\n",
       "      <td>NaN</td>\n",
       "      <td>NaN</td>\n",
       "      <td>...</td>\n",
       "      <td>NaN</td>\n",
       "      <td>NaN</td>\n",
       "      <td>NaN</td>\n",
       "      <td>NaN</td>\n",
       "      <td>NaN</td>\n",
       "      <td>NaN</td>\n",
       "      <td>NaN</td>\n",
       "      <td>NaN</td>\n",
       "      <td>NaN</td>\n",
       "      <td>NaN</td>\n",
       "    </tr>\n",
       "  </tbody>\n",
       "</table>\n",
       "<p>5 rows × 18212 columns</p>\n",
       "</div>"
      ],
      "text/plain": [
       "reviews_username      00sab00  01impala  02dakota  02deuce  06stidriver  \\\n",
       "id                                                                        \n",
       "AV13O1A8GV-KLJ3akUyj      NaN       NaN       NaN      NaN          NaN   \n",
       "AV14LG0R-jtxr-f38QfS      NaN       NaN       NaN      NaN          NaN   \n",
       "AV16khLE-jtxr-f38VFn      NaN       NaN       NaN      NaN          NaN   \n",
       "AV1YGDqsGV-KLJ3adc-O      NaN       NaN       NaN      NaN          NaN   \n",
       "AV1YIch7GV-KLJ3addeG      NaN       NaN       NaN      NaN          NaN   \n",
       "\n",
       "reviews_username      08dallas  09mommy11  1.11E+24  1085  10ten  ...  zowie  \\\n",
       "id                                                                ...          \n",
       "AV13O1A8GV-KLJ3akUyj       NaN        NaN       NaN   NaN    NaN  ...    NaN   \n",
       "AV14LG0R-jtxr-f38QfS       NaN        NaN       NaN   NaN    NaN  ...    NaN   \n",
       "AV16khLE-jtxr-f38VFn       NaN        NaN       NaN   NaN    NaN  ...    NaN   \n",
       "AV1YGDqsGV-KLJ3adc-O       NaN        NaN       NaN   NaN    NaN  ...    NaN   \n",
       "AV1YIch7GV-KLJ3addeG       NaN        NaN       NaN   NaN    NaN  ...    NaN   \n",
       "\n",
       "reviews_username      zozo0o  zpalma  zsazsa  zt313  zuttle  zwithanx  \\\n",
       "id                                                                      \n",
       "AV13O1A8GV-KLJ3akUyj     NaN     NaN     NaN    NaN     NaN       NaN   \n",
       "AV14LG0R-jtxr-f38QfS     NaN     NaN     NaN    NaN     NaN       NaN   \n",
       "AV16khLE-jtxr-f38VFn     NaN     NaN     NaN    NaN     NaN       NaN   \n",
       "AV1YGDqsGV-KLJ3adc-O     NaN     NaN     NaN    NaN     NaN       NaN   \n",
       "AV1YIch7GV-KLJ3addeG     NaN     NaN     NaN    NaN     NaN       NaN   \n",
       "\n",
       "reviews_username      zxcsdfd  zyiah4  zzz1127  \n",
       "id                                              \n",
       "AV13O1A8GV-KLJ3akUyj      NaN     NaN      NaN  \n",
       "AV14LG0R-jtxr-f38QfS      NaN     NaN      NaN  \n",
       "AV16khLE-jtxr-f38VFn      NaN     NaN      NaN  \n",
       "AV1YGDqsGV-KLJ3adc-O      NaN     NaN      NaN  \n",
       "AV1YIch7GV-KLJ3addeG      NaN     NaN      NaN  \n",
       "\n",
       "[5 rows x 18212 columns]"
      ]
     },
     "execution_count": 137,
     "metadata": {},
     "output_type": "execute_result"
    }
   ],
   "source": [
    "df_subtracted.head()"
   ]
  },
  {
   "cell_type": "code",
   "execution_count": 138,
   "id": "15a0cd55",
   "metadata": {},
   "outputs": [],
   "source": [
    "from sklearn.metrics.pairwise import pairwise_distances"
   ]
  },
  {
   "cell_type": "code",
   "execution_count": 139,
   "id": "6c174426",
   "metadata": {},
   "outputs": [
    {
     "name": "stdout",
     "output_type": "stream",
     "text": [
      "[[0. 0. 0. ... 0. 0. 0.]\n",
      " [0. 0. 0. ... 0. 0. 0.]\n",
      " [0. 0. 1. ... 0. 0. 0.]\n",
      " ...\n",
      " [0. 0. 0. ... 1. 0. 0.]\n",
      " [0. 0. 0. ... 0. 1. 0.]\n",
      " [0. 0. 0. ... 0. 0. 1.]]\n"
     ]
    }
   ],
   "source": [
    "# Item Similarity Matrix\n",
    "item_correlation = 1 - pairwise_distances(df_subtracted.fillna(0), metric='cosine')\n",
    "item_correlation[np.isnan(item_correlation)] = 0\n",
    "print(item_correlation)"
   ]
  },
  {
   "cell_type": "code",
   "execution_count": 140,
   "id": "3b1cb6cb",
   "metadata": {},
   "outputs": [
    {
     "data": {
      "text/plain": [
       "array([[0., 0., 0., ..., 0., 0., 0.],\n",
       "       [0., 0., 0., ..., 0., 0., 0.],\n",
       "       [0., 0., 1., ..., 0., 0., 0.],\n",
       "       ...,\n",
       "       [0., 0., 0., ..., 1., 0., 0.],\n",
       "       [0., 0., 0., ..., 0., 1., 0.],\n",
       "       [0., 0., 0., ..., 0., 0., 1.]])"
      ]
     },
     "execution_count": 140,
     "metadata": {},
     "output_type": "execute_result"
    }
   ],
   "source": [
    "item_correlation[item_correlation<0]=0\n",
    "item_correlation"
   ]
  },
  {
   "cell_type": "code",
   "execution_count": 141,
   "id": "f0dbb53a",
   "metadata": {},
   "outputs": [
    {
     "data": {
      "text/plain": [
       "array([[0.        , 0.        , 0.        , ..., 0.00600224, 0.06201728,\n",
       "        0.        ],\n",
       "       [0.        , 0.        , 0.01254045, ..., 0.00108461, 0.        ,\n",
       "        0.        ],\n",
       "       [0.        , 0.        , 0.02090075, ..., 0.00180769, 0.        ,\n",
       "        0.        ],\n",
       "       ...,\n",
       "       [0.        , 0.        , 0.        , ..., 0.        , 0.        ,\n",
       "        0.00644332],\n",
       "       [0.        , 0.        , 0.        , ..., 0.        , 0.        ,\n",
       "        0.00644332],\n",
       "       [0.        , 0.        , 0.        , ..., 0.        , 0.        ,\n",
       "        0.00515466]])"
      ]
     },
     "execution_count": 141,
     "metadata": {},
     "output_type": "execute_result"
    }
   ],
   "source": [
    "item_predicted_ratings = np.dot((df_pivot.fillna(0).T),item_correlation)\n",
    "item_predicted_ratings"
   ]
  },
  {
   "cell_type": "code",
   "execution_count": 142,
   "id": "304ea89f",
   "metadata": {},
   "outputs": [
    {
     "data": {
      "text/plain": [
       "(18212, 255)"
      ]
     },
     "execution_count": 142,
     "metadata": {},
     "output_type": "execute_result"
    }
   ],
   "source": [
    "item_predicted_ratings.shape"
   ]
  },
  {
   "cell_type": "code",
   "execution_count": 143,
   "id": "c384ee01",
   "metadata": {},
   "outputs": [
    {
     "data": {
      "text/plain": [
       "(18212, 255)"
      ]
     },
     "execution_count": 143,
     "metadata": {},
     "output_type": "execute_result"
    }
   ],
   "source": [
    "dummy_train.shape"
   ]
  },
  {
   "cell_type": "code",
   "execution_count": 144,
   "id": "c7921086",
   "metadata": {},
   "outputs": [
    {
     "data": {
      "text/html": [
       "<div>\n",
       "<style scoped>\n",
       "    .dataframe tbody tr th:only-of-type {\n",
       "        vertical-align: middle;\n",
       "    }\n",
       "\n",
       "    .dataframe tbody tr th {\n",
       "        vertical-align: top;\n",
       "    }\n",
       "\n",
       "    .dataframe thead th {\n",
       "        text-align: right;\n",
       "    }\n",
       "</style>\n",
       "<table border=\"1\" class=\"dataframe\">\n",
       "  <thead>\n",
       "    <tr style=\"text-align: right;\">\n",
       "      <th>id</th>\n",
       "      <th>AV13O1A8GV-KLJ3akUyj</th>\n",
       "      <th>AV14LG0R-jtxr-f38QfS</th>\n",
       "      <th>AV16khLE-jtxr-f38VFn</th>\n",
       "      <th>AV1YGDqsGV-KLJ3adc-O</th>\n",
       "      <th>AV1YIch7GV-KLJ3addeG</th>\n",
       "      <th>AV1YlENIglJLPUi8IHsX</th>\n",
       "      <th>AV1YmBrdGV-KLJ3adewb</th>\n",
       "      <th>AV1YmDL9vKc47QAVgr7_</th>\n",
       "      <th>AV1Ymf_rglJLPUi8II2v</th>\n",
       "      <th>AV1Yn94nvKc47QAVgtst</th>\n",
       "      <th>...</th>\n",
       "      <th>AVpfr5cb1cnluZ0-pZFp</th>\n",
       "      <th>AVpfrFDZLJeJML43Bmv0</th>\n",
       "      <th>AVpfrTyiLJeJML43BrSI</th>\n",
       "      <th>AVpfrfHF1cnluZ0-pRai</th>\n",
       "      <th>AVpfrgjFLJeJML43BvCc</th>\n",
       "      <th>AVpfshNsLJeJML43CB8q</th>\n",
       "      <th>AVpfthSailAPnD_xg3ON</th>\n",
       "      <th>AVpftikC1cnluZ0-p31V</th>\n",
       "      <th>AVpfv4TlilAPnD_xhjNS</th>\n",
       "      <th>AVpfvieo1cnluZ0-qdnu</th>\n",
       "    </tr>\n",
       "    <tr>\n",
       "      <th>reviews_username</th>\n",
       "      <th></th>\n",
       "      <th></th>\n",
       "      <th></th>\n",
       "      <th></th>\n",
       "      <th></th>\n",
       "      <th></th>\n",
       "      <th></th>\n",
       "      <th></th>\n",
       "      <th></th>\n",
       "      <th></th>\n",
       "      <th></th>\n",
       "      <th></th>\n",
       "      <th></th>\n",
       "      <th></th>\n",
       "      <th></th>\n",
       "      <th></th>\n",
       "      <th></th>\n",
       "      <th></th>\n",
       "      <th></th>\n",
       "      <th></th>\n",
       "      <th></th>\n",
       "    </tr>\n",
       "  </thead>\n",
       "  <tbody>\n",
       "    <tr>\n",
       "      <th>00sab00</th>\n",
       "      <td>0.0</td>\n",
       "      <td>0.0</td>\n",
       "      <td>0.000000</td>\n",
       "      <td>0.000000</td>\n",
       "      <td>0.0</td>\n",
       "      <td>0.0</td>\n",
       "      <td>0.0</td>\n",
       "      <td>0.000000</td>\n",
       "      <td>0.000000</td>\n",
       "      <td>0.000000</td>\n",
       "      <td>...</td>\n",
       "      <td>0.011345</td>\n",
       "      <td>0.001677</td>\n",
       "      <td>0.0</td>\n",
       "      <td>0.010336</td>\n",
       "      <td>0.0</td>\n",
       "      <td>0.0</td>\n",
       "      <td>0.033075</td>\n",
       "      <td>0.006002</td>\n",
       "      <td>0.062017</td>\n",
       "      <td>0.000000</td>\n",
       "    </tr>\n",
       "    <tr>\n",
       "      <th>01impala</th>\n",
       "      <td>0.0</td>\n",
       "      <td>0.0</td>\n",
       "      <td>0.012540</td>\n",
       "      <td>0.000000</td>\n",
       "      <td>0.0</td>\n",
       "      <td>0.0</td>\n",
       "      <td>0.0</td>\n",
       "      <td>0.000000</td>\n",
       "      <td>0.000000</td>\n",
       "      <td>0.004564</td>\n",
       "      <td>...</td>\n",
       "      <td>0.000000</td>\n",
       "      <td>0.000000</td>\n",
       "      <td>0.0</td>\n",
       "      <td>0.000000</td>\n",
       "      <td>0.0</td>\n",
       "      <td>0.0</td>\n",
       "      <td>0.000000</td>\n",
       "      <td>0.001085</td>\n",
       "      <td>0.000000</td>\n",
       "      <td>0.000000</td>\n",
       "    </tr>\n",
       "    <tr>\n",
       "      <th>02dakota</th>\n",
       "      <td>0.0</td>\n",
       "      <td>0.0</td>\n",
       "      <td>0.020901</td>\n",
       "      <td>0.000000</td>\n",
       "      <td>0.0</td>\n",
       "      <td>0.0</td>\n",
       "      <td>0.0</td>\n",
       "      <td>0.000000</td>\n",
       "      <td>0.000000</td>\n",
       "      <td>0.007607</td>\n",
       "      <td>...</td>\n",
       "      <td>0.000000</td>\n",
       "      <td>0.000000</td>\n",
       "      <td>0.0</td>\n",
       "      <td>0.000000</td>\n",
       "      <td>0.0</td>\n",
       "      <td>0.0</td>\n",
       "      <td>0.000000</td>\n",
       "      <td>0.001808</td>\n",
       "      <td>0.000000</td>\n",
       "      <td>0.000000</td>\n",
       "    </tr>\n",
       "    <tr>\n",
       "      <th>02deuce</th>\n",
       "      <td>0.0</td>\n",
       "      <td>0.0</td>\n",
       "      <td>0.016721</td>\n",
       "      <td>0.000000</td>\n",
       "      <td>0.0</td>\n",
       "      <td>0.0</td>\n",
       "      <td>0.0</td>\n",
       "      <td>0.000000</td>\n",
       "      <td>0.000000</td>\n",
       "      <td>0.006085</td>\n",
       "      <td>...</td>\n",
       "      <td>0.000000</td>\n",
       "      <td>0.000000</td>\n",
       "      <td>0.0</td>\n",
       "      <td>0.000000</td>\n",
       "      <td>0.0</td>\n",
       "      <td>0.0</td>\n",
       "      <td>0.000000</td>\n",
       "      <td>0.001446</td>\n",
       "      <td>0.000000</td>\n",
       "      <td>0.000000</td>\n",
       "    </tr>\n",
       "    <tr>\n",
       "      <th>06stidriver</th>\n",
       "      <td>0.0</td>\n",
       "      <td>0.0</td>\n",
       "      <td>0.000000</td>\n",
       "      <td>0.000454</td>\n",
       "      <td>0.0</td>\n",
       "      <td>0.0</td>\n",
       "      <td>0.0</td>\n",
       "      <td>0.001731</td>\n",
       "      <td>0.001915</td>\n",
       "      <td>0.000000</td>\n",
       "      <td>...</td>\n",
       "      <td>0.000000</td>\n",
       "      <td>0.000000</td>\n",
       "      <td>0.0</td>\n",
       "      <td>0.003187</td>\n",
       "      <td>0.0</td>\n",
       "      <td>0.0</td>\n",
       "      <td>0.000000</td>\n",
       "      <td>0.000000</td>\n",
       "      <td>0.000000</td>\n",
       "      <td>0.006443</td>\n",
       "    </tr>\n",
       "  </tbody>\n",
       "</table>\n",
       "<p>5 rows × 255 columns</p>\n",
       "</div>"
      ],
      "text/plain": [
       "id                AV13O1A8GV-KLJ3akUyj  AV14LG0R-jtxr-f38QfS  \\\n",
       "reviews_username                                               \n",
       "00sab00                            0.0                   0.0   \n",
       "01impala                           0.0                   0.0   \n",
       "02dakota                           0.0                   0.0   \n",
       "02deuce                            0.0                   0.0   \n",
       "06stidriver                        0.0                   0.0   \n",
       "\n",
       "id                AV16khLE-jtxr-f38VFn  AV1YGDqsGV-KLJ3adc-O  \\\n",
       "reviews_username                                               \n",
       "00sab00                       0.000000              0.000000   \n",
       "01impala                      0.012540              0.000000   \n",
       "02dakota                      0.020901              0.000000   \n",
       "02deuce                       0.016721              0.000000   \n",
       "06stidriver                   0.000000              0.000454   \n",
       "\n",
       "id                AV1YIch7GV-KLJ3addeG  AV1YlENIglJLPUi8IHsX  \\\n",
       "reviews_username                                               \n",
       "00sab00                            0.0                   0.0   \n",
       "01impala                           0.0                   0.0   \n",
       "02dakota                           0.0                   0.0   \n",
       "02deuce                            0.0                   0.0   \n",
       "06stidriver                        0.0                   0.0   \n",
       "\n",
       "id                AV1YmBrdGV-KLJ3adewb  AV1YmDL9vKc47QAVgr7_  \\\n",
       "reviews_username                                               \n",
       "00sab00                            0.0              0.000000   \n",
       "01impala                           0.0              0.000000   \n",
       "02dakota                           0.0              0.000000   \n",
       "02deuce                            0.0              0.000000   \n",
       "06stidriver                        0.0              0.001731   \n",
       "\n",
       "id                AV1Ymf_rglJLPUi8II2v  AV1Yn94nvKc47QAVgtst  ...  \\\n",
       "reviews_username                                              ...   \n",
       "00sab00                       0.000000              0.000000  ...   \n",
       "01impala                      0.000000              0.004564  ...   \n",
       "02dakota                      0.000000              0.007607  ...   \n",
       "02deuce                       0.000000              0.006085  ...   \n",
       "06stidriver                   0.001915              0.000000  ...   \n",
       "\n",
       "id                AVpfr5cb1cnluZ0-pZFp  AVpfrFDZLJeJML43Bmv0  \\\n",
       "reviews_username                                               \n",
       "00sab00                       0.011345              0.001677   \n",
       "01impala                      0.000000              0.000000   \n",
       "02dakota                      0.000000              0.000000   \n",
       "02deuce                       0.000000              0.000000   \n",
       "06stidriver                   0.000000              0.000000   \n",
       "\n",
       "id                AVpfrTyiLJeJML43BrSI  AVpfrfHF1cnluZ0-pRai  \\\n",
       "reviews_username                                               \n",
       "00sab00                            0.0              0.010336   \n",
       "01impala                           0.0              0.000000   \n",
       "02dakota                           0.0              0.000000   \n",
       "02deuce                            0.0              0.000000   \n",
       "06stidriver                        0.0              0.003187   \n",
       "\n",
       "id                AVpfrgjFLJeJML43BvCc  AVpfshNsLJeJML43CB8q  \\\n",
       "reviews_username                                               \n",
       "00sab00                            0.0                   0.0   \n",
       "01impala                           0.0                   0.0   \n",
       "02dakota                           0.0                   0.0   \n",
       "02deuce                            0.0                   0.0   \n",
       "06stidriver                        0.0                   0.0   \n",
       "\n",
       "id                AVpfthSailAPnD_xg3ON  AVpftikC1cnluZ0-p31V  \\\n",
       "reviews_username                                               \n",
       "00sab00                       0.033075              0.006002   \n",
       "01impala                      0.000000              0.001085   \n",
       "02dakota                      0.000000              0.001808   \n",
       "02deuce                       0.000000              0.001446   \n",
       "06stidriver                   0.000000              0.000000   \n",
       "\n",
       "id                AVpfv4TlilAPnD_xhjNS  AVpfvieo1cnluZ0-qdnu  \n",
       "reviews_username                                              \n",
       "00sab00                       0.062017              0.000000  \n",
       "01impala                      0.000000              0.000000  \n",
       "02dakota                      0.000000              0.000000  \n",
       "02deuce                       0.000000              0.000000  \n",
       "06stidriver                   0.000000              0.006443  \n",
       "\n",
       "[5 rows x 255 columns]"
      ]
     },
     "execution_count": 144,
     "metadata": {},
     "output_type": "execute_result"
    }
   ],
   "source": [
    "item_final_rating = np.multiply(item_predicted_ratings,dummy_train)\n",
    "item_final_rating.head()"
   ]
  },
  {
   "cell_type": "code",
   "execution_count": 145,
   "id": "bc420f7d",
   "metadata": {},
   "outputs": [],
   "source": [
    "import pickle \n",
    "pickle.dump(item_final_rating,open('item_final_rating.pkl','wb'))"
   ]
  },
  {
   "cell_type": "code",
   "execution_count": 182,
   "id": "599e836a",
   "metadata": {},
   "outputs": [],
   "source": [
    "def top_20_item_recommendations(user_input):\n",
    "    item_final_rating_df=pd.read_pickle('item_final_rating.pkl')\n",
    "    product_mapping_df=pd.read_pickle('product_mapping.pkl')    \n",
    "    d = item_final_rating_df.loc[user_input].sort_values(ascending=False)[0:20]\n",
    "    d = pd.merge(d,product_mapping_df,left_on='id',right_on='id',how = 'left')   \n",
    "    return d"
   ]
  },
  {
   "cell_type": "code",
   "execution_count": 184,
   "id": "13a2702d",
   "metadata": {
    "scrolled": true
   },
   "outputs": [
    {
     "name": "stdout",
     "output_type": "stream",
     "text": [
      "Enter your user name : 02dakota\n"
     ]
    },
    {
     "data": {
      "text/html": [
       "<div>\n",
       "<style scoped>\n",
       "    .dataframe tbody tr th:only-of-type {\n",
       "        vertical-align: middle;\n",
       "    }\n",
       "\n",
       "    .dataframe tbody tr th {\n",
       "        vertical-align: top;\n",
       "    }\n",
       "\n",
       "    .dataframe thead th {\n",
       "        text-align: right;\n",
       "    }\n",
       "</style>\n",
       "<table border=\"1\" class=\"dataframe\">\n",
       "  <thead>\n",
       "    <tr style=\"text-align: right;\">\n",
       "      <th></th>\n",
       "      <th>id</th>\n",
       "      <th>02dakota</th>\n",
       "      <th>brand</th>\n",
       "      <th>categories</th>\n",
       "      <th>manufacturer</th>\n",
       "      <th>name</th>\n",
       "    </tr>\n",
       "  </thead>\n",
       "  <tbody>\n",
       "    <tr>\n",
       "      <th>0</th>\n",
       "      <td>AVpe8q4T1cnluZ0-afct</td>\n",
       "      <td>0.086113</td>\n",
       "      <td>Newman's Own Organics</td>\n",
       "      <td>Food,Packaged Foods,Candy,Soft Candy,Candy &amp; G...</td>\n",
       "      <td>Newman's Own</td>\n",
       "      <td>Newman's Own Organics Licorice Twist, Black 5oz</td>\n",
       "    </tr>\n",
       "    <tr>\n",
       "      <th>1</th>\n",
       "      <td>AVpe_5U_ilAPnD_xSrxG</td>\n",
       "      <td>0.059206</td>\n",
       "      <td>Sea Gull Lighting</td>\n",
       "      <td>Home,Home Decor,Lamps &amp; Lighting,Wall Lights,V...</td>\n",
       "      <td>Sea Gull Lighting</td>\n",
       "      <td>Sea Gull Lighting Six Light Bath Sconce/vanity...</td>\n",
       "    </tr>\n",
       "    <tr>\n",
       "      <th>2</th>\n",
       "      <td>AVpe41TqilAPnD_xQH3d</td>\n",
       "      <td>0.045578</td>\n",
       "      <td>FOX</td>\n",
       "      <td>Movies &amp; TV Shows,Movies,Romance,Romantic Come...</td>\n",
       "      <td>Twentieth Century Fox</td>\n",
       "      <td>Mike Dave Need Wedding Dates (dvd + Digital)</td>\n",
       "    </tr>\n",
       "    <tr>\n",
       "      <th>3</th>\n",
       "      <td>AV1ZSp2uglJLPUi8IQFy</td>\n",
       "      <td>0.041865</td>\n",
       "      <td>Cetaphil</td>\n",
       "      <td>Personal Care,Skin Care,Moisturizer,Beauty,Fac...</td>\n",
       "      <td>Cetaphil</td>\n",
       "      <td>Cetaphil Gentle Skin Cleanser, 2oz</td>\n",
       "    </tr>\n",
       "    <tr>\n",
       "      <th>4</th>\n",
       "      <td>AVpfOmKwLJeJML435GM7</td>\n",
       "      <td>0.036048</td>\n",
       "      <td>Clear Scalp &amp; Hair Therapy</td>\n",
       "      <td>Personal Care,Hair Care,Shampoo,Featured Brand...</td>\n",
       "      <td>Clear</td>\n",
       "      <td>Clear Scalp &amp; Hair Therapy Total Care Nourishi...</td>\n",
       "    </tr>\n",
       "    <tr>\n",
       "      <th>5</th>\n",
       "      <td>AVpfJcHuLJeJML433ZrY</td>\n",
       "      <td>0.029837</td>\n",
       "      <td>Lionsgate Home Entertainment</td>\n",
       "      <td>Movies, Music &amp; Books,Movies,Sci-Fi &amp; Fantasy,...</td>\n",
       "      <td>Lions Gate</td>\n",
       "      <td>Equals (blu-Ray)</td>\n",
       "    </tr>\n",
       "    <tr>\n",
       "      <th>6</th>\n",
       "      <td>AVpfRTh1ilAPnD_xYic2</td>\n",
       "      <td>0.027343</td>\n",
       "      <td>Disney</td>\n",
       "      <td>Movies, Music &amp; Books,Movies,Kids' &amp; Family,Wa...</td>\n",
       "      <td>Walt Disney</td>\n",
       "      <td>Planes: Fire Rescue (2 Discs) (includes Digita...</td>\n",
       "    </tr>\n",
       "    <tr>\n",
       "      <th>7</th>\n",
       "      <td>AVpfQtEm1cnluZ0-hUpe</td>\n",
       "      <td>0.025843</td>\n",
       "      <td>Jolly Time</td>\n",
       "      <td>Food,Packaged Foods,Snacks,Popcorn,Packaged Co...</td>\n",
       "      <td>American Pop Corn Co.</td>\n",
       "      <td>Jolly Time Select Premium Yellow Pop Corn</td>\n",
       "    </tr>\n",
       "    <tr>\n",
       "      <th>8</th>\n",
       "      <td>AVpf7LysilAPnD_xkm9G</td>\n",
       "      <td>0.022634</td>\n",
       "      <td>Cuisinart</td>\n",
       "      <td>Kitchen &amp; Dining,Kitchen Appliances,Juicers,Ap...</td>\n",
       "      <td>CUISINART</td>\n",
       "      <td>Cuisinart174 Electric Juicer - Stainless Steel...</td>\n",
       "    </tr>\n",
       "    <tr>\n",
       "      <th>9</th>\n",
       "      <td>AV16khLE-jtxr-f38VFn</td>\n",
       "      <td>0.020901</td>\n",
       "      <td>K-Y</td>\n",
       "      <td>Personal Care,Medicine Cabinet,Lubricant/Sperm...</td>\n",
       "      <td>K-Y</td>\n",
       "      <td>K-Y Love Sensuality Pleasure Gel</td>\n",
       "    </tr>\n",
       "    <tr>\n",
       "      <th>10</th>\n",
       "      <td>AVpfbraG1cnluZ0-kqnn</td>\n",
       "      <td>0.018723</td>\n",
       "      <td>KIND</td>\n",
       "      <td>Food,Packaged Foods,Snacks,Cereal Bars and Gra...</td>\n",
       "      <td>Kind Fruit and Nut Bars</td>\n",
       "      <td>Kind Nut Delight Bar</td>\n",
       "    </tr>\n",
       "    <tr>\n",
       "      <th>11</th>\n",
       "      <td>AVpfOIrkilAPnD_xXgDG</td>\n",
       "      <td>0.017143</td>\n",
       "      <td>Summit Entertainment</td>\n",
       "      <td>Movies &amp; TV Shows,Instawatch Movies By VUDU,In...</td>\n",
       "      <td>NaN</td>\n",
       "      <td>Alex Cross (dvdvideo)</td>\n",
       "    </tr>\n",
       "    <tr>\n",
       "      <th>12</th>\n",
       "      <td>AVpfDI3xilAPnD_xTz-k</td>\n",
       "      <td>0.016994</td>\n",
       "      <td>Nielsen</td>\n",
       "      <td>Home,Home Decor,Frames &amp; Display Boxes,Decor,F...</td>\n",
       "      <td>Valmont</td>\n",
       "      <td>Black Front Loading Frame Set (8.5x11) Set Of 12</td>\n",
       "    </tr>\n",
       "    <tr>\n",
       "      <th>13</th>\n",
       "      <td>AVpe4hlXLJeJML43xbrB</td>\n",
       "      <td>0.016991</td>\n",
       "      <td>Hawaiian Punch</td>\n",
       "      <td>Food,Packaged Foods,Drinks,Juices,Fruit Flavor...</td>\n",
       "      <td>Dr Pepper/Seven Up, Inc</td>\n",
       "      <td>Hawaiian Punch Berry Limeade Blast Juice</td>\n",
       "    </tr>\n",
       "    <tr>\n",
       "      <th>14</th>\n",
       "      <td>AVpfAkX91cnluZ0-b4d8</td>\n",
       "      <td>0.016538</td>\n",
       "      <td>L'Oreal Paris</td>\n",
       "      <td>Personal Care,Makeup,Concealer &amp; Foundation,Fo...</td>\n",
       "      <td>L'OREAL SA</td>\n",
       "      <td>L'oreal Paris Visible Lift Smooth Absolute, Na...</td>\n",
       "    </tr>\n",
       "    <tr>\n",
       "      <th>15</th>\n",
       "      <td>AVpfnRuSilAPnD_xfB8l</td>\n",
       "      <td>0.016462</td>\n",
       "      <td>Yes to Grapefruit</td>\n",
       "      <td>Personal Care,Bath, Shower &amp; Soap,Body Wash &amp; ...</td>\n",
       "      <td>Yes To, Inc</td>\n",
       "      <td>Yes To Grapefruit Rejuvenating Body Wash</td>\n",
       "    </tr>\n",
       "    <tr>\n",
       "      <th>16</th>\n",
       "      <td>AVpe8dHWLJeJML43y4uG</td>\n",
       "      <td>0.016170</td>\n",
       "      <td>Sabra</td>\n",
       "      <td>Home,Home Improvement,Home Safety &amp; Security,A...</td>\n",
       "      <td>SABRE SECURITY EQUIPMENT CORPORATION</td>\n",
       "      <td>Sabre 2 Pack Door And Window Alarm</td>\n",
       "    </tr>\n",
       "    <tr>\n",
       "      <th>17</th>\n",
       "      <td>AVpf7I3i1cnluZ0-tnL6</td>\n",
       "      <td>0.014430</td>\n",
       "      <td>Mrs. Meyer's</td>\n",
       "      <td>Household Essentials,Cleaning Supplies,Natural...</td>\n",
       "      <td>SC JOHNSON</td>\n",
       "      <td>Mrs. Meyer's174 Lemon Verbena Laundry Scent Bo...</td>\n",
       "    </tr>\n",
       "    <tr>\n",
       "      <th>18</th>\n",
       "      <td>AV1Ys0kTvKc47QAVgx1C</td>\n",
       "      <td>0.013818</td>\n",
       "      <td>Meguiars</td>\n",
       "      <td>Home,Home Improvement,Automotive,Car Cleaning,...</td>\n",
       "      <td>Parts</td>\n",
       "      <td>Meguiar's Deep Crystal Car Wash 64-Oz.</td>\n",
       "    </tr>\n",
       "    <tr>\n",
       "      <th>19</th>\n",
       "      <td>AVpfpM2yilAPnD_xfmDG</td>\n",
       "      <td>0.011584</td>\n",
       "      <td>Ragu</td>\n",
       "      <td>Food,Packaged Foods,Condiments, Dips, &amp; Salad ...</td>\n",
       "      <td>Unilever</td>\n",
       "      <td>Ragu Traditional Pasta Sauce</td>\n",
       "    </tr>\n",
       "  </tbody>\n",
       "</table>\n",
       "</div>"
      ],
      "text/plain": [
       "                      id  02dakota                         brand  \\\n",
       "0   AVpe8q4T1cnluZ0-afct  0.086113         Newman's Own Organics   \n",
       "1   AVpe_5U_ilAPnD_xSrxG  0.059206             Sea Gull Lighting   \n",
       "2   AVpe41TqilAPnD_xQH3d  0.045578                           FOX   \n",
       "3   AV1ZSp2uglJLPUi8IQFy  0.041865                      Cetaphil   \n",
       "4   AVpfOmKwLJeJML435GM7  0.036048    Clear Scalp & Hair Therapy   \n",
       "5   AVpfJcHuLJeJML433ZrY  0.029837  Lionsgate Home Entertainment   \n",
       "6   AVpfRTh1ilAPnD_xYic2  0.027343                        Disney   \n",
       "7   AVpfQtEm1cnluZ0-hUpe  0.025843                    Jolly Time   \n",
       "8   AVpf7LysilAPnD_xkm9G  0.022634                     Cuisinart   \n",
       "9   AV16khLE-jtxr-f38VFn  0.020901                           K-Y   \n",
       "10  AVpfbraG1cnluZ0-kqnn  0.018723                          KIND   \n",
       "11  AVpfOIrkilAPnD_xXgDG  0.017143          Summit Entertainment   \n",
       "12  AVpfDI3xilAPnD_xTz-k  0.016994                       Nielsen   \n",
       "13  AVpe4hlXLJeJML43xbrB  0.016991                Hawaiian Punch   \n",
       "14  AVpfAkX91cnluZ0-b4d8  0.016538                 L'Oreal Paris   \n",
       "15  AVpfnRuSilAPnD_xfB8l  0.016462             Yes to Grapefruit   \n",
       "16  AVpe8dHWLJeJML43y4uG  0.016170                         Sabra   \n",
       "17  AVpf7I3i1cnluZ0-tnL6  0.014430                  Mrs. Meyer's   \n",
       "18  AV1Ys0kTvKc47QAVgx1C  0.013818                      Meguiars   \n",
       "19  AVpfpM2yilAPnD_xfmDG  0.011584                          Ragu   \n",
       "\n",
       "                                           categories  \\\n",
       "0   Food,Packaged Foods,Candy,Soft Candy,Candy & G...   \n",
       "1   Home,Home Decor,Lamps & Lighting,Wall Lights,V...   \n",
       "2   Movies & TV Shows,Movies,Romance,Romantic Come...   \n",
       "3   Personal Care,Skin Care,Moisturizer,Beauty,Fac...   \n",
       "4   Personal Care,Hair Care,Shampoo,Featured Brand...   \n",
       "5   Movies, Music & Books,Movies,Sci-Fi & Fantasy,...   \n",
       "6   Movies, Music & Books,Movies,Kids' & Family,Wa...   \n",
       "7   Food,Packaged Foods,Snacks,Popcorn,Packaged Co...   \n",
       "8   Kitchen & Dining,Kitchen Appliances,Juicers,Ap...   \n",
       "9   Personal Care,Medicine Cabinet,Lubricant/Sperm...   \n",
       "10  Food,Packaged Foods,Snacks,Cereal Bars and Gra...   \n",
       "11  Movies & TV Shows,Instawatch Movies By VUDU,In...   \n",
       "12  Home,Home Decor,Frames & Display Boxes,Decor,F...   \n",
       "13  Food,Packaged Foods,Drinks,Juices,Fruit Flavor...   \n",
       "14  Personal Care,Makeup,Concealer & Foundation,Fo...   \n",
       "15  Personal Care,Bath, Shower & Soap,Body Wash & ...   \n",
       "16  Home,Home Improvement,Home Safety & Security,A...   \n",
       "17  Household Essentials,Cleaning Supplies,Natural...   \n",
       "18  Home,Home Improvement,Automotive,Car Cleaning,...   \n",
       "19  Food,Packaged Foods,Condiments, Dips, & Salad ...   \n",
       "\n",
       "                            manufacturer  \\\n",
       "0                           Newman's Own   \n",
       "1                      Sea Gull Lighting   \n",
       "2                  Twentieth Century Fox   \n",
       "3                               Cetaphil   \n",
       "4                                  Clear   \n",
       "5                             Lions Gate   \n",
       "6                            Walt Disney   \n",
       "7                  American Pop Corn Co.   \n",
       "8                              CUISINART   \n",
       "9                                    K-Y   \n",
       "10               Kind Fruit and Nut Bars   \n",
       "11                                   NaN   \n",
       "12                               Valmont   \n",
       "13               Dr Pepper/Seven Up, Inc   \n",
       "14                            L'OREAL SA   \n",
       "15                           Yes To, Inc   \n",
       "16  SABRE SECURITY EQUIPMENT CORPORATION   \n",
       "17                            SC JOHNSON   \n",
       "18                                 Parts   \n",
       "19                              Unilever   \n",
       "\n",
       "                                                 name  \n",
       "0     Newman's Own Organics Licorice Twist, Black 5oz  \n",
       "1   Sea Gull Lighting Six Light Bath Sconce/vanity...  \n",
       "2        Mike Dave Need Wedding Dates (dvd + Digital)  \n",
       "3                  Cetaphil Gentle Skin Cleanser, 2oz  \n",
       "4   Clear Scalp & Hair Therapy Total Care Nourishi...  \n",
       "5                                    Equals (blu-Ray)  \n",
       "6   Planes: Fire Rescue (2 Discs) (includes Digita...  \n",
       "7           Jolly Time Select Premium Yellow Pop Corn  \n",
       "8   Cuisinart174 Electric Juicer - Stainless Steel...  \n",
       "9                    K-Y Love Sensuality Pleasure Gel  \n",
       "10                               Kind Nut Delight Bar  \n",
       "11                              Alex Cross (dvdvideo)  \n",
       "12   Black Front Loading Frame Set (8.5x11) Set Of 12  \n",
       "13           Hawaiian Punch Berry Limeade Blast Juice  \n",
       "14  L'oreal Paris Visible Lift Smooth Absolute, Na...  \n",
       "15           Yes To Grapefruit Rejuvenating Body Wash  \n",
       "16                 Sabre 2 Pack Door And Window Alarm  \n",
       "17  Mrs. Meyer's174 Lemon Verbena Laundry Scent Bo...  \n",
       "18             Meguiar's Deep Crystal Car Wash 64-Oz.  \n",
       "19                       Ragu Traditional Pasta Sauce  "
      ]
     },
     "execution_count": 184,
     "metadata": {},
     "output_type": "execute_result"
    }
   ],
   "source": [
    "user_input = input(\"Enter your user name : \")\n",
    "top_20_item_recommendations(user_input)"
   ]
  },
  {
   "cell_type": "markdown",
   "id": "58179e77",
   "metadata": {},
   "source": [
    "#### Item based prediction & evaluation"
   ]
  },
  {
   "cell_type": "code",
   "execution_count": 151,
   "id": "3e7dfc9e",
   "metadata": {},
   "outputs": [
    {
     "data": {
      "text/plain": [
       "(8964, 15)"
      ]
     },
     "execution_count": 151,
     "metadata": {},
     "output_type": "execute_result"
    }
   ],
   "source": [
    "common =  test[test.id.isin(train.id)]\n",
    "common.shape"
   ]
  },
  {
   "cell_type": "code",
   "execution_count": 152,
   "id": "c3092098",
   "metadata": {},
   "outputs": [
    {
     "data": {
      "text/html": [
       "<div>\n",
       "<style scoped>\n",
       "    .dataframe tbody tr th:only-of-type {\n",
       "        vertical-align: middle;\n",
       "    }\n",
       "\n",
       "    .dataframe tbody tr th {\n",
       "        vertical-align: top;\n",
       "    }\n",
       "\n",
       "    .dataframe thead th {\n",
       "        text-align: right;\n",
       "    }\n",
       "</style>\n",
       "<table border=\"1\" class=\"dataframe\">\n",
       "  <thead>\n",
       "    <tr style=\"text-align: right;\">\n",
       "      <th></th>\n",
       "      <th>id</th>\n",
       "      <th>brand</th>\n",
       "      <th>categories</th>\n",
       "      <th>manufacturer</th>\n",
       "      <th>name</th>\n",
       "      <th>reviews_date</th>\n",
       "      <th>reviews_didPurchase</th>\n",
       "      <th>reviews_doRecommend</th>\n",
       "      <th>reviews_rating</th>\n",
       "      <th>reviews_text</th>\n",
       "      <th>reviews_title</th>\n",
       "      <th>reviews_userCity</th>\n",
       "      <th>reviews_userProvince</th>\n",
       "      <th>reviews_username</th>\n",
       "      <th>user_sentiment</th>\n",
       "    </tr>\n",
       "  </thead>\n",
       "  <tbody>\n",
       "    <tr>\n",
       "      <th>21384</th>\n",
       "      <td>AVpfm8yiLJeJML43AYyu</td>\n",
       "      <td>Nexxus</td>\n",
       "      <td>Personal Care,Hair Care,Styling Gel/Lotion,Bea...</td>\n",
       "      <td>Nexxus Beauty Products</td>\n",
       "      <td>Nexxus Exxtra Gel Style Creation Sculptor</td>\n",
       "      <td>2015-03-19T00:00:00.000Z</td>\n",
       "      <td>False</td>\n",
       "      <td>False</td>\n",
       "      <td>1</td>\n",
       "      <td>I bought this gel that I have been using for o...</td>\n",
       "      <td>Bad Hair Day!!!</td>\n",
       "      <td>NaN</td>\n",
       "      <td>NaN</td>\n",
       "      <td>curlyd</td>\n",
       "      <td>Positive</td>\n",
       "    </tr>\n",
       "    <tr>\n",
       "      <th>14483</th>\n",
       "      <td>AVpf3VOfilAPnD_xjpun</td>\n",
       "      <td>Clorox</td>\n",
       "      <td>Household Essentials,Cleaning Supplies,Kitchen...</td>\n",
       "      <td>Clorox</td>\n",
       "      <td>Clorox Disinfecting Wipes Value Pack Scented 1...</td>\n",
       "      <td>2015-02-16T00:00:00.000Z</td>\n",
       "      <td>False</td>\n",
       "      <td>True</td>\n",
       "      <td>5</td>\n",
       "      <td>It's prefect and convenient for a fast clean. ...</td>\n",
       "      <td>LOVE IT</td>\n",
       "      <td>NaN</td>\n",
       "      <td>NaN</td>\n",
       "      <td>prip</td>\n",
       "      <td>Positive</td>\n",
       "    </tr>\n",
       "    <tr>\n",
       "      <th>21169</th>\n",
       "      <td>AVpfm8yiLJeJML43AYyu</td>\n",
       "      <td>Nexxus</td>\n",
       "      <td>Personal Care,Hair Care,Styling Gel/Lotion,Bea...</td>\n",
       "      <td>Nexxus Beauty Products</td>\n",
       "      <td>Nexxus Exxtra Gel Style Creation Sculptor</td>\n",
       "      <td>2015-04-13T00:00:00.000Z</td>\n",
       "      <td>False</td>\n",
       "      <td>False</td>\n",
       "      <td>1</td>\n",
       "      <td>What happened The old formula was one of the b...</td>\n",
       "      <td>Truly awful!</td>\n",
       "      <td>NaN</td>\n",
       "      <td>NaN</td>\n",
       "      <td>jjjj</td>\n",
       "      <td>Positive</td>\n",
       "    </tr>\n",
       "    <tr>\n",
       "      <th>25411</th>\n",
       "      <td>AVpfPaoqLJeJML435Xk9</td>\n",
       "      <td>Warner Home Video</td>\n",
       "      <td>Movies, Music &amp; Books,Movies,Action &amp; Adventur...</td>\n",
       "      <td>Test</td>\n",
       "      <td>Godzilla 3d Includes Digital Copy Ultraviolet ...</td>\n",
       "      <td>2014-10-19T00:00:00.000Z</td>\n",
       "      <td>NaN</td>\n",
       "      <td>True</td>\n",
       "      <td>5</td>\n",
       "      <td>If you`ve are into monster movies, you have to...</td>\n",
       "      <td>Godzilla 2014 nuff said!!!</td>\n",
       "      <td>NaN</td>\n",
       "      <td>NaN</td>\n",
       "      <td>internetfreak69</td>\n",
       "      <td>Positive</td>\n",
       "    </tr>\n",
       "    <tr>\n",
       "      <th>20351</th>\n",
       "      <td>AVpfJP1C1cnluZ0-e3Xy</td>\n",
       "      <td>Clorox</td>\n",
       "      <td>Household Chemicals,Household Cleaners,Bath &amp; ...</td>\n",
       "      <td>AmazonUs/CLOO7</td>\n",
       "      <td>Clorox Disinfecting Bathroom Cleaner</td>\n",
       "      <td>2012-01-26T00:00:00.000Z</td>\n",
       "      <td>False</td>\n",
       "      <td>True</td>\n",
       "      <td>5</td>\n",
       "      <td>Makes cleaning so much easier and smells great...</td>\n",
       "      <td>Love it!!</td>\n",
       "      <td>NaN</td>\n",
       "      <td>NaN</td>\n",
       "      <td>hb6851</td>\n",
       "      <td>Positive</td>\n",
       "    </tr>\n",
       "  </tbody>\n",
       "</table>\n",
       "</div>"
      ],
      "text/plain": [
       "                         id              brand  \\\n",
       "21384  AVpfm8yiLJeJML43AYyu             Nexxus   \n",
       "14483  AVpf3VOfilAPnD_xjpun             Clorox   \n",
       "21169  AVpfm8yiLJeJML43AYyu             Nexxus   \n",
       "25411  AVpfPaoqLJeJML435Xk9  Warner Home Video   \n",
       "20351  AVpfJP1C1cnluZ0-e3Xy             Clorox   \n",
       "\n",
       "                                              categories  \\\n",
       "21384  Personal Care,Hair Care,Styling Gel/Lotion,Bea...   \n",
       "14483  Household Essentials,Cleaning Supplies,Kitchen...   \n",
       "21169  Personal Care,Hair Care,Styling Gel/Lotion,Bea...   \n",
       "25411  Movies, Music & Books,Movies,Action & Adventur...   \n",
       "20351  Household Chemicals,Household Cleaners,Bath & ...   \n",
       "\n",
       "                 manufacturer  \\\n",
       "21384  Nexxus Beauty Products   \n",
       "14483                  Clorox   \n",
       "21169  Nexxus Beauty Products   \n",
       "25411                    Test   \n",
       "20351          AmazonUs/CLOO7   \n",
       "\n",
       "                                                    name  \\\n",
       "21384          Nexxus Exxtra Gel Style Creation Sculptor   \n",
       "14483  Clorox Disinfecting Wipes Value Pack Scented 1...   \n",
       "21169          Nexxus Exxtra Gel Style Creation Sculptor   \n",
       "25411  Godzilla 3d Includes Digital Copy Ultraviolet ...   \n",
       "20351               Clorox Disinfecting Bathroom Cleaner   \n",
       "\n",
       "                   reviews_date reviews_didPurchase reviews_doRecommend  \\\n",
       "21384  2015-03-19T00:00:00.000Z               False               False   \n",
       "14483  2015-02-16T00:00:00.000Z               False                True   \n",
       "21169  2015-04-13T00:00:00.000Z               False               False   \n",
       "25411  2014-10-19T00:00:00.000Z                 NaN                True   \n",
       "20351  2012-01-26T00:00:00.000Z               False                True   \n",
       "\n",
       "       reviews_rating                                       reviews_text  \\\n",
       "21384               1  I bought this gel that I have been using for o...   \n",
       "14483               5  It's prefect and convenient for a fast clean. ...   \n",
       "21169               1  What happened The old formula was one of the b...   \n",
       "25411               5  If you`ve are into monster movies, you have to...   \n",
       "20351               5  Makes cleaning so much easier and smells great...   \n",
       "\n",
       "                    reviews_title reviews_userCity reviews_userProvince  \\\n",
       "21384             Bad Hair Day!!!              NaN                  NaN   \n",
       "14483                     LOVE IT              NaN                  NaN   \n",
       "21169                Truly awful!              NaN                  NaN   \n",
       "25411  Godzilla 2014 nuff said!!!              NaN                  NaN   \n",
       "20351                   Love it!!              NaN                  NaN   \n",
       "\n",
       "      reviews_username user_sentiment  \n",
       "21384           curlyd       Positive  \n",
       "14483             prip       Positive  \n",
       "21169             jjjj       Positive  \n",
       "25411  internetfreak69       Positive  \n",
       "20351           hb6851       Positive  "
      ]
     },
     "execution_count": 152,
     "metadata": {},
     "output_type": "execute_result"
    }
   ],
   "source": [
    "common.head()"
   ]
  },
  {
   "cell_type": "code",
   "execution_count": 153,
   "id": "d786c2c7",
   "metadata": {},
   "outputs": [],
   "source": [
    "common_item_based_matrix = common.pivot_table(index='reviews_username', columns='id', values='reviews_rating').T"
   ]
  },
  {
   "cell_type": "code",
   "execution_count": 154,
   "id": "06c2d3e7",
   "metadata": {},
   "outputs": [
    {
     "data": {
      "text/plain": [
       "(203, 8348)"
      ]
     },
     "execution_count": 154,
     "metadata": {},
     "output_type": "execute_result"
    }
   ],
   "source": [
    "common_item_based_matrix.shape"
   ]
  },
  {
   "cell_type": "code",
   "execution_count": 155,
   "id": "c1a371ca",
   "metadata": {},
   "outputs": [],
   "source": [
    "item_correlation_df = pd.DataFrame(item_correlation)"
   ]
  },
  {
   "cell_type": "code",
   "execution_count": 156,
   "id": "8470dd6f",
   "metadata": {},
   "outputs": [
    {
     "data": {
      "text/html": [
       "<div>\n",
       "<style scoped>\n",
       "    .dataframe tbody tr th:only-of-type {\n",
       "        vertical-align: middle;\n",
       "    }\n",
       "\n",
       "    .dataframe tbody tr th {\n",
       "        vertical-align: top;\n",
       "    }\n",
       "\n",
       "    .dataframe thead th {\n",
       "        text-align: right;\n",
       "    }\n",
       "</style>\n",
       "<table border=\"1\" class=\"dataframe\">\n",
       "  <thead>\n",
       "    <tr style=\"text-align: right;\">\n",
       "      <th></th>\n",
       "      <th>0</th>\n",
       "      <th>1</th>\n",
       "      <th>2</th>\n",
       "      <th>3</th>\n",
       "      <th>4</th>\n",
       "      <th>5</th>\n",
       "      <th>6</th>\n",
       "      <th>7</th>\n",
       "      <th>8</th>\n",
       "      <th>9</th>\n",
       "      <th>...</th>\n",
       "      <th>245</th>\n",
       "      <th>246</th>\n",
       "      <th>247</th>\n",
       "      <th>248</th>\n",
       "      <th>249</th>\n",
       "      <th>250</th>\n",
       "      <th>251</th>\n",
       "      <th>252</th>\n",
       "      <th>253</th>\n",
       "      <th>254</th>\n",
       "    </tr>\n",
       "  </thead>\n",
       "  <tbody>\n",
       "    <tr>\n",
       "      <th>0</th>\n",
       "      <td>0.0</td>\n",
       "      <td>0.0</td>\n",
       "      <td>0.0</td>\n",
       "      <td>0.0</td>\n",
       "      <td>0.0</td>\n",
       "      <td>0.0</td>\n",
       "      <td>0.0</td>\n",
       "      <td>0.0</td>\n",
       "      <td>0.0</td>\n",
       "      <td>0.0</td>\n",
       "      <td>...</td>\n",
       "      <td>0.0</td>\n",
       "      <td>0.0</td>\n",
       "      <td>0.0</td>\n",
       "      <td>0.0</td>\n",
       "      <td>0.0</td>\n",
       "      <td>0.0</td>\n",
       "      <td>0.0</td>\n",
       "      <td>0.0</td>\n",
       "      <td>0.0</td>\n",
       "      <td>0.0</td>\n",
       "    </tr>\n",
       "  </tbody>\n",
       "</table>\n",
       "<p>1 rows × 255 columns</p>\n",
       "</div>"
      ],
      "text/plain": [
       "   0    1    2    3    4    5    6    7    8    9    ...  245  246  247  248  \\\n",
       "0  0.0  0.0  0.0  0.0  0.0  0.0  0.0  0.0  0.0  0.0  ...  0.0  0.0  0.0  0.0   \n",
       "\n",
       "   249  250  251  252  253  254  \n",
       "0  0.0  0.0  0.0  0.0  0.0  0.0  \n",
       "\n",
       "[1 rows x 255 columns]"
      ]
     },
     "execution_count": 156,
     "metadata": {},
     "output_type": "execute_result"
    }
   ],
   "source": [
    "item_correlation_df.head(1)"
   ]
  },
  {
   "cell_type": "code",
   "execution_count": 157,
   "id": "efe1cb62",
   "metadata": {},
   "outputs": [
    {
     "data": {
      "text/html": [
       "<div>\n",
       "<style scoped>\n",
       "    .dataframe tbody tr th:only-of-type {\n",
       "        vertical-align: middle;\n",
       "    }\n",
       "\n",
       "    .dataframe tbody tr th {\n",
       "        vertical-align: top;\n",
       "    }\n",
       "\n",
       "    .dataframe thead th {\n",
       "        text-align: right;\n",
       "    }\n",
       "</style>\n",
       "<table border=\"1\" class=\"dataframe\">\n",
       "  <thead>\n",
       "    <tr style=\"text-align: right;\">\n",
       "      <th></th>\n",
       "      <th>0</th>\n",
       "      <th>1</th>\n",
       "      <th>2</th>\n",
       "      <th>3</th>\n",
       "      <th>4</th>\n",
       "      <th>5</th>\n",
       "      <th>6</th>\n",
       "      <th>7</th>\n",
       "      <th>8</th>\n",
       "      <th>9</th>\n",
       "      <th>...</th>\n",
       "      <th>245</th>\n",
       "      <th>246</th>\n",
       "      <th>247</th>\n",
       "      <th>248</th>\n",
       "      <th>249</th>\n",
       "      <th>250</th>\n",
       "      <th>251</th>\n",
       "      <th>252</th>\n",
       "      <th>253</th>\n",
       "      <th>254</th>\n",
       "    </tr>\n",
       "    <tr>\n",
       "      <th>id</th>\n",
       "      <th></th>\n",
       "      <th></th>\n",
       "      <th></th>\n",
       "      <th></th>\n",
       "      <th></th>\n",
       "      <th></th>\n",
       "      <th></th>\n",
       "      <th></th>\n",
       "      <th></th>\n",
       "      <th></th>\n",
       "      <th></th>\n",
       "      <th></th>\n",
       "      <th></th>\n",
       "      <th></th>\n",
       "      <th></th>\n",
       "      <th></th>\n",
       "      <th></th>\n",
       "      <th></th>\n",
       "      <th></th>\n",
       "      <th></th>\n",
       "      <th></th>\n",
       "    </tr>\n",
       "  </thead>\n",
       "  <tbody>\n",
       "    <tr>\n",
       "      <th>AV13O1A8GV-KLJ3akUyj</th>\n",
       "      <td>0.0</td>\n",
       "      <td>0.0</td>\n",
       "      <td>0.0</td>\n",
       "      <td>0.0</td>\n",
       "      <td>0.0</td>\n",
       "      <td>0.0</td>\n",
       "      <td>0.0</td>\n",
       "      <td>0.0</td>\n",
       "      <td>0.0</td>\n",
       "      <td>0.0</td>\n",
       "      <td>...</td>\n",
       "      <td>0.000000</td>\n",
       "      <td>0.0</td>\n",
       "      <td>0.0</td>\n",
       "      <td>0.0</td>\n",
       "      <td>0.0</td>\n",
       "      <td>0.0</td>\n",
       "      <td>0.0</td>\n",
       "      <td>0.000000</td>\n",
       "      <td>0.0</td>\n",
       "      <td>0.0</td>\n",
       "    </tr>\n",
       "    <tr>\n",
       "      <th>AV14LG0R-jtxr-f38QfS</th>\n",
       "      <td>0.0</td>\n",
       "      <td>0.0</td>\n",
       "      <td>0.0</td>\n",
       "      <td>0.0</td>\n",
       "      <td>0.0</td>\n",
       "      <td>0.0</td>\n",
       "      <td>0.0</td>\n",
       "      <td>0.0</td>\n",
       "      <td>0.0</td>\n",
       "      <td>0.0</td>\n",
       "      <td>...</td>\n",
       "      <td>0.000000</td>\n",
       "      <td>0.0</td>\n",
       "      <td>0.0</td>\n",
       "      <td>0.0</td>\n",
       "      <td>0.0</td>\n",
       "      <td>0.0</td>\n",
       "      <td>0.0</td>\n",
       "      <td>0.000000</td>\n",
       "      <td>0.0</td>\n",
       "      <td>0.0</td>\n",
       "    </tr>\n",
       "    <tr>\n",
       "      <th>AV16khLE-jtxr-f38VFn</th>\n",
       "      <td>0.0</td>\n",
       "      <td>0.0</td>\n",
       "      <td>1.0</td>\n",
       "      <td>0.0</td>\n",
       "      <td>0.0</td>\n",
       "      <td>0.0</td>\n",
       "      <td>0.0</td>\n",
       "      <td>0.0</td>\n",
       "      <td>0.0</td>\n",
       "      <td>0.0</td>\n",
       "      <td>...</td>\n",
       "      <td>0.013954</td>\n",
       "      <td>0.0</td>\n",
       "      <td>0.0</td>\n",
       "      <td>0.0</td>\n",
       "      <td>0.0</td>\n",
       "      <td>0.0</td>\n",
       "      <td>0.0</td>\n",
       "      <td>0.000000</td>\n",
       "      <td>0.0</td>\n",
       "      <td>0.0</td>\n",
       "    </tr>\n",
       "    <tr>\n",
       "      <th>AV1YGDqsGV-KLJ3adc-O</th>\n",
       "      <td>0.0</td>\n",
       "      <td>0.0</td>\n",
       "      <td>0.0</td>\n",
       "      <td>1.0</td>\n",
       "      <td>0.0</td>\n",
       "      <td>0.0</td>\n",
       "      <td>0.0</td>\n",
       "      <td>0.0</td>\n",
       "      <td>0.0</td>\n",
       "      <td>0.0</td>\n",
       "      <td>...</td>\n",
       "      <td>0.078102</td>\n",
       "      <td>0.0</td>\n",
       "      <td>0.0</td>\n",
       "      <td>0.0</td>\n",
       "      <td>0.0</td>\n",
       "      <td>0.0</td>\n",
       "      <td>0.0</td>\n",
       "      <td>0.001989</td>\n",
       "      <td>0.0</td>\n",
       "      <td>0.0</td>\n",
       "    </tr>\n",
       "    <tr>\n",
       "      <th>AV1YIch7GV-KLJ3addeG</th>\n",
       "      <td>0.0</td>\n",
       "      <td>0.0</td>\n",
       "      <td>0.0</td>\n",
       "      <td>0.0</td>\n",
       "      <td>0.0</td>\n",
       "      <td>0.0</td>\n",
       "      <td>0.0</td>\n",
       "      <td>0.0</td>\n",
       "      <td>0.0</td>\n",
       "      <td>0.0</td>\n",
       "      <td>...</td>\n",
       "      <td>0.000000</td>\n",
       "      <td>0.0</td>\n",
       "      <td>0.0</td>\n",
       "      <td>0.0</td>\n",
       "      <td>0.0</td>\n",
       "      <td>0.0</td>\n",
       "      <td>0.0</td>\n",
       "      <td>0.000000</td>\n",
       "      <td>0.0</td>\n",
       "      <td>0.0</td>\n",
       "    </tr>\n",
       "  </tbody>\n",
       "</table>\n",
       "<p>5 rows × 255 columns</p>\n",
       "</div>"
      ],
      "text/plain": [
       "                      0    1    2    3    4    5    6    7    8    9    ...  \\\n",
       "id                                                                      ...   \n",
       "AV13O1A8GV-KLJ3akUyj  0.0  0.0  0.0  0.0  0.0  0.0  0.0  0.0  0.0  0.0  ...   \n",
       "AV14LG0R-jtxr-f38QfS  0.0  0.0  0.0  0.0  0.0  0.0  0.0  0.0  0.0  0.0  ...   \n",
       "AV16khLE-jtxr-f38VFn  0.0  0.0  1.0  0.0  0.0  0.0  0.0  0.0  0.0  0.0  ...   \n",
       "AV1YGDqsGV-KLJ3adc-O  0.0  0.0  0.0  1.0  0.0  0.0  0.0  0.0  0.0  0.0  ...   \n",
       "AV1YIch7GV-KLJ3addeG  0.0  0.0  0.0  0.0  0.0  0.0  0.0  0.0  0.0  0.0  ...   \n",
       "\n",
       "                           245  246  247  248  249  250  251       252  253  \\\n",
       "id                                                                            \n",
       "AV13O1A8GV-KLJ3akUyj  0.000000  0.0  0.0  0.0  0.0  0.0  0.0  0.000000  0.0   \n",
       "AV14LG0R-jtxr-f38QfS  0.000000  0.0  0.0  0.0  0.0  0.0  0.0  0.000000  0.0   \n",
       "AV16khLE-jtxr-f38VFn  0.013954  0.0  0.0  0.0  0.0  0.0  0.0  0.000000  0.0   \n",
       "AV1YGDqsGV-KLJ3adc-O  0.078102  0.0  0.0  0.0  0.0  0.0  0.0  0.001989  0.0   \n",
       "AV1YIch7GV-KLJ3addeG  0.000000  0.0  0.0  0.0  0.0  0.0  0.0  0.000000  0.0   \n",
       "\n",
       "                      254  \n",
       "id                         \n",
       "AV13O1A8GV-KLJ3akUyj  0.0  \n",
       "AV14LG0R-jtxr-f38QfS  0.0  \n",
       "AV16khLE-jtxr-f38VFn  0.0  \n",
       "AV1YGDqsGV-KLJ3adc-O  0.0  \n",
       "AV1YIch7GV-KLJ3addeG  0.0  \n",
       "\n",
       "[5 rows x 255 columns]"
      ]
     },
     "execution_count": 157,
     "metadata": {},
     "output_type": "execute_result"
    }
   ],
   "source": [
    "item_correlation_df['id'] = df_subtracted.index\n",
    "item_correlation_df.set_index('id',inplace=True)\n",
    "item_correlation_df.head()"
   ]
  },
  {
   "cell_type": "code",
   "execution_count": 158,
   "id": "cd59a149",
   "metadata": {},
   "outputs": [],
   "source": [
    "list_name = common.id.tolist()"
   ]
  },
  {
   "cell_type": "code",
   "execution_count": 159,
   "id": "2c70cb69",
   "metadata": {},
   "outputs": [],
   "source": [
    "item_correlation_df.columns = df_subtracted.index.tolist()\n",
    "\n",
    "item_correlation_df_1 =  item_correlation_df[item_correlation_df.index.isin(list_name)]"
   ]
  },
  {
   "cell_type": "code",
   "execution_count": 160,
   "id": "0cf2ea50",
   "metadata": {},
   "outputs": [],
   "source": [
    "item_correlation_df_2 = item_correlation_df_1.T[item_correlation_df_1.T.index.isin(list_name)]\n",
    "\n",
    "item_correlation_df_3 = item_correlation_df_2.T"
   ]
  },
  {
   "cell_type": "code",
   "execution_count": 161,
   "id": "3b12b2ee",
   "metadata": {},
   "outputs": [
    {
     "data": {
      "text/html": [
       "<div>\n",
       "<style scoped>\n",
       "    .dataframe tbody tr th:only-of-type {\n",
       "        vertical-align: middle;\n",
       "    }\n",
       "\n",
       "    .dataframe tbody tr th {\n",
       "        vertical-align: top;\n",
       "    }\n",
       "\n",
       "    .dataframe thead th {\n",
       "        text-align: right;\n",
       "    }\n",
       "</style>\n",
       "<table border=\"1\" class=\"dataframe\">\n",
       "  <thead>\n",
       "    <tr style=\"text-align: right;\">\n",
       "      <th></th>\n",
       "      <th>AV16khLE-jtxr-f38VFn</th>\n",
       "      <th>AV1YGDqsGV-KLJ3adc-O</th>\n",
       "      <th>AV1YlENIglJLPUi8IHsX</th>\n",
       "      <th>AV1YmBrdGV-KLJ3adewb</th>\n",
       "      <th>AV1YmDL9vKc47QAVgr7_</th>\n",
       "      <th>AV1Ymf_rglJLPUi8II2v</th>\n",
       "      <th>AV1Yn94nvKc47QAVgtst</th>\n",
       "      <th>AV1Ynb3bglJLPUi8IJxJ</th>\n",
       "      <th>AV1YneDPglJLPUi8IJyQ</th>\n",
       "      <th>AV1YqAaMGV-KLJ3adiDj</th>\n",
       "      <th>...</th>\n",
       "      <th>AVpfqW4WilAPnD_xf7a_</th>\n",
       "      <th>AVpfr5cb1cnluZ0-pZFp</th>\n",
       "      <th>AVpfrFDZLJeJML43Bmv0</th>\n",
       "      <th>AVpfrTyiLJeJML43BrSI</th>\n",
       "      <th>AVpfrfHF1cnluZ0-pRai</th>\n",
       "      <th>AVpfrgjFLJeJML43BvCc</th>\n",
       "      <th>AVpfthSailAPnD_xg3ON</th>\n",
       "      <th>AVpftikC1cnluZ0-p31V</th>\n",
       "      <th>AVpfv4TlilAPnD_xhjNS</th>\n",
       "      <th>AVpfvieo1cnluZ0-qdnu</th>\n",
       "    </tr>\n",
       "    <tr>\n",
       "      <th>id</th>\n",
       "      <th></th>\n",
       "      <th></th>\n",
       "      <th></th>\n",
       "      <th></th>\n",
       "      <th></th>\n",
       "      <th></th>\n",
       "      <th></th>\n",
       "      <th></th>\n",
       "      <th></th>\n",
       "      <th></th>\n",
       "      <th></th>\n",
       "      <th></th>\n",
       "      <th></th>\n",
       "      <th></th>\n",
       "      <th></th>\n",
       "      <th></th>\n",
       "      <th></th>\n",
       "      <th></th>\n",
       "      <th></th>\n",
       "      <th></th>\n",
       "      <th></th>\n",
       "    </tr>\n",
       "  </thead>\n",
       "  <tbody>\n",
       "    <tr>\n",
       "      <th>AV16khLE-jtxr-f38VFn</th>\n",
       "      <td>1.0</td>\n",
       "      <td>0.0</td>\n",
       "      <td>0.0</td>\n",
       "      <td>0.0</td>\n",
       "      <td>0.0</td>\n",
       "      <td>0.0</td>\n",
       "      <td>0.0</td>\n",
       "      <td>0.0</td>\n",
       "      <td>0.000000</td>\n",
       "      <td>0.0</td>\n",
       "      <td>...</td>\n",
       "      <td>0.0</td>\n",
       "      <td>0.013954</td>\n",
       "      <td>0.0</td>\n",
       "      <td>0.0</td>\n",
       "      <td>0.0</td>\n",
       "      <td>0.0</td>\n",
       "      <td>0.0</td>\n",
       "      <td>0.000000</td>\n",
       "      <td>0.0</td>\n",
       "      <td>0.0</td>\n",
       "    </tr>\n",
       "    <tr>\n",
       "      <th>AV1YGDqsGV-KLJ3adc-O</th>\n",
       "      <td>0.0</td>\n",
       "      <td>1.0</td>\n",
       "      <td>0.0</td>\n",
       "      <td>0.0</td>\n",
       "      <td>0.0</td>\n",
       "      <td>0.0</td>\n",
       "      <td>0.0</td>\n",
       "      <td>0.0</td>\n",
       "      <td>0.003657</td>\n",
       "      <td>0.0</td>\n",
       "      <td>...</td>\n",
       "      <td>0.0</td>\n",
       "      <td>0.078102</td>\n",
       "      <td>0.0</td>\n",
       "      <td>0.0</td>\n",
       "      <td>0.0</td>\n",
       "      <td>0.0</td>\n",
       "      <td>0.0</td>\n",
       "      <td>0.001989</td>\n",
       "      <td>0.0</td>\n",
       "      <td>0.0</td>\n",
       "    </tr>\n",
       "    <tr>\n",
       "      <th>AV1YlENIglJLPUi8IHsX</th>\n",
       "      <td>0.0</td>\n",
       "      <td>0.0</td>\n",
       "      <td>1.0</td>\n",
       "      <td>0.0</td>\n",
       "      <td>0.0</td>\n",
       "      <td>0.0</td>\n",
       "      <td>0.0</td>\n",
       "      <td>0.0</td>\n",
       "      <td>0.000000</td>\n",
       "      <td>0.0</td>\n",
       "      <td>...</td>\n",
       "      <td>0.0</td>\n",
       "      <td>0.000000</td>\n",
       "      <td>0.0</td>\n",
       "      <td>0.0</td>\n",
       "      <td>0.0</td>\n",
       "      <td>0.0</td>\n",
       "      <td>0.0</td>\n",
       "      <td>0.000000</td>\n",
       "      <td>0.0</td>\n",
       "      <td>0.0</td>\n",
       "    </tr>\n",
       "    <tr>\n",
       "      <th>AV1YmBrdGV-KLJ3adewb</th>\n",
       "      <td>0.0</td>\n",
       "      <td>0.0</td>\n",
       "      <td>0.0</td>\n",
       "      <td>1.0</td>\n",
       "      <td>0.0</td>\n",
       "      <td>0.0</td>\n",
       "      <td>0.0</td>\n",
       "      <td>0.0</td>\n",
       "      <td>0.000000</td>\n",
       "      <td>0.0</td>\n",
       "      <td>...</td>\n",
       "      <td>0.0</td>\n",
       "      <td>0.000000</td>\n",
       "      <td>0.0</td>\n",
       "      <td>0.0</td>\n",
       "      <td>0.0</td>\n",
       "      <td>0.0</td>\n",
       "      <td>0.0</td>\n",
       "      <td>0.000000</td>\n",
       "      <td>0.0</td>\n",
       "      <td>0.0</td>\n",
       "    </tr>\n",
       "    <tr>\n",
       "      <th>AV1YmDL9vKc47QAVgr7_</th>\n",
       "      <td>0.0</td>\n",
       "      <td>0.0</td>\n",
       "      <td>0.0</td>\n",
       "      <td>0.0</td>\n",
       "      <td>1.0</td>\n",
       "      <td>0.0</td>\n",
       "      <td>0.0</td>\n",
       "      <td>0.0</td>\n",
       "      <td>0.000000</td>\n",
       "      <td>0.0</td>\n",
       "      <td>...</td>\n",
       "      <td>0.0</td>\n",
       "      <td>0.000000</td>\n",
       "      <td>0.0</td>\n",
       "      <td>0.0</td>\n",
       "      <td>0.0</td>\n",
       "      <td>0.0</td>\n",
       "      <td>0.0</td>\n",
       "      <td>0.000000</td>\n",
       "      <td>0.0</td>\n",
       "      <td>0.0</td>\n",
       "    </tr>\n",
       "  </tbody>\n",
       "</table>\n",
       "<p>5 rows × 203 columns</p>\n",
       "</div>"
      ],
      "text/plain": [
       "                      AV16khLE-jtxr-f38VFn  AV1YGDqsGV-KLJ3adc-O  \\\n",
       "id                                                                 \n",
       "AV16khLE-jtxr-f38VFn                   1.0                   0.0   \n",
       "AV1YGDqsGV-KLJ3adc-O                   0.0                   1.0   \n",
       "AV1YlENIglJLPUi8IHsX                   0.0                   0.0   \n",
       "AV1YmBrdGV-KLJ3adewb                   0.0                   0.0   \n",
       "AV1YmDL9vKc47QAVgr7_                   0.0                   0.0   \n",
       "\n",
       "                      AV1YlENIglJLPUi8IHsX  AV1YmBrdGV-KLJ3adewb  \\\n",
       "id                                                                 \n",
       "AV16khLE-jtxr-f38VFn                   0.0                   0.0   \n",
       "AV1YGDqsGV-KLJ3adc-O                   0.0                   0.0   \n",
       "AV1YlENIglJLPUi8IHsX                   1.0                   0.0   \n",
       "AV1YmBrdGV-KLJ3adewb                   0.0                   1.0   \n",
       "AV1YmDL9vKc47QAVgr7_                   0.0                   0.0   \n",
       "\n",
       "                      AV1YmDL9vKc47QAVgr7_  AV1Ymf_rglJLPUi8II2v  \\\n",
       "id                                                                 \n",
       "AV16khLE-jtxr-f38VFn                   0.0                   0.0   \n",
       "AV1YGDqsGV-KLJ3adc-O                   0.0                   0.0   \n",
       "AV1YlENIglJLPUi8IHsX                   0.0                   0.0   \n",
       "AV1YmBrdGV-KLJ3adewb                   0.0                   0.0   \n",
       "AV1YmDL9vKc47QAVgr7_                   1.0                   0.0   \n",
       "\n",
       "                      AV1Yn94nvKc47QAVgtst  AV1Ynb3bglJLPUi8IJxJ  \\\n",
       "id                                                                 \n",
       "AV16khLE-jtxr-f38VFn                   0.0                   0.0   \n",
       "AV1YGDqsGV-KLJ3adc-O                   0.0                   0.0   \n",
       "AV1YlENIglJLPUi8IHsX                   0.0                   0.0   \n",
       "AV1YmBrdGV-KLJ3adewb                   0.0                   0.0   \n",
       "AV1YmDL9vKc47QAVgr7_                   0.0                   0.0   \n",
       "\n",
       "                      AV1YneDPglJLPUi8IJyQ  AV1YqAaMGV-KLJ3adiDj  ...  \\\n",
       "id                                                                ...   \n",
       "AV16khLE-jtxr-f38VFn              0.000000                   0.0  ...   \n",
       "AV1YGDqsGV-KLJ3adc-O              0.003657                   0.0  ...   \n",
       "AV1YlENIglJLPUi8IHsX              0.000000                   0.0  ...   \n",
       "AV1YmBrdGV-KLJ3adewb              0.000000                   0.0  ...   \n",
       "AV1YmDL9vKc47QAVgr7_              0.000000                   0.0  ...   \n",
       "\n",
       "                      AVpfqW4WilAPnD_xf7a_  AVpfr5cb1cnluZ0-pZFp  \\\n",
       "id                                                                 \n",
       "AV16khLE-jtxr-f38VFn                   0.0              0.013954   \n",
       "AV1YGDqsGV-KLJ3adc-O                   0.0              0.078102   \n",
       "AV1YlENIglJLPUi8IHsX                   0.0              0.000000   \n",
       "AV1YmBrdGV-KLJ3adewb                   0.0              0.000000   \n",
       "AV1YmDL9vKc47QAVgr7_                   0.0              0.000000   \n",
       "\n",
       "                      AVpfrFDZLJeJML43Bmv0  AVpfrTyiLJeJML43BrSI  \\\n",
       "id                                                                 \n",
       "AV16khLE-jtxr-f38VFn                   0.0                   0.0   \n",
       "AV1YGDqsGV-KLJ3adc-O                   0.0                   0.0   \n",
       "AV1YlENIglJLPUi8IHsX                   0.0                   0.0   \n",
       "AV1YmBrdGV-KLJ3adewb                   0.0                   0.0   \n",
       "AV1YmDL9vKc47QAVgr7_                   0.0                   0.0   \n",
       "\n",
       "                      AVpfrfHF1cnluZ0-pRai  AVpfrgjFLJeJML43BvCc  \\\n",
       "id                                                                 \n",
       "AV16khLE-jtxr-f38VFn                   0.0                   0.0   \n",
       "AV1YGDqsGV-KLJ3adc-O                   0.0                   0.0   \n",
       "AV1YlENIglJLPUi8IHsX                   0.0                   0.0   \n",
       "AV1YmBrdGV-KLJ3adewb                   0.0                   0.0   \n",
       "AV1YmDL9vKc47QAVgr7_                   0.0                   0.0   \n",
       "\n",
       "                      AVpfthSailAPnD_xg3ON  AVpftikC1cnluZ0-p31V  \\\n",
       "id                                                                 \n",
       "AV16khLE-jtxr-f38VFn                   0.0              0.000000   \n",
       "AV1YGDqsGV-KLJ3adc-O                   0.0              0.001989   \n",
       "AV1YlENIglJLPUi8IHsX                   0.0              0.000000   \n",
       "AV1YmBrdGV-KLJ3adewb                   0.0              0.000000   \n",
       "AV1YmDL9vKc47QAVgr7_                   0.0              0.000000   \n",
       "\n",
       "                      AVpfv4TlilAPnD_xhjNS  AVpfvieo1cnluZ0-qdnu  \n",
       "id                                                                \n",
       "AV16khLE-jtxr-f38VFn                   0.0                   0.0  \n",
       "AV1YGDqsGV-KLJ3adc-O                   0.0                   0.0  \n",
       "AV1YlENIglJLPUi8IHsX                   0.0                   0.0  \n",
       "AV1YmBrdGV-KLJ3adewb                   0.0                   0.0  \n",
       "AV1YmDL9vKc47QAVgr7_                   0.0                   0.0  \n",
       "\n",
       "[5 rows x 203 columns]"
      ]
     },
     "execution_count": 161,
     "metadata": {},
     "output_type": "execute_result"
    }
   ],
   "source": [
    "item_correlation_df_3.head()"
   ]
  },
  {
   "cell_type": "code",
   "execution_count": 162,
   "id": "0daa3cb6",
   "metadata": {},
   "outputs": [
    {
     "data": {
      "text/plain": [
       "array([[0.        , 0.        , 0.        , ..., 0.        , 0.        ,\n",
       "        0.        ],\n",
       "       [0.02105944, 0.00045358, 0.00036287, ..., 0.00045358, 0.00018143,\n",
       "        0.        ],\n",
       "       [0.        , 0.        , 0.        , ..., 0.        , 0.        ,\n",
       "        0.        ],\n",
       "       ...,\n",
       "       [0.        , 0.        , 0.        , ..., 0.        , 0.        ,\n",
       "        0.00733409],\n",
       "       [0.        , 0.        , 0.        , ..., 0.        , 0.        ,\n",
       "        0.10336214],\n",
       "       [0.        , 0.00644332, 0.00515466, ..., 0.00644332, 0.00257733,\n",
       "        0.        ]])"
      ]
     },
     "execution_count": 162,
     "metadata": {},
     "output_type": "execute_result"
    }
   ],
   "source": [
    "item_correlation_df_3[item_correlation_df_3<0]=0\n",
    "\n",
    "common_item_predicted_ratings = np.dot(item_correlation_df_3, common_item_based_matrix.fillna(0))\n",
    "common_item_predicted_ratings"
   ]
  },
  {
   "cell_type": "code",
   "execution_count": 163,
   "id": "7b35fb29",
   "metadata": {},
   "outputs": [
    {
     "data": {
      "text/plain": [
       "(203, 8348)"
      ]
     },
     "execution_count": 163,
     "metadata": {},
     "output_type": "execute_result"
    }
   ],
   "source": [
    "common_item_predicted_ratings.shape"
   ]
  },
  {
   "cell_type": "code",
   "execution_count": 164,
   "id": "5746d1be",
   "metadata": {},
   "outputs": [],
   "source": [
    "dummy_test = common.copy()\n",
    "\n",
    "dummy_test['reviews_rating'] = dummy_test['reviews_rating'].apply(lambda x: 1 if x>=1 else 0)\n",
    "\n",
    "dummy_test = dummy_test.pivot_table(index='reviews_username', columns='id', values='reviews_rating').T.fillna(0)\n",
    "\n",
    "common_item_predicted_ratings = np.multiply(common_item_predicted_ratings,dummy_test)"
   ]
  },
  {
   "cell_type": "code",
   "execution_count": 165,
   "id": "61b16657",
   "metadata": {},
   "outputs": [],
   "source": [
    "common_ = common.pivot_table(index='reviews_username', columns='id', values='reviews_rating').T"
   ]
  },
  {
   "cell_type": "code",
   "execution_count": 166,
   "id": "aedcaa26",
   "metadata": {},
   "outputs": [
    {
     "name": "stdout",
     "output_type": "stream",
     "text": [
      "MinMaxScaler(feature_range=(1, 5))\n",
      "[[nan nan nan ... nan nan nan]\n",
      " [nan nan nan ... nan nan nan]\n",
      " [nan nan nan ... nan nan nan]\n",
      " ...\n",
      " [nan nan nan ... nan nan nan]\n",
      " [nan nan nan ... nan nan nan]\n",
      " [nan nan nan ... nan nan nan]]\n"
     ]
    }
   ],
   "source": [
    "from sklearn.preprocessing import MinMaxScaler\n",
    "from numpy import *\n",
    "\n",
    "X  = common_item_predicted_ratings.copy() \n",
    "X = X[X>0]\n",
    "\n",
    "scaler = MinMaxScaler(feature_range=(1, 5))\n",
    "print(scaler.fit(X))\n",
    "y = (scaler.transform(X))\n",
    "\n",
    "print(y)"
   ]
  },
  {
   "cell_type": "code",
   "execution_count": 167,
   "id": "523b6d1d",
   "metadata": {},
   "outputs": [],
   "source": [
    "# Finding total non-NaN value\n",
    "total_non_nan = np.count_nonzero(~np.isnan(y))"
   ]
  },
  {
   "cell_type": "code",
   "execution_count": 168,
   "id": "04f9892f",
   "metadata": {},
   "outputs": [
    {
     "name": "stdout",
     "output_type": "stream",
     "text": [
      "3.5776631107239676\n"
     ]
    }
   ],
   "source": [
    "rmse = (sum(sum((common_ - y )**2))/total_non_nan)**0.5\n",
    "print(rmse)"
   ]
  },
  {
   "cell_type": "markdown",
   "id": "c5e0fc2f",
   "metadata": {},
   "source": [
    "Insight:\n",
    "    \n",
    "    - The RMSE is more for the Item based recommendation model as compared to the User based recommendation model.\n",
    "    - Hence, the best suited model here is the one where error is less : User based recommendation model "
   ]
  },
  {
   "cell_type": "code",
   "execution_count": null,
   "id": "178d68cf",
   "metadata": {},
   "outputs": [],
   "source": []
  }
 ],
 "metadata": {
  "kernelspec": {
   "display_name": "Python 3 (ipykernel)",
   "language": "python",
   "name": "python3"
  },
  "language_info": {
   "codemirror_mode": {
    "name": "ipython",
    "version": 3
   },
   "file_extension": ".py",
   "mimetype": "text/x-python",
   "name": "python",
   "nbconvert_exporter": "python",
   "pygments_lexer": "ipython3",
   "version": "3.9.12"
  }
 },
 "nbformat": 4,
 "nbformat_minor": 5
}
